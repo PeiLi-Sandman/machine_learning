{
 "cells": [
  {
   "cell_type": "code",
   "execution_count": 1,
   "metadata": {},
   "outputs": [
    {
     "name": "stderr",
     "output_type": "stream",
     "text": [
      "Using TensorFlow backend.\n"
     ]
    }
   ],
   "source": [
    "from keras.datasets import cifar10\n",
    "(x_train, y_train), (x_test, y_test) = cifar10.load_data()"
   ]
  },
  {
   "cell_type": "code",
   "execution_count": 2,
   "metadata": {},
   "outputs": [],
   "source": [
    "from __future__ import print_function\n",
    "import keras\n",
    "from keras.preprocessing.image import ImageDataGenerator\n",
    "from keras.models import Sequential\n",
    "from keras.layers import Dense, Dropout, Activation, Flatten\n",
    "from keras.layers import Conv2D, MaxPooling2D\n",
    "from keras.preprocessing.image import ImageDataGenerator\n",
    "import matplotlib.pyplot as plt"
   ]
  },
  {
   "cell_type": "code",
   "execution_count": 3,
   "metadata": {},
   "outputs": [],
   "source": [
    "batch_size = 32\n",
    "num_classes = 10\n",
    "epochs = 30"
   ]
  },
  {
   "cell_type": "code",
   "execution_count": 37,
   "metadata": {},
   "outputs": [],
   "source": [
    "y_train = keras.utils.to_categorical(y_train, num_classes)\n",
    "y_test = keras.utils.to_categorical(y_test, num_classes)"
   ]
  },
  {
   "cell_type": "code",
   "execution_count": 4,
   "metadata": {},
   "outputs": [],
   "source": [
    "x_train = x_train.astype('float32')\n",
    "x_test = x_test.astype('float32')\n",
    "x_train /= 255\n",
    "x_test /= 255"
   ]
  },
  {
   "cell_type": "markdown",
   "metadata": {},
   "source": [
    "# Model 1"
   ]
  },
  {
   "cell_type": "markdown",
   "metadata": {},
   "source": [
    "Model 1 is a very simple convolutional neural network"
   ]
  },
  {
   "cell_type": "code",
   "execution_count": 185,
   "metadata": {},
   "outputs": [],
   "source": [
    "model1 = Sequential()\n",
    "model1.add(Conv2D(32, (3, 3), padding='same',\n",
    "                 input_shape=x_train.shape[1:]))\n",
    "model1.add(Activation('relu'))\n",
    "model1.add(MaxPooling2D(pool_size=(2, 2)))\n",
    "\n",
    "model1.add(Conv2D(32, (3, 3), padding='same'))\n",
    "model1.add(Activation('relu'))\n",
    "model1.add(MaxPooling2D(pool_size=(2, 2)))\n",
    "\n",
    "model1.add(Conv2D(32, (3, 3), padding='same'))\n",
    "model1.add(Activation('relu'))\n",
    "model1.add(MaxPooling2D(pool_size=(2, 2)))\n",
    "\n",
    "model1.add(Flatten())\n",
    "model1.add(Dense(512))\n",
    "model1.add(Activation('relu'))\n",
    "\n",
    "model1.add(Dense(num_classes))\n",
    "model1.add(Activation('softmax'))"
   ]
  },
  {
   "cell_type": "code",
   "execution_count": 186,
   "metadata": {},
   "outputs": [],
   "source": [
    "model1.compile(loss='categorical_crossentropy',\n",
    "              optimizer='SGD',\n",
    "              metrics=['accuracy'])"
   ]
  },
  {
   "cell_type": "code",
   "execution_count": 187,
   "metadata": {
    "scrolled": false
   },
   "outputs": [
    {
     "name": "stdout",
     "output_type": "stream",
     "text": [
      "Train on 40000 samples, validate on 10000 samples\n",
      "Epoch 1/30\n",
      "40000/40000 [==============================] - 7s 183us/step - loss: 2.0324 - acc: 0.2625 - val_loss: 1.7971 - val_acc: 0.3733\n",
      "Epoch 2/30\n",
      "40000/40000 [==============================] - 6s 153us/step - loss: 1.6949 - acc: 0.3938 - val_loss: 1.5630 - val_acc: 0.4431\n",
      "Epoch 3/30\n",
      "40000/40000 [==============================] - 7s 167us/step - loss: 1.5082 - acc: 0.4578 - val_loss: 1.4632 - val_acc: 0.4732\n",
      "Epoch 4/30\n",
      "40000/40000 [==============================] - 7s 169us/step - loss: 1.4036 - acc: 0.4986 - val_loss: 1.3917 - val_acc: 0.5023\n",
      "Epoch 5/30\n",
      "40000/40000 [==============================] - 7s 173us/step - loss: 1.3252 - acc: 0.5258 - val_loss: 1.3327 - val_acc: 0.5236\n",
      "Epoch 6/30\n",
      "40000/40000 [==============================] - 6s 155us/step - loss: 1.2561 - acc: 0.5557 - val_loss: 1.2577 - val_acc: 0.5594\n",
      "Epoch 7/30\n",
      "40000/40000 [==============================] - 6s 146us/step - loss: 1.1962 - acc: 0.5755 - val_loss: 1.2378 - val_acc: 0.5654\n",
      "Epoch 8/30\n",
      "40000/40000 [==============================] - 6s 149us/step - loss: 1.1354 - acc: 0.5975 - val_loss: 1.2011 - val_acc: 0.5724\n",
      "Epoch 9/30\n",
      "40000/40000 [==============================] - 6s 149us/step - loss: 1.0817 - acc: 0.6200 - val_loss: 1.1195 - val_acc: 0.6125\n",
      "Epoch 10/30\n",
      "40000/40000 [==============================] - 6s 150us/step - loss: 1.0320 - acc: 0.6362 - val_loss: 1.0941 - val_acc: 0.6214\n",
      "Epoch 11/30\n",
      "40000/40000 [==============================] - 6s 152us/step - loss: 0.9851 - acc: 0.6535 - val_loss: 1.0376 - val_acc: 0.6489\n",
      "Epoch 12/30\n",
      "40000/40000 [==============================] - 6s 145us/step - loss: 0.9401 - acc: 0.6687 - val_loss: 1.0113 - val_acc: 0.6524\n",
      "Epoch 13/30\n",
      "40000/40000 [==============================] - 6s 146us/step - loss: 0.8988 - acc: 0.6860 - val_loss: 1.0625 - val_acc: 0.6353\n",
      "Epoch 14/30\n",
      "40000/40000 [==============================] - 6s 146us/step - loss: 0.8588 - acc: 0.6999 - val_loss: 0.9729 - val_acc: 0.6733\n",
      "Epoch 15/30\n",
      "40000/40000 [==============================] - 6s 146us/step - loss: 0.8205 - acc: 0.7123 - val_loss: 0.9795 - val_acc: 0.6726\n",
      "Epoch 16/30\n",
      "40000/40000 [==============================] - 6s 146us/step - loss: 0.7819 - acc: 0.7266 - val_loss: 0.9629 - val_acc: 0.6695\n",
      "Epoch 17/30\n",
      "40000/40000 [==============================] - 6s 143us/step - loss: 0.7504 - acc: 0.7391 - val_loss: 0.9852 - val_acc: 0.6686\n",
      "Epoch 18/30\n",
      "40000/40000 [==============================] - 6s 146us/step - loss: 0.7137 - acc: 0.7534 - val_loss: 0.9517 - val_acc: 0.6793\n",
      "Epoch 19/30\n",
      "40000/40000 [==============================] - 6s 148us/step - loss: 0.6769 - acc: 0.7656 - val_loss: 0.9463 - val_acc: 0.6802\n",
      "Epoch 20/30\n",
      "40000/40000 [==============================] - 6s 149us/step - loss: 0.6501 - acc: 0.7724 - val_loss: 0.9384 - val_acc: 0.6944\n",
      "Epoch 21/30\n",
      "40000/40000 [==============================] - 6s 153us/step - loss: 0.6142 - acc: 0.7865 - val_loss: 0.9723 - val_acc: 0.6820\n",
      "Epoch 22/30\n",
      "40000/40000 [==============================] - 7s 168us/step - loss: 0.5835 - acc: 0.7976 - val_loss: 0.9669 - val_acc: 0.6872\n",
      "Epoch 23/30\n",
      "40000/40000 [==============================] - 6s 146us/step - loss: 0.5506 - acc: 0.8088 - val_loss: 0.9668 - val_acc: 0.6883\n",
      "Epoch 24/30\n",
      "40000/40000 [==============================] - 6s 144us/step - loss: 0.5215 - acc: 0.8187 - val_loss: 0.9816 - val_acc: 0.6981\n",
      "Epoch 25/30\n",
      "40000/40000 [==============================] - 6s 148us/step - loss: 0.4902 - acc: 0.8288 - val_loss: 0.9716 - val_acc: 0.6994\n",
      "Epoch 26/30\n",
      "40000/40000 [==============================] - 6s 144us/step - loss: 0.4558 - acc: 0.8422 - val_loss: 1.0098 - val_acc: 0.6874\n",
      "Epoch 27/30\n",
      "40000/40000 [==============================] - 6s 146us/step - loss: 0.4216 - acc: 0.8520 - val_loss: 1.0501 - val_acc: 0.6879\n",
      "Epoch 28/30\n",
      "40000/40000 [==============================] - 6s 149us/step - loss: 0.3949 - acc: 0.8629 - val_loss: 1.0399 - val_acc: 0.6988\n",
      "Epoch 29/30\n",
      "40000/40000 [==============================] - 6s 152us/step - loss: 0.3669 - acc: 0.8714 - val_loss: 1.0975 - val_acc: 0.6875\n",
      "Epoch 30/30\n",
      "40000/40000 [==============================] - 7s 172us/step - loss: 0.3369 - acc: 0.8840 - val_loss: 1.1588 - val_acc: 0.6878\n"
     ]
    }
   ],
   "source": [
    "history1 = model1.fit(x_train, y_train,\n",
    "          batch_size=batch_size,\n",
    "          epochs=epochs,\n",
    "          validation_split=0.2,\n",
    "          shuffle=True)"
   ]
  },
  {
   "cell_type": "code",
   "execution_count": 200,
   "metadata": {},
   "outputs": [
    {
     "name": "stdout",
     "output_type": "stream",
     "text": [
      "10000/10000 [==============================] - 1s 74us/step\n",
      "The accuracy of model 1 for test data is: 67.92%\n"
     ]
    }
   ],
   "source": [
    "result1 = model1.evaluate(x_test, y_test, batch_size=batch_size, verbose=1)\n",
    "test_acc_1 = result1[1]\n",
    "print('The accuracy of model 1 for test data is: {}%'.format(test_acc_1*100))"
   ]
  },
  {
   "cell_type": "code",
   "execution_count": 201,
   "metadata": {},
   "outputs": [
    {
     "data": {
      "image/png": "[encoded data removed]",
      "text/plain": [
       "<Figure size 432x288 with 1 Axes>"
      ]
     },
     "metadata": {
      "needs_background": "light"
     },
     "output_type": "display_data"
    }
   ],
   "source": [
    "# summarize history for accuracy\n",
    "plt.plot(history1.history['acc'])\n",
    "plt.plot(history1.history['val_acc'])\n",
    "plt.title('model accuracy')\n",
    "plt.ylabel('accuracy')\n",
    "plt.xlabel('epoch')\n",
    "plt.legend(['train', 'valid'], loc='upper left')\n",
    "plt.show()"
   ]
  },
  {
   "cell_type": "code",
   "execution_count": 202,
   "metadata": {},
   "outputs": [
    {
     "data": {
      "image/png": "[encoded data removed]",
      "text/plain": [
       "<Figure size 432x288 with 1 Axes>"
      ]
     },
     "metadata": {
      "needs_background": "light"
     },
     "output_type": "display_data"
    }
   ],
   "source": [
    "# summarize history for loss\n",
    "plt.plot(history1.history['loss'])\n",
    "plt.plot(history1.history['val_loss'])\n",
    "plt.title('model loss')\n",
    "plt.ylabel('loss')\n",
    "plt.xlabel('epoch')\n",
    "plt.legend(['train', 'valid'], loc='upper left')\n",
    "plt.show()"
   ]
  },
  {
   "cell_type": "markdown",
   "metadata": {},
   "source": [
    "# Model 2"
   ]
  },
  {
   "cell_type": "code",
   "execution_count": 218,
   "metadata": {},
   "outputs": [],
   "source": [
    "#add more layer and add droupout\n",
    "\n",
    "model2 = Sequential()\n",
    "model2.add(Conv2D(32, (3, 3), padding='same',\n",
    "                 input_shape=x_train.shape[1:]))\n",
    "model2.add(Activation('relu'))\n",
    "model2.add(MaxPooling2D(pool_size=(2, 2)))\n",
    "model2.add(Dropout(0.1))\n",
    "\n",
    "model2.add(Conv2D(32, (3, 3), padding='same'))\n",
    "model2.add(Activation('relu'))\n",
    "model2.add(MaxPooling2D(pool_size=(2, 2)))\n",
    "model2.add(Dropout(0.1))\n",
    "\n",
    "model2.add(Conv2D(32, (3, 3), padding='same'))\n",
    "model2.add(Activation('relu'))\n",
    "model2.add(MaxPooling2D(pool_size=(2, 2)))\n",
    "model2.add(Dropout(0.1))\n",
    "\n",
    "model2.add(Conv2D(64, (3, 3), padding='same'))\n",
    "model2.add(Activation('relu'))\n",
    "model2.add(MaxPooling2D(pool_size=(2, 2)))\n",
    "model2.add(Dropout(0.2))\n",
    "\n",
    "model2.add(Conv2D(64, (3, 3), padding='same'))\n",
    "model2.add(Activation('relu'))\n",
    "model2.add(MaxPooling2D(pool_size=(2, 2)))\n",
    "model2.add(Dropout(0.2))\n",
    "\n",
    "model2.add(Flatten())\n",
    "model2.add(Dense(512))\n",
    "model2.add(Activation('relu'))\n",
    "model2.add(Dropout(0.3))\n",
    "\n",
    "model2.add(Dense(num_classes))\n",
    "model2.add(Activation('softmax'))"
   ]
  },
  {
   "cell_type": "code",
   "execution_count": 219,
   "metadata": {},
   "outputs": [],
   "source": [
    "model2.compile(loss='categorical_crossentropy',\n",
    "              optimizer='SGD',\n",
    "              metrics=['accuracy'])"
   ]
  },
  {
   "cell_type": "code",
   "execution_count": 220,
   "metadata": {
    "scrolled": false
   },
   "outputs": [
    {
     "name": "stdout",
     "output_type": "stream",
     "text": [
      "Train on 40000 samples, validate on 10000 samples\n",
      "Epoch 1/100\n",
      "40000/40000 [==============================] - 10s 243us/step - loss: 2.3006 - acc: 0.1121 - val_loss: 2.2930 - val_acc: 0.1942\n",
      "Epoch 2/100\n",
      "40000/40000 [==============================] - 9s 216us/step - loss: 2.1990 - acc: 0.1774 - val_loss: 2.0539 - val_acc: 0.2381\n",
      "Epoch 3/100\n",
      "40000/40000 [==============================] - 9s 225us/step - loss: 2.0390 - acc: 0.2366 - val_loss: 1.9523 - val_acc: 0.2786\n",
      "Epoch 4/100\n",
      "40000/40000 [==============================] - 8s 196us/step - loss: 1.9196 - acc: 0.2803 - val_loss: 1.8000 - val_acc: 0.3250\n",
      "Epoch 5/100\n",
      "40000/40000 [==============================] - 8s 195us/step - loss: 1.8143 - acc: 0.3175 - val_loss: 1.7109 - val_acc: 0.3636\n",
      "Epoch 6/100\n",
      "40000/40000 [==============================] - 8s 206us/step - loss: 1.7370 - acc: 0.3506 - val_loss: 1.7834 - val_acc: 0.3456\n",
      "Epoch 7/100\n",
      "40000/40000 [==============================] - 7s 187us/step - loss: 1.6551 - acc: 0.3824 - val_loss: 1.6011 - val_acc: 0.4141\n",
      "Epoch 8/100\n",
      "40000/40000 [==============================] - 8s 200us/step - loss: 1.5847 - acc: 0.4093 - val_loss: 1.4809 - val_acc: 0.4590\n",
      "Epoch 9/100\n",
      "40000/40000 [==============================] - 9s 216us/step - loss: 1.5316 - acc: 0.4320 - val_loss: 1.4666 - val_acc: 0.4764\n",
      "Epoch 10/100\n",
      "40000/40000 [==============================] - 9s 219us/step - loss: 1.4909 - acc: 0.4498 - val_loss: 1.4121 - val_acc: 0.4845\n",
      "Epoch 11/100\n",
      "40000/40000 [==============================] - 8s 209us/step - loss: 1.4483 - acc: 0.4681 - val_loss: 1.3753 - val_acc: 0.4952\n",
      "Epoch 12/100\n",
      "40000/40000 [==============================] - 8s 210us/step - loss: 1.4152 - acc: 0.4804 - val_loss: 1.2901 - val_acc: 0.5329\n",
      "Epoch 13/100\n",
      "40000/40000 [==============================] - 8s 208us/step - loss: 1.3828 - acc: 0.4910 - val_loss: 1.2998 - val_acc: 0.5315\n",
      "Epoch 14/100\n",
      "40000/40000 [==============================] - 9s 218us/step - loss: 1.3533 - acc: 0.5055 - val_loss: 1.2258 - val_acc: 0.5567\n",
      "Epoch 15/100\n",
      "40000/40000 [==============================] - 9s 222us/step - loss: 1.3188 - acc: 0.5192 - val_loss: 1.2087 - val_acc: 0.5688\n",
      "Epoch 16/100\n",
      "40000/40000 [==============================] - 9s 215us/step - loss: 1.2928 - acc: 0.5316 - val_loss: 1.1924 - val_acc: 0.5741\n",
      "Epoch 17/100\n",
      "40000/40000 [==============================] - 8s 190us/step - loss: 1.2670 - acc: 0.5412 - val_loss: 1.1833 - val_acc: 0.5741\n",
      "Epoch 18/100\n",
      "40000/40000 [==============================] - 8s 208us/step - loss: 1.2442 - acc: 0.5508 - val_loss: 1.1221 - val_acc: 0.6020\n",
      "Epoch 19/100\n",
      "40000/40000 [==============================] - 8s 202us/step - loss: 1.2187 - acc: 0.5628 - val_loss: 1.1364 - val_acc: 0.6005\n",
      "Epoch 20/100\n",
      "40000/40000 [==============================] - 8s 207us/step - loss: 1.1993 - acc: 0.5689 - val_loss: 1.1515 - val_acc: 0.5855\n",
      "Epoch 21/100\n",
      "40000/40000 [==============================] - 8s 204us/step - loss: 1.1745 - acc: 0.5784 - val_loss: 1.0742 - val_acc: 0.6198\n",
      "Epoch 22/100\n",
      "40000/40000 [==============================] - 9s 222us/step - loss: 1.1569 - acc: 0.5886 - val_loss: 1.0846 - val_acc: 0.6166\n",
      "Epoch 23/100\n",
      "40000/40000 [==============================] - 8s 201us/step - loss: 1.1390 - acc: 0.5928 - val_loss: 1.0235 - val_acc: 0.6418\n",
      "Epoch 24/100\n",
      "40000/40000 [==============================] - 8s 204us/step - loss: 1.1181 - acc: 0.6010 - val_loss: 1.0259 - val_acc: 0.6338\n",
      "Epoch 25/100\n",
      "40000/40000 [==============================] - 8s 206us/step - loss: 1.1053 - acc: 0.6046 - val_loss: 1.0167 - val_acc: 0.6432\n",
      "Epoch 26/100\n",
      "40000/40000 [==============================] - 8s 202us/step - loss: 1.0918 - acc: 0.6137 - val_loss: 0.9887 - val_acc: 0.6490\n",
      "Epoch 27/100\n",
      "40000/40000 [==============================] - 8s 203us/step - loss: 1.0739 - acc: 0.6196 - val_loss: 0.9682 - val_acc: 0.6590\n",
      "Epoch 28/100\n",
      "40000/40000 [==============================] - 8s 189us/step - loss: 1.0645 - acc: 0.6229 - val_loss: 0.9848 - val_acc: 0.6531\n",
      "Epoch 29/100\n",
      "40000/40000 [==============================] - 8s 195us/step - loss: 1.0477 - acc: 0.6299 - val_loss: 0.9457 - val_acc: 0.6673\n",
      "Epoch 30/100\n",
      "40000/40000 [==============================] - 8s 191us/step - loss: 1.0308 - acc: 0.6360 - val_loss: 0.9651 - val_acc: 0.6621\n",
      "Epoch 31/100\n",
      "40000/40000 [==============================] - 8s 190us/step - loss: 1.0188 - acc: 0.6395 - val_loss: 0.9124 - val_acc: 0.6809\n",
      "Epoch 32/100\n",
      "40000/40000 [==============================] - 8s 201us/step - loss: 1.0095 - acc: 0.6441 - val_loss: 0.9252 - val_acc: 0.6754\n",
      "Epoch 33/100\n",
      "40000/40000 [==============================] - 8s 206us/step - loss: 0.9954 - acc: 0.6471 - val_loss: 0.8969 - val_acc: 0.6857\n",
      "Epoch 34/100\n",
      "40000/40000 [==============================] - 8s 195us/step - loss: 0.9801 - acc: 0.6545 - val_loss: 0.8726 - val_acc: 0.6974\n",
      "Epoch 35/100\n",
      "40000/40000 [==============================] - 8s 205us/step - loss: 0.9677 - acc: 0.6603 - val_loss: 0.8888 - val_acc: 0.6911\n",
      "Epoch 36/100\n",
      "40000/40000 [==============================] - 8s 204us/step - loss: 0.9610 - acc: 0.6623 - val_loss: 0.9116 - val_acc: 0.6861\n",
      "Epoch 37/100\n",
      "40000/40000 [==============================] - 9s 220us/step - loss: 0.9473 - acc: 0.6672 - val_loss: 0.8576 - val_acc: 0.6996\n",
      "Epoch 38/100\n",
      "40000/40000 [==============================] - 9s 215us/step - loss: 0.9428 - acc: 0.6653 - val_loss: 0.8689 - val_acc: 0.6948\n",
      "Epoch 39/100\n",
      "40000/40000 [==============================] - 8s 200us/step - loss: 0.9313 - acc: 0.6723 - val_loss: 0.8772 - val_acc: 0.6963\n",
      "Epoch 40/100\n",
      "40000/40000 [==============================] - 8s 200us/step - loss: 0.9203 - acc: 0.6756 - val_loss: 0.8548 - val_acc: 0.7038\n",
      "Epoch 41/100\n",
      "40000/40000 [==============================] - 8s 188us/step - loss: 0.9102 - acc: 0.6818 - val_loss: 0.8268 - val_acc: 0.7142\n",
      "Epoch 42/100\n",
      "40000/40000 [==============================] - 8s 201us/step - loss: 0.9053 - acc: 0.6818 - val_loss: 0.8440 - val_acc: 0.7063\n",
      "Epoch 43/100\n",
      "40000/40000 [==============================] - 8s 190us/step - loss: 0.8993 - acc: 0.6851 - val_loss: 0.8241 - val_acc: 0.7139\n",
      "Epoch 44/100\n",
      "40000/40000 [==============================] - 8s 202us/step - loss: 0.8844 - acc: 0.6895 - val_loss: 0.8081 - val_acc: 0.7185\n",
      "Epoch 45/100\n",
      "40000/40000 [==============================] - 7s 172us/step - loss: 0.8766 - acc: 0.6919 - val_loss: 0.8177 - val_acc: 0.7145\n",
      "Epoch 46/100\n",
      "40000/40000 [==============================] - 7s 167us/step - loss: 0.8735 - acc: 0.6925 - val_loss: 0.8360 - val_acc: 0.7057\n",
      "Epoch 47/100\n",
      "40000/40000 [==============================] - 7s 168us/step - loss: 0.8613 - acc: 0.6980 - val_loss: 0.7923 - val_acc: 0.7245\n",
      "Epoch 48/100\n",
      "40000/40000 [==============================] - 7s 176us/step - loss: 0.8540 - acc: 0.7008 - val_loss: 0.8176 - val_acc: 0.7186\n",
      "Epoch 49/100\n",
      "40000/40000 [==============================] - 7s 175us/step - loss: 0.8488 - acc: 0.7044 - val_loss: 0.8140 - val_acc: 0.7167\n",
      "Epoch 50/100\n",
      "40000/40000 [==============================] - 7s 172us/step - loss: 0.8407 - acc: 0.7070 - val_loss: 0.7614 - val_acc: 0.7369\n",
      "Epoch 51/100\n",
      "40000/40000 [==============================] - 7s 175us/step - loss: 0.8385 - acc: 0.7073 - val_loss: 0.7675 - val_acc: 0.7357\n",
      "Epoch 52/100\n",
      "40000/40000 [==============================] - 8s 209us/step - loss: 0.8284 - acc: 0.7085 - val_loss: 0.7534 - val_acc: 0.7415\n",
      "Epoch 53/100\n",
      "40000/40000 [==============================] - 7s 167us/step - loss: 0.8245 - acc: 0.7121 - val_loss: 0.7999 - val_acc: 0.7258\n",
      "Epoch 54/100\n",
      "40000/40000 [==============================] - 7s 170us/step - loss: 0.8162 - acc: 0.7142 - val_loss: 0.7674 - val_acc: 0.7339\n",
      "Epoch 55/100\n",
      "40000/40000 [==============================] - 8s 211us/step - loss: 0.8167 - acc: 0.7155 - val_loss: 0.7515 - val_acc: 0.7394\n",
      "Epoch 56/100\n",
      "40000/40000 [==============================] - 8s 210us/step - loss: 0.8057 - acc: 0.7154 - val_loss: 0.8034 - val_acc: 0.7239\n",
      "Epoch 57/100\n",
      "40000/40000 [==============================] - 8s 212us/step - loss: 0.8003 - acc: 0.7204 - val_loss: 0.7589 - val_acc: 0.7336\n",
      "Epoch 58/100\n",
      "40000/40000 [==============================] - 8s 212us/step - loss: 0.7952 - acc: 0.7192 - val_loss: 0.7429 - val_acc: 0.7423\n",
      "Epoch 59/100\n",
      "40000/40000 [==============================] - 9s 215us/step - loss: 0.7910 - acc: 0.7215 - val_loss: 0.7505 - val_acc: 0.7423\n",
      "Epoch 60/100\n",
      "40000/40000 [==============================] - 9s 215us/step - loss: 0.7828 - acc: 0.7278 - val_loss: 1.0695 - val_acc: 0.6434\n",
      "Epoch 61/100\n",
      "40000/40000 [==============================] - 9s 215us/step - loss: 0.7854 - acc: 0.7260 - val_loss: 0.7537 - val_acc: 0.7374\n",
      "Epoch 62/100\n",
      "40000/40000 [==============================] - 8s 212us/step - loss: 0.7807 - acc: 0.7282 - val_loss: 0.7347 - val_acc: 0.7493\n",
      "Epoch 63/100\n",
      "40000/40000 [==============================] - 8s 212us/step - loss: 0.7714 - acc: 0.7290 - val_loss: 0.7376 - val_acc: 0.7439\n",
      "Epoch 64/100\n",
      "40000/40000 [==============================] - 8s 210us/step - loss: 0.7687 - acc: 0.7299 - val_loss: 0.7264 - val_acc: 0.7497\n",
      "Epoch 65/100\n",
      "40000/40000 [==============================] - 9s 214us/step - loss: 0.7685 - acc: 0.7300 - val_loss: 0.7292 - val_acc: 0.7445\n",
      "Epoch 66/100\n",
      "40000/40000 [==============================] - 9s 213us/step - loss: 0.7580 - acc: 0.7351 - val_loss: 0.7350 - val_acc: 0.7424\n",
      "Epoch 67/100\n",
      "40000/40000 [==============================] - 9s 215us/step - loss: 0.7578 - acc: 0.7358 - val_loss: 0.7284 - val_acc: 0.7496\n",
      "Epoch 68/100\n",
      "40000/40000 [==============================] - 9s 215us/step - loss: 0.7497 - acc: 0.7367 - val_loss: 0.7362 - val_acc: 0.7464\n",
      "Epoch 69/100\n",
      "40000/40000 [==============================] - 9s 217us/step - loss: 0.7471 - acc: 0.7384 - val_loss: 0.7378 - val_acc: 0.7445\n",
      "Epoch 70/100\n",
      "40000/40000 [==============================] - 8s 211us/step - loss: 0.7435 - acc: 0.7408 - val_loss: 0.7087 - val_acc: 0.7535\n",
      "Epoch 71/100\n",
      "40000/40000 [==============================] - 9s 215us/step - loss: 0.7365 - acc: 0.7422 - val_loss: 0.7031 - val_acc: 0.7552\n",
      "Epoch 72/100\n",
      "40000/40000 [==============================] - 9s 224us/step - loss: 0.7367 - acc: 0.7419 - val_loss: 0.7426 - val_acc: 0.7451\n",
      "Epoch 73/100\n",
      "40000/40000 [==============================] - 9s 228us/step - loss: 0.7306 - acc: 0.7432 - val_loss: 0.7201 - val_acc: 0.7501\n",
      "Epoch 74/100\n",
      "40000/40000 [==============================] - 9s 217us/step - loss: 0.7350 - acc: 0.7434 - val_loss: 0.7698 - val_acc: 0.7324\n",
      "Epoch 75/100\n",
      "40000/40000 [==============================] - 9s 218us/step - loss: 0.7307 - acc: 0.7451 - val_loss: 0.7254 - val_acc: 0.7484\n",
      "Epoch 76/100\n",
      "40000/40000 [==============================] - 9s 215us/step - loss: 0.7233 - acc: 0.7460 - val_loss: 0.7669 - val_acc: 0.7317\n",
      "Epoch 77/100\n",
      "40000/40000 [==============================] - 9s 215us/step - loss: 0.7217 - acc: 0.7478 - val_loss: 0.6908 - val_acc: 0.7636\n",
      "Epoch 78/100\n",
      "40000/40000 [==============================] - 9s 217us/step - loss: 0.7169 - acc: 0.7490 - val_loss: 0.6935 - val_acc: 0.7621\n",
      "Epoch 79/100\n",
      "40000/40000 [==============================] - 9s 215us/step - loss: 0.7079 - acc: 0.7537 - val_loss: 0.6960 - val_acc: 0.7592\n",
      "Epoch 80/100\n",
      "40000/40000 [==============================] - 8s 212us/step - loss: 0.7185 - acc: 0.7491 - val_loss: 0.6961 - val_acc: 0.7592\n",
      "Epoch 81/100\n",
      "40000/40000 [==============================] - 9s 219us/step - loss: 0.7098 - acc: 0.7532 - val_loss: 0.6943 - val_acc: 0.7604\n",
      "Epoch 82/100\n",
      "40000/40000 [==============================] - 9s 215us/step - loss: 0.7023 - acc: 0.7554 - val_loss: 0.7136 - val_acc: 0.7539\n",
      "Epoch 83/100\n",
      "40000/40000 [==============================] - 9s 215us/step - loss: 0.7060 - acc: 0.7541 - val_loss: 0.7334 - val_acc: 0.7485\n",
      "Epoch 84/100\n",
      "40000/40000 [==============================] - 8s 210us/step - loss: 0.7035 - acc: 0.7537 - val_loss: 0.7203 - val_acc: 0.7512\n",
      "Epoch 85/100\n",
      "40000/40000 [==============================] - 8s 210us/step - loss: 0.6985 - acc: 0.7560 - val_loss: 0.7012 - val_acc: 0.7551\n",
      "Epoch 86/100\n",
      "40000/40000 [==============================] - 9s 214us/step - loss: 0.6954 - acc: 0.7564 - val_loss: 0.6990 - val_acc: 0.7598\n",
      "Epoch 87/100\n",
      "40000/40000 [==============================] - 8s 211us/step - loss: 0.6899 - acc: 0.7567 - val_loss: 0.6990 - val_acc: 0.7565\n",
      "Epoch 88/100\n",
      "40000/40000 [==============================] - 8s 210us/step - loss: 0.6934 - acc: 0.7576 - val_loss: 0.7178 - val_acc: 0.7493\n",
      "Epoch 89/100\n",
      "40000/40000 [==============================] - 9s 213us/step - loss: 0.6913 - acc: 0.7576 - val_loss: 0.6739 - val_acc: 0.7683\n",
      "Epoch 90/100\n",
      "40000/40000 [==============================] - 9s 214us/step - loss: 0.6879 - acc: 0.7584 - val_loss: 0.7070 - val_acc: 0.7548\n",
      "Epoch 91/100\n",
      "40000/40000 [==============================] - 9s 215us/step - loss: 0.6821 - acc: 0.7605 - val_loss: 0.6944 - val_acc: 0.7639\n",
      "Epoch 92/100\n",
      "40000/40000 [==============================] - 8s 211us/step - loss: 0.6810 - acc: 0.7619 - val_loss: 0.6765 - val_acc: 0.7668\n",
      "Epoch 93/100\n",
      "40000/40000 [==============================] - 8s 209us/step - loss: 0.6818 - acc: 0.7593 - val_loss: 0.7364 - val_acc: 0.7481\n",
      "Epoch 94/100\n",
      "40000/40000 [==============================] - 8s 211us/step - loss: 0.6758 - acc: 0.7626 - val_loss: 0.7435 - val_acc: 0.7448\n",
      "Epoch 95/100\n",
      "40000/40000 [==============================] - 9s 221us/step - loss: 0.6746 - acc: 0.7641 - val_loss: 0.6929 - val_acc: 0.7609\n",
      "Epoch 96/100\n",
      "40000/40000 [==============================] - 10s 242us/step - loss: 0.6689 - acc: 0.7676 - val_loss: 0.6739 - val_acc: 0.7697\n",
      "Epoch 97/100\n",
      "40000/40000 [==============================] - 9s 218us/step - loss: 0.6694 - acc: 0.7646 - val_loss: 0.6767 - val_acc: 0.7657\n",
      "Epoch 98/100\n",
      "40000/40000 [==============================] - 8s 210us/step - loss: 0.6671 - acc: 0.7650 - val_loss: 0.6832 - val_acc: 0.7623\n",
      "Epoch 99/100\n",
      "40000/40000 [==============================] - 9s 213us/step - loss: 0.6687 - acc: 0.7640 - val_loss: 0.6992 - val_acc: 0.7597\n",
      "Epoch 100/100\n",
      "40000/40000 [==============================] - 9s 216us/step - loss: 0.6624 - acc: 0.7670 - val_loss: 0.6710 - val_acc: 0.7688\n"
     ]
    }
   ],
   "source": [
    "history2 = model2.fit(x_train, y_train,\n",
    "          batch_size=batch_size,\n",
    "          epochs=100,\n",
    "          validation_split=0.2,\n",
    "          shuffle=True)"
   ]
  },
  {
   "cell_type": "code",
   "execution_count": 221,
   "metadata": {},
   "outputs": [
    {
     "name": "stdout",
     "output_type": "stream",
     "text": [
      "10000/10000 [==============================] - 1s 87us/step\n",
      "The accuracy of model 2 for test data is: 76.41%\n"
     ]
    }
   ],
   "source": [
    "result2 = model2.evaluate(x_test, y_test, batch_size=batch_size, verbose=1)\n",
    "test_acc_2 = result2[1]\n",
    "print('The accuracy of model 2 for test data is: {}%'.format(test_acc_2*100))"
   ]
  },
  {
   "cell_type": "code",
   "execution_count": 222,
   "metadata": {},
   "outputs": [
    {
     "data": {
      "image/png": "[encoded data removed]",
      "text/plain": [
       "<Figure size 432x288 with 1 Axes>"
      ]
     },
     "metadata": {
      "needs_background": "light"
     },
     "output_type": "display_data"
    }
   ],
   "source": [
    "plt.plot(history2.history['acc'])\n",
    "plt.plot(history2.history['val_acc'])\n",
    "plt.title('model accuracy')\n",
    "plt.ylabel('accuracy')\n",
    "plt.xlabel('epoch')\n",
    "plt.legend(['train', 'valid'], loc='upper left')\n",
    "plt.show()"
   ]
  },
  {
   "cell_type": "code",
   "execution_count": 223,
   "metadata": {
    "scrolled": true
   },
   "outputs": [
    {
     "data": {
      "image/png": "[encoded data removed]",
      "text/plain": [
       "<Figure size 432x288 with 1 Axes>"
      ]
     },
     "metadata": {
      "needs_background": "light"
     },
     "output_type": "display_data"
    }
   ],
   "source": [
    "# summarize history for loss\n",
    "plt.plot(history2.history['loss'])\n",
    "plt.plot(history2.history['val_loss'])\n",
    "plt.title('model loss')\n",
    "plt.ylabel('loss')\n",
    "plt.xlabel('epoch')\n",
    "plt.legend(['train', 'valid'], loc='upper left')\n",
    "plt.show()"
   ]
  },
  {
   "cell_type": "markdown",
   "metadata": {},
   "source": [
    "# Model 3"
   ]
  },
  {
   "cell_type": "markdown",
   "metadata": {},
   "source": [
    "After I read some blogs on the website, I want to try the influence of different optimizer. Specifically, Adam will be used in this model"
   ]
  },
  {
   "cell_type": "code",
   "execution_count": 249,
   "metadata": {},
   "outputs": [],
   "source": [
    "model3 = Sequential()\n",
    "model3.add(Conv2D(32, (3, 3), padding='same',\n",
    "                 input_shape=x_train.shape[1:]))\n",
    "model3.add(Activation('relu'))\n",
    "model3.add(MaxPooling2D(pool_size=(2, 2)))\n",
    "model3.add(Dropout(0.1))\n",
    "\n",
    "model3.add(Conv2D(32, (3, 3), padding='same'))\n",
    "model3.add(Activation('relu'))\n",
    "model3.add(MaxPooling2D(pool_size=(2, 2)))\n",
    "model3.add(Dropout(0.1))\n",
    "\n",
    "model3.add(Conv2D(32, (3, 3), padding='same'))\n",
    "model3.add(Activation('relu'))\n",
    "model3.add(MaxPooling2D(pool_size=(2, 2)))\n",
    "model3.add(Dropout(0.1))\n",
    "\n",
    "model3.add(Flatten())\n",
    "model3.add(Dense(512))\n",
    "model3.add(Activation('relu'))\n",
    "model3.add(Dropout(0.2))\n",
    "\n",
    "model3.add(Dense(num_classes))\n",
    "model3.add(Activation('softmax'))"
   ]
  },
  {
   "cell_type": "code",
   "execution_count": 6,
   "metadata": {},
   "outputs": [],
   "source": [
    "#define a new optimizer\n",
    "from keras.optimizers import Adam\n",
    "adam = Adam()"
   ]
  },
  {
   "cell_type": "code",
   "execution_count": 235,
   "metadata": {},
   "outputs": [],
   "source": [
    "model3.compile(loss='categorical_crossentropy',\n",
    "              optimizer=adam,\n",
    "              metrics=['accuracy'])"
   ]
  },
  {
   "cell_type": "code",
   "execution_count": 236,
   "metadata": {},
   "outputs": [
    {
     "name": "stdout",
     "output_type": "stream",
     "text": [
      "Train on 40000 samples, validate on 10000 samples\n",
      "Epoch 1/30\n",
      "40000/40000 [==============================] - 9s 219us/step - loss: 1.4760 - acc: 0.4626 - val_loss: 1.2023 - val_acc: 0.5709\n",
      "Epoch 2/30\n",
      "40000/40000 [==============================] - 7s 173us/step - loss: 1.0852 - acc: 0.6135 - val_loss: 1.0140 - val_acc: 0.6433\n",
      "Epoch 3/30\n",
      "40000/40000 [==============================] - 7s 176us/step - loss: 0.9095 - acc: 0.6760 - val_loss: 0.9848 - val_acc: 0.6611\n",
      "Epoch 4/30\n",
      "40000/40000 [==============================] - 7s 176us/step - loss: 0.7911 - acc: 0.7208 - val_loss: 0.9186 - val_acc: 0.6823\n",
      "Epoch 5/30\n",
      "40000/40000 [==============================] - 7s 174us/step - loss: 0.6881 - acc: 0.7572 - val_loss: 0.8336 - val_acc: 0.7164\n",
      "Epoch 6/30\n",
      "40000/40000 [==============================] - 7s 173us/step - loss: 0.6020 - acc: 0.7894 - val_loss: 0.8592 - val_acc: 0.7163\n",
      "Epoch 7/30\n",
      "40000/40000 [==============================] - 7s 177us/step - loss: 0.5225 - acc: 0.8150 - val_loss: 0.8455 - val_acc: 0.7250\n",
      "Epoch 8/30\n",
      "40000/40000 [==============================] - 7s 173us/step - loss: 0.4373 - acc: 0.8468 - val_loss: 0.9528 - val_acc: 0.7263\n",
      "Epoch 9/30\n",
      "40000/40000 [==============================] - 7s 174us/step - loss: 0.3742 - acc: 0.8673 - val_loss: 0.9991 - val_acc: 0.7139\n",
      "Epoch 10/30\n",
      "40000/40000 [==============================] - 7s 175us/step - loss: 0.3015 - acc: 0.8938 - val_loss: 1.0386 - val_acc: 0.7233\n",
      "Epoch 11/30\n",
      "40000/40000 [==============================] - 7s 175us/step - loss: 0.2608 - acc: 0.9064 - val_loss: 1.1442 - val_acc: 0.7098\n",
      "Epoch 12/30\n",
      "40000/40000 [==============================] - 7s 176us/step - loss: 0.2056 - acc: 0.9268 - val_loss: 1.2960 - val_acc: 0.7038\n",
      "Epoch 13/30\n",
      "40000/40000 [==============================] - 7s 174us/step - loss: 0.1774 - acc: 0.9373 - val_loss: 1.4083 - val_acc: 0.7039\n",
      "Epoch 14/30\n",
      "40000/40000 [==============================] - 7s 171us/step - loss: 0.1514 - acc: 0.9476 - val_loss: 1.4871 - val_acc: 0.7068\n",
      "Epoch 15/30\n",
      "40000/40000 [==============================] - 7s 173us/step - loss: 0.1385 - acc: 0.9514 - val_loss: 1.5210 - val_acc: 0.7051\n",
      "Epoch 16/30\n",
      "40000/40000 [==============================] - 7s 175us/step - loss: 0.1375 - acc: 0.9515 - val_loss: 1.5820 - val_acc: 0.7006\n",
      "Epoch 17/30\n",
      "40000/40000 [==============================] - 7s 177us/step - loss: 0.1137 - acc: 0.9606 - val_loss: 1.7087 - val_acc: 0.7074\n",
      "Epoch 18/30\n",
      "40000/40000 [==============================] - 7s 175us/step - loss: 0.1116 - acc: 0.9620 - val_loss: 1.8224 - val_acc: 0.6935\n",
      "Epoch 19/30\n",
      "40000/40000 [==============================] - 7s 175us/step - loss: 0.1110 - acc: 0.9613 - val_loss: 1.8741 - val_acc: 0.6987\n",
      "Epoch 20/30\n",
      "40000/40000 [==============================] - 7s 175us/step - loss: 0.0976 - acc: 0.9667 - val_loss: 1.8534 - val_acc: 0.7043\n",
      "Epoch 21/30\n",
      "40000/40000 [==============================] - 7s 175us/step - loss: 0.1036 - acc: 0.9652 - val_loss: 1.9141 - val_acc: 0.6973\n",
      "Epoch 22/30\n",
      "40000/40000 [==============================] - 7s 184us/step - loss: 0.0959 - acc: 0.9673 - val_loss: 1.9532 - val_acc: 0.6997\n",
      "Epoch 23/30\n",
      "40000/40000 [==============================] - 8s 191us/step - loss: 0.0887 - acc: 0.9700 - val_loss: 1.9889 - val_acc: 0.6957\n",
      "Epoch 24/30\n",
      "40000/40000 [==============================] - 7s 181us/step - loss: 0.0932 - acc: 0.9685 - val_loss: 2.0729 - val_acc: 0.6943\n",
      "Epoch 25/30\n",
      "40000/40000 [==============================] - 7s 183us/step - loss: 0.0995 - acc: 0.9673 - val_loss: 1.9729 - val_acc: 0.6990\n",
      "Epoch 26/30\n",
      "40000/40000 [==============================] - 7s 178us/step - loss: 0.0857 - acc: 0.9713 - val_loss: 2.0715 - val_acc: 0.7011\n",
      "Epoch 27/30\n",
      "40000/40000 [==============================] - 7s 179us/step - loss: 0.0860 - acc: 0.9714 - val_loss: 2.1919 - val_acc: 0.6969\n",
      "Epoch 28/30\n",
      "40000/40000 [==============================] - 7s 177us/step - loss: 0.0886 - acc: 0.9712 - val_loss: 2.2957 - val_acc: 0.6958\n",
      "Epoch 29/30\n",
      "40000/40000 [==============================] - 8s 189us/step - loss: 0.0857 - acc: 0.9732 - val_loss: 2.2586 - val_acc: 0.6932\n",
      "Epoch 30/30\n",
      "40000/40000 [==============================] - 8s 206us/step - loss: 0.0774 - acc: 0.9739 - val_loss: 2.3068 - val_acc: 0.6922\n"
     ]
    }
   ],
   "source": [
    "history3 = model3.fit(x_train, y_train,\n",
    "          batch_size=batch_size,\n",
    "          epochs=epochs,\n",
    "          validation_split=0.2,\n",
    "          shuffle=True)"
   ]
  },
  {
   "cell_type": "code",
   "execution_count": 237,
   "metadata": {},
   "outputs": [
    {
     "name": "stdout",
     "output_type": "stream",
     "text": [
      "10000/10000 [==============================] - 1s 78us/step\n",
      "The accuracy of model 2 for test data is: 76.41%\n"
     ]
    }
   ],
   "source": [
    "result3 = model3.evaluate(x_test, y_test, batch_size=batch_size, verbose=1)\n",
    "test_acc_3 = result3[1]\n",
    "print('The accuracy of model 2 for test data is: {}%'.format(test_acc_2*100))"
   ]
  },
  {
   "cell_type": "code",
   "execution_count": 238,
   "metadata": {},
   "outputs": [
    {
     "data": {
      "image/png": "[encoded data removed]",
      "text/plain": [
       "<Figure size 432x288 with 1 Axes>"
      ]
     },
     "metadata": {
      "needs_background": "light"
     },
     "output_type": "display_data"
    }
   ],
   "source": [
    "plt.plot(history3.history['acc'])\n",
    "plt.plot(history3.history['val_acc'])\n",
    "plt.title('model accuracy')\n",
    "plt.ylabel('accuracy')\n",
    "plt.xlabel('epoch')\n",
    "plt.legend(['train', 'valid'], loc='upper left')\n",
    "plt.show()"
   ]
  },
  {
   "cell_type": "code",
   "execution_count": 239,
   "metadata": {},
   "outputs": [
    {
     "data": {
      "image/png": "[encoded data removed]",
      "text/plain": [
       "<Figure size 432x288 with 1 Axes>"
      ]
     },
     "metadata": {
      "needs_background": "light"
     },
     "output_type": "display_data"
    }
   ],
   "source": [
    "# summarize history for loss\n",
    "plt.plot(history3.history['loss'])\n",
    "plt.plot(history3.history['val_loss'])\n",
    "plt.title('model loss')\n",
    "plt.ylabel('loss')\n",
    "plt.xlabel('epoch')\n",
    "plt.legend(['train', 'valid'], loc='upper left')\n",
    "plt.show()"
   ]
  },
  {
   "cell_type": "markdown",
   "metadata": {},
   "source": [
    "# Model 4"
   ]
  },
  {
   "cell_type": "code",
   "execution_count": 7,
   "metadata": {},
   "outputs": [],
   "source": [
    "from sklearn.model_selection import train_test_split\n",
    "\n",
    "x_train, x_val, y_train, y_val = train_test_split(x_train, y_train, test_size=0.20)"
   ]
  },
  {
   "cell_type": "code",
   "execution_count": 8,
   "metadata": {},
   "outputs": [],
   "source": [
    "y_train = keras.utils.to_categorical(y_train, num_classes)\n",
    "y_val = keras.utils.to_categorical(y_val, num_classes)"
   ]
  },
  {
   "cell_type": "code",
   "execution_count": 9,
   "metadata": {},
   "outputs": [],
   "source": [
    "y_test = keras.utils.to_categorical(y_test, num_classes)"
   ]
  },
  {
   "cell_type": "code",
   "execution_count": 10,
   "metadata": {},
   "outputs": [],
   "source": [
    "model4 = Sequential()\n",
    "model4.add(Conv2D(32, (3, 3), padding='same',\n",
    "                 input_shape=x_train.shape[1:]))\n",
    "model4.add(Activation('relu'))\n",
    "model4.add(MaxPooling2D(pool_size=(2, 2)))\n",
    "model4.add(Dropout(0.1))\n",
    "\n",
    "model4.add(Conv2D(32, (3, 3), padding='same'))\n",
    "model4.add(Activation('relu'))\n",
    "model4.add(MaxPooling2D(pool_size=(2, 2)))\n",
    "model4.add(Dropout(0.1))\n",
    "\n",
    "model4.add(Conv2D(32, (3, 3), padding='same'))\n",
    "model4.add(Activation('relu'))\n",
    "model4.add(MaxPooling2D(pool_size=(2, 2)))\n",
    "model4.add(Dropout(0.1))\n",
    "\n",
    "model4.add(Flatten())\n",
    "model4.add(Dense(512))\n",
    "model4.add(Activation('relu'))\n",
    "model4.add(Dropout(0.2))\n",
    "\n",
    "model4.add(Dense(num_classes))\n",
    "model4.add(Activation('softmax'))"
   ]
  },
  {
   "cell_type": "code",
   "execution_count": 14,
   "metadata": {},
   "outputs": [],
   "source": [
    "model4.compile(loss='categorical_crossentropy',\n",
    "              optimizer=adam,\n",
    "              metrics=['accuracy'])"
   ]
  },
  {
   "cell_type": "code",
   "execution_count": 15,
   "metadata": {},
   "outputs": [],
   "source": [
    "# add augmentation\n",
    "datagen = ImageDataGenerator(\n",
    "    rotation_range=15,\n",
    "    horizontal_flip=True,\n",
    "    width_shift_range=0.1,\n",
    "    height_shift_range=0.1\n",
    "    #zoom_range=0.3\n",
    "    )\n",
    "datagen.fit(x_train)"
   ]
  },
  {
   "cell_type": "code",
   "execution_count": 16,
   "metadata": {},
   "outputs": [
    {
     "name": "stdout",
     "output_type": "stream",
     "text": [
      "Epoch 1/30\n",
      "1250/1250 [==============================] - 17s 14ms/step - loss: 1.6575 - acc: 0.3918 - val_loss: 1.3521 - val_acc: 0.5127\n",
      "Epoch 2/30\n",
      "1250/1250 [==============================] - 14s 11ms/step - loss: 1.3852 - acc: 0.4982 - val_loss: 1.1986 - val_acc: 0.5676\n",
      "Epoch 3/30\n",
      "1250/1250 [==============================] - 13s 10ms/step - loss: 1.2673 - acc: 0.5450 - val_loss: 1.2530 - val_acc: 0.5645\n",
      "Epoch 4/30\n",
      "1250/1250 [==============================] - 13s 10ms/step - loss: 1.1946 - acc: 0.5709 - val_loss: 1.0541 - val_acc: 0.6252\n",
      "Epoch 5/30\n",
      "1250/1250 [==============================] - 13s 10ms/step - loss: 1.1446 - acc: 0.5919 - val_loss: 0.9902 - val_acc: 0.6440\n",
      "Epoch 6/30\n",
      "1250/1250 [==============================] - 13s 10ms/step - loss: 1.0990 - acc: 0.6068 - val_loss: 0.9290 - val_acc: 0.6691\n",
      "Epoch 7/30\n",
      "1250/1250 [==============================] - 13s 10ms/step - loss: 1.0567 - acc: 0.6257 - val_loss: 0.9289 - val_acc: 0.6706\n",
      "Epoch 8/30\n",
      "1250/1250 [==============================] - 13s 10ms/step - loss: 1.0245 - acc: 0.6355 - val_loss: 0.8830 - val_acc: 0.6889\n",
      "Epoch 9/30\n",
      "1250/1250 [==============================] - 13s 10ms/step - loss: 1.0028 - acc: 0.6443 - val_loss: 0.8914 - val_acc: 0.6831\n",
      "Epoch 10/30\n",
      "1250/1250 [==============================] - 13s 10ms/step - loss: 0.9873 - acc: 0.6509 - val_loss: 0.8081 - val_acc: 0.7127\n",
      "Epoch 11/30\n",
      "1250/1250 [==============================] - 13s 10ms/step - loss: 0.9699 - acc: 0.6570 - val_loss: 0.8140 - val_acc: 0.7133\n",
      "Epoch 12/30\n",
      "1250/1250 [==============================] - 13s 10ms/step - loss: 0.9486 - acc: 0.6630 - val_loss: 0.8279 - val_acc: 0.7119\n",
      "Epoch 13/30\n",
      "1250/1250 [==============================] - 13s 10ms/step - loss: 0.9332 - acc: 0.6731 - val_loss: 0.8236 - val_acc: 0.7123\n",
      "Epoch 14/30\n",
      "1250/1250 [==============================] - 13s 10ms/step - loss: 0.9169 - acc: 0.6761 - val_loss: 0.8441 - val_acc: 0.7085\n",
      "Epoch 15/30\n",
      "1250/1250 [==============================] - 13s 10ms/step - loss: 0.9068 - acc: 0.6804 - val_loss: 0.8713 - val_acc: 0.6972\n",
      "Epoch 16/30\n",
      "1250/1250 [==============================] - 13s 10ms/step - loss: 0.8908 - acc: 0.6871 - val_loss: 0.7798 - val_acc: 0.7285\n",
      "Epoch 17/30\n",
      "1250/1250 [==============================] - 13s 10ms/step - loss: 0.8858 - acc: 0.6864 - val_loss: 0.7919 - val_acc: 0.7294\n",
      "Epoch 18/30\n",
      "1250/1250 [==============================] - 13s 10ms/step - loss: 0.8765 - acc: 0.6887 - val_loss: 0.7995 - val_acc: 0.7295\n",
      "Epoch 19/30\n",
      "1250/1250 [==============================] - 13s 10ms/step - loss: 0.8733 - acc: 0.6905 - val_loss: 0.7381 - val_acc: 0.7402\n",
      "Epoch 20/30\n",
      "1250/1250 [==============================] - 13s 10ms/step - loss: 0.8640 - acc: 0.6963 - val_loss: 0.7567 - val_acc: 0.7406\n",
      "Epoch 21/30\n",
      "1250/1250 [==============================] - 13s 10ms/step - loss: 0.8610 - acc: 0.6970 - val_loss: 0.7356 - val_acc: 0.7441\n",
      "Epoch 22/30\n",
      "1250/1250 [==============================] - 13s 10ms/step - loss: 0.8460 - acc: 0.7016 - val_loss: 0.7444 - val_acc: 0.7368\n",
      "Epoch 23/30\n",
      "1250/1250 [==============================] - 13s 10ms/step - loss: 0.8446 - acc: 0.7042 - val_loss: 0.7381 - val_acc: 0.7459\n",
      "Epoch 24/30\n",
      "1250/1250 [==============================] - 13s 10ms/step - loss: 0.8407 - acc: 0.7030 - val_loss: 0.7468 - val_acc: 0.7424\n",
      "Epoch 25/30\n",
      "1250/1250 [==============================] - 13s 10ms/step - loss: 0.8323 - acc: 0.7087 - val_loss: 0.8235 - val_acc: 0.7221\n",
      "Epoch 26/30\n",
      "1250/1250 [==============================] - 13s 10ms/step - loss: 0.8272 - acc: 0.7084 - val_loss: 0.7389 - val_acc: 0.7474\n",
      "Epoch 27/30\n",
      "1250/1250 [==============================] - 13s 10ms/step - loss: 0.8162 - acc: 0.7114 - val_loss: 0.6902 - val_acc: 0.7626\n",
      "Epoch 28/30\n",
      "1250/1250 [==============================] - 13s 10ms/step - loss: 0.8145 - acc: 0.7122 - val_loss: 0.7360 - val_acc: 0.7451\n",
      "Epoch 29/30\n",
      "1250/1250 [==============================] - 13s 10ms/step - loss: 0.8077 - acc: 0.7144 - val_loss: 0.7542 - val_acc: 0.7403\n",
      "Epoch 30/30\n",
      "1250/1250 [==============================] - 13s 10ms/step - loss: 0.8113 - acc: 0.7142 - val_loss: 0.7291 - val_acc: 0.7499\n"
     ]
    }
   ],
   "source": [
    "history4 = model4.fit_generator(datagen.flow(x_train, y_train, batch_size=batch_size),\n",
    "                    steps_per_epoch=x_train.shape[0] / batch_size,\n",
    "                    epochs=30,\n",
    "                    verbose=1,\n",
    "                    validation_data=(x_val, y_val))"
   ]
  },
  {
   "cell_type": "code",
   "execution_count": 20,
   "metadata": {},
   "outputs": [
    {
     "name": "stdout",
     "output_type": "stream",
     "text": [
      "10000/10000 [==============================] - 1s 62us/step\n",
      "The accuracy of model 4 for test data is: 74.58%\n"
     ]
    }
   ],
   "source": [
    "result4 = model4.evaluate(x_test, y_test, batch_size=batch_size, verbose=1)\n",
    "test_acc_4 = result4[1]\n",
    "print('The accuracy of model 4 for test data is: {}%'.format(test_acc_4*100))"
   ]
  },
  {
   "cell_type": "code",
   "execution_count": 23,
   "metadata": {},
   "outputs": [
    {
     "data": {
      "image/png": "[encoded data removed]",
      "text/plain": [
       "<Figure size 432x288 with 1 Axes>"
      ]
     },
     "metadata": {
      "needs_background": "light"
     },
     "output_type": "display_data"
    }
   ],
   "source": [
    "plt.plot(history4.history['acc'])\n",
    "plt.plot(history4.history['val_acc'])\n",
    "plt.title('model accuracy')\n",
    "plt.ylabel('accuracy')\n",
    "plt.xlabel('epoch')\n",
    "plt.legend(['train', 'valid'], loc='upper left')\n",
    "plt.show()"
   ]
  },
  {
   "cell_type": "code",
   "execution_count": 24,
   "metadata": {},
   "outputs": [
    {
     "data": {
      "image/png": "[encoded data removed]",
      "text/plain": [
       "<Figure size 432x288 with 1 Axes>"
      ]
     },
     "metadata": {
      "needs_background": "light"
     },
     "output_type": "display_data"
    }
   ],
   "source": [
    "plt.plot(history4.history['loss'])\n",
    "plt.plot(history4.history['val_loss'])\n",
    "plt.title('model loss')\n",
    "plt.ylabel('loss')\n",
    "plt.xlabel('epoch')\n",
    "plt.legend(['train', 'valid'], loc='upper left')\n",
    "plt.show()"
   ]
  },
  {
   "cell_type": "markdown",
   "metadata": {},
   "source": [
    "Several key points can be concluded from the above 4 models:\n",
    "  * Deeper is better, but needs more training time to show;\n",
    "  * droup out is a solution for over-fitting\n",
    "  * Adam optimizer is better than SGD\n",
    "  * Data Augmentation has significant improvement for validate dataset\n",
    "\n",
    "Based on these points, I build a new model"
   ]
  },
  {
   "cell_type": "markdown",
   "metadata": {},
   "source": [
    "# Model 5"
   ]
  },
  {
   "cell_type": "code",
   "execution_count": 10,
   "metadata": {},
   "outputs": [],
   "source": [
    "model5 = Sequential()\n",
    "model5.add(Conv2D(32, (3, 3), padding='same',\n",
    "                 input_shape=x_train.shape[1:]))\n",
    "model5.add(Activation('relu'))\n",
    "model5.add(MaxPooling2D(pool_size=(2, 2)))\n",
    "model5.add(Dropout(0.1))\n",
    "\n",
    "model5.add(Conv2D(32, (3, 3), padding='same'))\n",
    "model5.add(Activation('relu'))\n",
    "model5.add(MaxPooling2D(pool_size=(2, 2)))\n",
    "model5.add(Dropout(0.1))\n",
    "\n",
    "model5.add(Conv2D(32, (3, 3), padding='same'))\n",
    "model5.add(Activation('relu'))\n",
    "model5.add(MaxPooling2D(pool_size=(2, 2)))\n",
    "model5.add(Dropout(0.1))\n",
    "\n",
    "model5.add(Conv2D(64, (3, 3), padding='same'))\n",
    "model5.add(Activation('relu'))\n",
    "model5.add(MaxPooling2D(pool_size=(2, 2)))\n",
    "model5.add(Dropout(0.2))\n",
    "\n",
    "model5.add(Conv2D(64, (3, 3), padding='same'))\n",
    "model5.add(Activation('relu'))\n",
    "model5.add(MaxPooling2D(pool_size=(2, 2)))\n",
    "model5.add(Dropout(0.2))\n",
    "\n",
    "model5.add(Flatten())\n",
    "model5.add(Dense(512))\n",
    "model5.add(Activation('relu'))\n",
    "model5.add(Dropout(0.3))\n",
    "\n",
    "model5.add(Dense(num_classes))\n",
    "model5.add(Activation('softmax'))"
   ]
  },
  {
   "cell_type": "code",
   "execution_count": 11,
   "metadata": {},
   "outputs": [],
   "source": [
    "model5.compile(loss='categorical_crossentropy',\n",
    "              optimizer=adam,\n",
    "              metrics=['accuracy'])"
   ]
  },
  {
   "cell_type": "code",
   "execution_count": 12,
   "metadata": {},
   "outputs": [],
   "source": [
    "# add augmentation\n",
    "datagen = ImageDataGenerator(\n",
    "    rotation_range=15,\n",
    "    horizontal_flip=True,\n",
    "    width_shift_range=0.1,\n",
    "    height_shift_range=0.1\n",
    "    #zoom_range=0.3\n",
    "    )\n",
    "datagen.fit(x_train)"
   ]
  },
  {
   "cell_type": "code",
   "execution_count": 13,
   "metadata": {
    "scrolled": false
   },
   "outputs": [
    {
     "name": "stdout",
     "output_type": "stream",
     "text": [
      "Epoch 1/50\n",
      "1250/1250 [==============================] - 16s 13ms/step - loss: 1.8297 - acc: 0.3084 - val_loss: 1.4880 - val_acc: 0.4493\n",
      "Epoch 2/50\n",
      "1250/1250 [==============================] - 15s 12ms/step - loss: 1.5400 - acc: 0.4332 - val_loss: 1.3067 - val_acc: 0.5181\n",
      "Epoch 3/50\n",
      "1250/1250 [==============================] - 15s 12ms/step - loss: 1.4424 - acc: 0.4713 - val_loss: 1.3257 - val_acc: 0.5115\n",
      "Epoch 4/50\n",
      "1250/1250 [==============================] - 14s 11ms/step - loss: 1.3809 - acc: 0.4969 - val_loss: 1.2265 - val_acc: 0.5525\n",
      "Epoch 5/50\n",
      "1250/1250 [==============================] - 14s 12ms/step - loss: 1.3324 - acc: 0.5211 - val_loss: 1.1842 - val_acc: 0.5760\n",
      "Epoch 6/50\n",
      "1250/1250 [==============================] - 14s 11ms/step - loss: 1.3008 - acc: 0.5335 - val_loss: 1.1230 - val_acc: 0.5905\n",
      "Epoch 7/50\n",
      "1250/1250 [==============================] - 15s 12ms/step - loss: 1.2712 - acc: 0.5460 - val_loss: 1.1012 - val_acc: 0.6007\n",
      "Epoch 8/50\n",
      "1250/1250 [==============================] - 15s 12ms/step - loss: 1.2459 - acc: 0.5534 - val_loss: 1.1020 - val_acc: 0.6058\n",
      "Epoch 9/50\n",
      "1250/1250 [==============================] - 14s 11ms/step - loss: 1.2244 - acc: 0.5606 - val_loss: 1.0178 - val_acc: 0.6365\n",
      "Epoch 10/50\n",
      "1250/1250 [==============================] - 15s 12ms/step - loss: 1.2029 - acc: 0.5688 - val_loss: 1.0037 - val_acc: 0.6370\n",
      "Epoch 11/50\n",
      "1250/1250 [==============================] - 15s 12ms/step - loss: 1.1973 - acc: 0.5719 - val_loss: 0.9759 - val_acc: 0.6516\n",
      "Epoch 12/50\n",
      "1250/1250 [==============================] - 15s 12ms/step - loss: 1.1756 - acc: 0.5839 - val_loss: 0.9963 - val_acc: 0.6399\n",
      "Epoch 13/50\n",
      "1250/1250 [==============================] - 15s 12ms/step - loss: 1.1640 - acc: 0.5851 - val_loss: 0.9831 - val_acc: 0.6437\n",
      "Epoch 14/50\n",
      "1250/1250 [==============================] - 15s 12ms/step - loss: 1.1584 - acc: 0.5884 - val_loss: 0.9862 - val_acc: 0.6508\n",
      "Epoch 15/50\n",
      "1250/1250 [==============================] - 14s 11ms/step - loss: 1.1404 - acc: 0.5934 - val_loss: 0.9621 - val_acc: 0.6603\n",
      "Epoch 16/50\n",
      "1250/1250 [==============================] - 15s 12ms/step - loss: 1.1305 - acc: 0.6021 - val_loss: 0.9283 - val_acc: 0.6757\n",
      "Epoch 17/50\n",
      "1250/1250 [==============================] - 15s 12ms/step - loss: 1.1208 - acc: 0.6065 - val_loss: 1.0132 - val_acc: 0.6371\n",
      "Epoch 18/50\n",
      "1250/1250 [==============================] - 15s 12ms/step - loss: 1.1232 - acc: 0.6027 - val_loss: 0.9123 - val_acc: 0.6739\n",
      "Epoch 19/50\n",
      "1250/1250 [==============================] - 15s 12ms/step - loss: 1.1042 - acc: 0.6089 - val_loss: 0.9693 - val_acc: 0.6518\n",
      "Epoch 20/50\n",
      "1250/1250 [==============================] - 16s 12ms/step - loss: 1.1042 - acc: 0.6111 - val_loss: 0.9979 - val_acc: 0.6431\n",
      "Epoch 21/50\n",
      "1250/1250 [==============================] - 17s 14ms/step - loss: 1.0970 - acc: 0.6173 - val_loss: 0.9161 - val_acc: 0.6800\n",
      "Epoch 22/50\n",
      "1250/1250 [==============================] - 16s 13ms/step - loss: 1.0882 - acc: 0.6177 - val_loss: 0.9194 - val_acc: 0.6699\n",
      "Epoch 23/50\n",
      "1250/1250 [==============================] - 16s 13ms/step - loss: 1.0779 - acc: 0.6229 - val_loss: 0.8974 - val_acc: 0.6762\n",
      "Epoch 24/50\n",
      "1250/1250 [==============================] - 16s 13ms/step - loss: 1.0742 - acc: 0.6250 - val_loss: 0.9594 - val_acc: 0.6601\n",
      "Epoch 25/50\n",
      "1250/1250 [==============================] - 15s 12ms/step - loss: 1.0664 - acc: 0.6233 - val_loss: 0.8941 - val_acc: 0.6844\n",
      "Epoch 26/50\n",
      "1250/1250 [==============================] - 15s 12ms/step - loss: 1.0664 - acc: 0.6262 - val_loss: 0.8962 - val_acc: 0.6870\n",
      "Epoch 27/50\n",
      "1250/1250 [==============================] - 16s 13ms/step - loss: 1.0611 - acc: 0.6295 - val_loss: 1.0012 - val_acc: 0.6469\n",
      "Epoch 28/50\n",
      "1250/1250 [==============================] - 21s 17ms/step - loss: 1.0570 - acc: 0.6311 - val_loss: 0.9170 - val_acc: 0.6668\n",
      "Epoch 29/50\n",
      "1250/1250 [==============================] - 15s 12ms/step - loss: 1.0529 - acc: 0.6308 - val_loss: 0.9118 - val_acc: 0.6721\n",
      "Epoch 30/50\n",
      "1250/1250 [==============================] - 14s 11ms/step - loss: 1.0496 - acc: 0.6319 - val_loss: 0.8851 - val_acc: 0.6833\n",
      "Epoch 31/50\n",
      "1250/1250 [==============================] - 14s 11ms/step - loss: 1.0464 - acc: 0.6364 - val_loss: 0.8689 - val_acc: 0.6937\n",
      "Epoch 32/50\n",
      "1250/1250 [==============================] - 13s 10ms/step - loss: 1.0445 - acc: 0.6359 - val_loss: 0.8961 - val_acc: 0.6813\n",
      "Epoch 33/50\n",
      "1250/1250 [==============================] - 13s 10ms/step - loss: 1.0359 - acc: 0.6378 - val_loss: 0.9324 - val_acc: 0.6667\n",
      "Epoch 34/50\n",
      "1250/1250 [==============================] - 13s 10ms/step - loss: 1.0313 - acc: 0.6436 - val_loss: 0.8748 - val_acc: 0.6902\n",
      "Epoch 35/50\n",
      "1250/1250 [==============================] - 13s 10ms/step - loss: 1.0371 - acc: 0.6406 - val_loss: 0.9027 - val_acc: 0.6755\n",
      "Epoch 36/50\n",
      "1250/1250 [==============================] - 13s 11ms/step - loss: 1.0301 - acc: 0.6455 - val_loss: 0.8953 - val_acc: 0.6793\n",
      "Epoch 37/50\n",
      "1250/1250 [==============================] - 13s 11ms/step - loss: 1.0308 - acc: 0.6416 - val_loss: 0.9151 - val_acc: 0.6731\n",
      "Epoch 38/50\n",
      "1250/1250 [==============================] - 13s 10ms/step - loss: 1.0250 - acc: 0.6469 - val_loss: 0.8347 - val_acc: 0.7054\n",
      "Epoch 39/50\n",
      "1250/1250 [==============================] - 13s 10ms/step - loss: 1.0233 - acc: 0.6460 - val_loss: 0.8795 - val_acc: 0.6855\n",
      "Epoch 40/50\n",
      "1250/1250 [==============================] - 13s 10ms/step - loss: 1.0187 - acc: 0.6449 - val_loss: 0.8484 - val_acc: 0.7035\n",
      "Epoch 41/50\n",
      "1250/1250 [==============================] - 13s 10ms/step - loss: 1.0116 - acc: 0.6498 - val_loss: 0.8326 - val_acc: 0.7061\n",
      "Epoch 42/50\n",
      "1250/1250 [==============================] - 13s 10ms/step - loss: 1.0156 - acc: 0.6485 - val_loss: 0.8230 - val_acc: 0.7117\n",
      "Epoch 43/50\n",
      "1250/1250 [==============================] - 13s 10ms/step - loss: 1.0131 - acc: 0.6508 - val_loss: 0.8614 - val_acc: 0.6968\n",
      "Epoch 44/50\n",
      "1250/1250 [==============================] - 13s 10ms/step - loss: 1.0184 - acc: 0.6505 - val_loss: 0.9191 - val_acc: 0.6728\n",
      "Epoch 45/50\n",
      "1250/1250 [==============================] - 13s 10ms/step - loss: 1.0005 - acc: 0.6541 - val_loss: 0.8634 - val_acc: 0.6995\n",
      "Epoch 46/50\n",
      "1250/1250 [==============================] - 13s 10ms/step - loss: 1.0058 - acc: 0.6536 - val_loss: 0.8676 - val_acc: 0.6919\n",
      "Epoch 47/50\n",
      "1250/1250 [==============================] - 13s 10ms/step - loss: 1.0092 - acc: 0.6504 - val_loss: 0.8454 - val_acc: 0.7085\n",
      "Epoch 48/50\n",
      "1250/1250 [==============================] - 14s 11ms/step - loss: 1.0065 - acc: 0.6516 - val_loss: 0.8504 - val_acc: 0.6989\n",
      "Epoch 49/50\n",
      "1250/1250 [==============================] - 14s 11ms/step - loss: 1.0013 - acc: 0.6537 - val_loss: 0.8281 - val_acc: 0.7021\n",
      "Epoch 50/50\n",
      "1250/1250 [==============================] - 14s 11ms/step - loss: 1.0033 - acc: 0.6532 - val_loss: 0.8081 - val_acc: 0.7165\n"
     ]
    }
   ],
   "source": [
    "history5 = model5.fit_generator(datagen.flow(x_train, y_train, batch_size=batch_size),\n",
    "                    steps_per_epoch=x_train.shape[0] / batch_size,\n",
    "                    epochs=50,\n",
    "                    verbose=1,\n",
    "                    validation_data=(x_val, y_val))"
   ]
  },
  {
   "cell_type": "code",
   "execution_count": 16,
   "metadata": {},
   "outputs": [
    {
     "name": "stdout",
     "output_type": "stream",
     "text": [
      "10000/10000 [==============================] - 1s 63us/step\n",
      "The accuracy of model 5 for test data is: 71.57%\n"
     ]
    }
   ],
   "source": [
    "result5 = model5.evaluate(x_test, y_test, batch_size=batch_size, verbose=1)\n",
    "test_acc_5 = result5[1]\n",
    "print('The accuracy of model 5 for test data is: {}%'.format(test_acc_5*100))"
   ]
  },
  {
   "cell_type": "code",
   "execution_count": 17,
   "metadata": {},
   "outputs": [
    {
     "data": {
      "image/png": "[encoded data removed]",
      "text/plain": [
       "<Figure size 432x288 with 1 Axes>"
      ]
     },
     "metadata": {
      "needs_background": "light"
     },
     "output_type": "display_data"
    }
   ],
   "source": [
    "plt.plot(history5.history['acc'])\n",
    "plt.plot(history5.history['val_acc'])\n",
    "plt.title('model accuracy')\n",
    "plt.ylabel('accuracy')\n",
    "plt.xlabel('epoch')\n",
    "plt.legend(['train', 'valid'], loc='upper left')\n",
    "plt.show()"
   ]
  },
  {
   "cell_type": "code",
   "execution_count": 18,
   "metadata": {},
   "outputs": [
    {
     "data": {
      "image/png": "[encoded data removed]",
      "text/plain": [
       "<Figure size 432x288 with 1 Axes>"
      ]
     },
     "metadata": {
      "needs_background": "light"
     },
     "output_type": "display_data"
    }
   ],
   "source": [
    "plt.plot(history5.history['loss'])\n",
    "plt.plot(history5.history['val_loss'])\n",
    "plt.title('model loss')\n",
    "plt.ylabel('loss')\n",
    "plt.xlabel('epoch')\n",
    "plt.legend(['train', 'valid'], loc='upper left')\n",
    "plt.show()"
   ]
  },
  {
   "cell_type": "code",
   "execution_count": null,
   "metadata": {},
   "outputs": [],
   "source": []
  }
 ],
 "metadata": {
  "kernelspec": {
   "display_name": "tf_gpu",
   "language": "python",
   "name": "tf_gpu"
  },
  "language_info": {
   "codemirror_mode": {
    "name": "ipython",
    "version": 3
   },
   "file_extension": ".py",
   "mimetype": "text/x-python",
   "name": "python",
   "nbconvert_exporter": "python",
   "pygments_lexer": "ipython3",
   "version": "3.6.8"
  }
 },
 "nbformat": 4,
 "nbformat_minor": 2
}
