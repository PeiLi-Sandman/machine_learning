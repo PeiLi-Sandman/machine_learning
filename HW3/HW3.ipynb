{
  "nbformat": 4,
  "nbformat_minor": 0,
  "metadata": {
    "colab": {
      "name": "HW3.ipynb",
      "version": "0.3.2",
      "provenance": [],
      "collapsed_sections": [],
      "include_colab_link": true
    },
    "kernelspec": {
      "name": "python3",
      "display_name": "Python 3"
    },
    "accelerator": "GPU"
  },
  "cells": [
    {
      "cell_type": "markdown",
      "metadata": {
        "id": "view-in-github",
        "colab_type": "text"
      },
      "source": [
        "<a href=\"https://colab.research.google.com/github/PeiLi-Sandman/machine_learning/blob/master/HW3/HW3.ipynb\" target=\"_parent\"><img src=\"https://colab.research.google.com/assets/colab-badge.svg\" alt=\"Open In Colab\"/></a>"
      ]
    },
    {
      "metadata": {
        "id": "YuKX1XY2gWzQ",
        "colab_type": "text"
      },
      "cell_type": "markdown",
      "source": [
        "# Problem 1"
      ]
    },
    {
      "metadata": {
        "id": "y3msS35bf-mS",
        "colab_type": "code",
        "colab": {
          "base_uri": "https://localhost:8080/",
          "height": 215
        },
        "outputId": "ff3ee5ff-7378-44cc-a015-8a4d8dd2643d"
      },
      "cell_type": "code",
      "source": [
        "!wget --no-check-certificate \\\n",
        "    https://storage.googleapis.com/mledu-datasets/cats_and_dogs_filtered.zip \\\n",
        "    -O /tmp/cats_and_dogs_filtered.zip"
      ],
      "execution_count": 1,
      "outputs": [
        {
          "output_type": "stream",
          "text": [
            "--2019-04-13 21:03:32--  https://storage.googleapis.com/mledu-datasets/cats_and_dogs_filtered.zip\n",
            "Resolving storage.googleapis.com (storage.googleapis.com)... 74.125.140.128, 2a00:1450:400c:c07::80\n",
            "Connecting to storage.googleapis.com (storage.googleapis.com)|74.125.140.128|:443... connected.\n",
            "HTTP request sent, awaiting response... 200 OK\n",
            "Length: 68606236 (65M) [application/zip]\n",
            "Saving to: ‘/tmp/cats_and_dogs_filtered.zip’\n",
            "\n",
            "/tmp/cats_and_dogs_ 100%[===================>]  65.43M  71.0MB/s    in 0.9s    \n",
            "\n",
            "2019-04-13 21:03:33 (71.0 MB/s) - ‘/tmp/cats_and_dogs_filtered.zip’ saved [68606236/68606236]\n",
            "\n"
          ],
          "name": "stdout"
        }
      ]
    },
    {
      "metadata": {
        "id": "pNKfyqxugB14",
        "colab_type": "code",
        "colab": {}
      },
      "cell_type": "code",
      "source": [
        "import os\n",
        "import zipfile\n",
        "\n",
        "local_zip = '/tmp/cats_and_dogs_filtered.zip'\n",
        "zip_ref = zipfile.ZipFile(local_zip, 'r')\n",
        "zip_ref.extractall('/tmp')\n",
        "zip_ref.close()"
      ],
      "execution_count": 0,
      "outputs": []
    },
    {
      "metadata": {
        "id": "P108x2G4gLr2",
        "colab_type": "code",
        "colab": {}
      },
      "cell_type": "code",
      "source": [
        "base_dir = '/tmp/cats_and_dogs_filtered'\n",
        "train_dir = os.path.join(base_dir, 'train')\n",
        "validation_dir = os.path.join(base_dir, 'validation')\n",
        "\n",
        "# Directory with our training cat pictures\n",
        "train_cats_dir = os.path.join(train_dir, 'cats')\n",
        "\n",
        "# Directory with our training dog pictures\n",
        "train_dogs_dir = os.path.join(train_dir, 'dogs')\n",
        "\n",
        "# Directory with our validation cat pictures\n",
        "validation_cats_dir = os.path.join(validation_dir, 'cats')\n",
        "\n",
        "# Directory with our validation dog pictures\n",
        "validation_dogs_dir = os.path.join(validation_dir, 'dogs')"
      ],
      "execution_count": 0,
      "outputs": []
    },
    {
      "metadata": {
        "id": "79Xiie8pgPPW",
        "colab_type": "code",
        "colab": {
          "base_uri": "https://localhost:8080/",
          "height": 145
        },
        "outputId": "7f0797e9-afce-4005-8a37-7e1e6d101570"
      },
      "cell_type": "code",
      "source": [
        "from keras.applications import VGG19\n",
        "\n",
        "conv_base = VGG19(\n",
        "    weights='imagenet', \n",
        "    include_top=False, \n",
        "    input_shape=(150, 150, 3))"
      ],
      "execution_count": 4,
      "outputs": [
        {
          "output_type": "stream",
          "text": [
            "Using TensorFlow backend.\n"
          ],
          "name": "stderr"
        },
        {
          "output_type": "stream",
          "text": [
            "WARNING:tensorflow:From /usr/local/lib/python3.6/dist-packages/tensorflow/python/framework/op_def_library.py:263: colocate_with (from tensorflow.python.framework.ops) is deprecated and will be removed in a future version.\n",
            "Instructions for updating:\n",
            "Colocations handled automatically by placer.\n",
            "Downloading data from https://github.com/fchollet/deep-learning-models/releases/download/v0.1/vgg19_weights_tf_dim_ordering_tf_kernels_notop.h5\n",
            "80142336/80134624 [==============================] - 3s 0us/step\n"
          ],
          "name": "stdout"
        }
      ]
    },
    {
      "metadata": {
        "id": "5J9Zd3mqgpvn",
        "colab_type": "code",
        "colab": {}
      },
      "cell_type": "code",
      "source": [
        "conv_base.trainable = False"
      ],
      "execution_count": 0,
      "outputs": []
    },
    {
      "metadata": {
        "id": "8oZXAofWg3Fn",
        "colab_type": "code",
        "colab": {}
      },
      "cell_type": "code",
      "source": [
        "from keras import layers\n",
        "from keras import models\n",
        "from keras import optimizers\n",
        "\n",
        "model = models.Sequential()\n",
        "model.add(conv_base)\n",
        "model.add(layers.Flatten())\n",
        "model.add(layers.Dense(256, activation='relu'))\n",
        "# no dropout\n",
        "model.add(layers.Dense(1, activation='sigmoid'))"
      ],
      "execution_count": 0,
      "outputs": []
    },
    {
      "metadata": {
        "id": "Nk8g7cAGg4r4",
        "colab_type": "code",
        "colab": {
          "base_uri": "https://localhost:8080/",
          "height": 1187
        },
        "outputId": "706ac161-81d0-488a-886f-044e5e85f655"
      },
      "cell_type": "code",
      "source": [
        "from keras.preprocessing.image import ImageDataGenerator\n",
        "from keras import optimizers\n",
        "\n",
        "# data augmentation\n",
        "\n",
        "train_datagen = ImageDataGenerator(\n",
        "    rescale=1./255, \n",
        "    rotation_range=40,\n",
        "    width_shift_range=0.2,\n",
        "    height_shift_range=0.2,\n",
        "    shear_range=0.2,\n",
        "    zoom_range=0.2,\n",
        "    horizontal_flip=True,\n",
        "    fill_mode='nearest'\n",
        ")\n",
        "\n",
        "train_generator = train_datagen.flow_from_directory(\n",
        "    train_dir,\n",
        "    target_size=(150, 150),\n",
        "    batch_size=20,\n",
        "    class_mode='binary')\n",
        "\n",
        "validation_datagen = ImageDataGenerator(rescale=1./255)\n",
        "\n",
        "validation_generator = validation_datagen.flow_from_directory(\n",
        "    validation_dir,\n",
        "    target_size=(150, 150),\n",
        "    batch_size=20,\n",
        "    class_mode='binary')\n",
        "\n",
        "# compile model\n",
        "\n",
        "model.compile(\n",
        "    loss='binary_crossentropy', \n",
        "    optimizer=optimizers.RMSprop(lr=2e-5), \n",
        "    metrics=['acc'])\n",
        "\n",
        "# train\n",
        "\n",
        "history = model.fit_generator(\n",
        "    train_generator,\n",
        "    steps_per_epoch=100,\n",
        "    epochs=30,\n",
        "    validation_data=validation_generator,\n",
        "    validation_steps=50\n",
        ")"
      ],
      "execution_count": 7,
      "outputs": [
        {
          "output_type": "stream",
          "text": [
            "Found 2000 images belonging to 2 classes.\n",
            "Found 1000 images belonging to 2 classes.\n",
            "WARNING:tensorflow:From /usr/local/lib/python3.6/dist-packages/tensorflow/python/ops/math_ops.py:3066: to_int32 (from tensorflow.python.ops.math_ops) is deprecated and will be removed in a future version.\n",
            "Instructions for updating:\n",
            "Use tf.cast instead.\n",
            "Epoch 1/30\n",
            "100/100 [==============================] - 34s 335ms/step - loss: 0.6167 - acc: 0.6595 - val_loss: 0.4921 - val_acc: 0.7870\n",
            "Epoch 2/30\n",
            "100/100 [==============================] - 28s 285ms/step - loss: 0.5185 - acc: 0.7620 - val_loss: 0.4280 - val_acc: 0.8200\n",
            "Epoch 3/30\n",
            "100/100 [==============================] - 29s 285ms/step - loss: 0.4801 - acc: 0.7735 - val_loss: 0.3797 - val_acc: 0.8260\n",
            "Epoch 4/30\n",
            "100/100 [==============================] - 28s 285ms/step - loss: 0.4435 - acc: 0.8055 - val_loss: 0.3539 - val_acc: 0.8380\n",
            "Epoch 5/30\n",
            "100/100 [==============================] - 28s 285ms/step - loss: 0.4222 - acc: 0.8155 - val_loss: 0.3366 - val_acc: 0.8470\n",
            "Epoch 6/30\n",
            "100/100 [==============================] - 28s 285ms/step - loss: 0.4056 - acc: 0.8250 - val_loss: 0.3266 - val_acc: 0.8570\n",
            "Epoch 7/30\n",
            "100/100 [==============================] - 28s 285ms/step - loss: 0.4074 - acc: 0.8060 - val_loss: 0.3207 - val_acc: 0.8560\n",
            "Epoch 8/30\n",
            "100/100 [==============================] - 28s 284ms/step - loss: 0.3849 - acc: 0.8290 - val_loss: 0.3129 - val_acc: 0.8600\n",
            "Epoch 9/30\n",
            "100/100 [==============================] - 28s 284ms/step - loss: 0.3746 - acc: 0.8350 - val_loss: 0.3314 - val_acc: 0.8580\n",
            "Epoch 10/30\n",
            "100/100 [==============================] - 28s 283ms/step - loss: 0.3689 - acc: 0.8370 - val_loss: 0.3039 - val_acc: 0.8670\n",
            "Epoch 11/30\n",
            "100/100 [==============================] - 28s 284ms/step - loss: 0.3776 - acc: 0.8290 - val_loss: 0.2941 - val_acc: 0.8760\n",
            "Epoch 12/30\n",
            "100/100 [==============================] - 28s 284ms/step - loss: 0.3677 - acc: 0.8375 - val_loss: 0.3156 - val_acc: 0.8720\n",
            "Epoch 13/30\n",
            "100/100 [==============================] - 28s 284ms/step - loss: 0.3551 - acc: 0.8550 - val_loss: 0.2957 - val_acc: 0.8690\n",
            "Epoch 14/30\n",
            "100/100 [==============================] - 28s 284ms/step - loss: 0.3441 - acc: 0.8470 - val_loss: 0.2789 - val_acc: 0.8860\n",
            "Epoch 15/30\n",
            "100/100 [==============================] - 28s 285ms/step - loss: 0.3674 - acc: 0.8310 - val_loss: 0.2839 - val_acc: 0.8760\n",
            "Epoch 16/30\n",
            "100/100 [==============================] - 28s 285ms/step - loss: 0.3469 - acc: 0.8440 - val_loss: 0.2893 - val_acc: 0.8720\n",
            "Epoch 17/30\n",
            "100/100 [==============================] - 28s 284ms/step - loss: 0.3450 - acc: 0.8495 - val_loss: 0.2734 - val_acc: 0.8820\n",
            "Epoch 18/30\n",
            "100/100 [==============================] - 28s 284ms/step - loss: 0.3558 - acc: 0.8455 - val_loss: 0.2717 - val_acc: 0.8840\n",
            "Epoch 19/30\n",
            "100/100 [==============================] - 28s 284ms/step - loss: 0.3374 - acc: 0.8485 - val_loss: 0.2796 - val_acc: 0.8810\n",
            "Epoch 20/30\n",
            "100/100 [==============================] - 28s 283ms/step - loss: 0.3347 - acc: 0.8585 - val_loss: 0.2697 - val_acc: 0.8790\n",
            "Epoch 21/30\n",
            "100/100 [==============================] - 28s 284ms/step - loss: 0.3333 - acc: 0.8455 - val_loss: 0.2662 - val_acc: 0.8820\n",
            "Epoch 22/30\n",
            "100/100 [==============================] - 28s 284ms/step - loss: 0.3373 - acc: 0.8545 - val_loss: 0.2675 - val_acc: 0.8830\n",
            "Epoch 23/30\n",
            "100/100 [==============================] - 29s 285ms/step - loss: 0.3334 - acc: 0.8545 - val_loss: 0.2700 - val_acc: 0.8810\n",
            "Epoch 24/30\n",
            "100/100 [==============================] - 28s 285ms/step - loss: 0.3121 - acc: 0.8635 - val_loss: 0.3189 - val_acc: 0.8650\n",
            "Epoch 25/30\n",
            "100/100 [==============================] - 28s 285ms/step - loss: 0.3383 - acc: 0.8520 - val_loss: 0.2723 - val_acc: 0.8830\n",
            "Epoch 26/30\n",
            "100/100 [==============================] - 28s 284ms/step - loss: 0.3232 - acc: 0.8535 - val_loss: 0.2811 - val_acc: 0.8810\n",
            "Epoch 27/30\n",
            "100/100 [==============================] - 28s 283ms/step - loss: 0.3230 - acc: 0.8575 - val_loss: 0.2696 - val_acc: 0.8790\n",
            "Epoch 28/30\n",
            "100/100 [==============================] - 28s 284ms/step - loss: 0.3188 - acc: 0.8595 - val_loss: 0.2736 - val_acc: 0.8830\n",
            "Epoch 29/30\n",
            "100/100 [==============================] - 28s 285ms/step - loss: 0.3263 - acc: 0.8530 - val_loss: 0.2683 - val_acc: 0.8800\n",
            "Epoch 30/30\n",
            "100/100 [==============================] - 28s 285ms/step - loss: 0.3087 - acc: 0.8630 - val_loss: 0.2888 - val_acc: 0.8810\n"
          ],
          "name": "stdout"
        }
      ]
    },
    {
      "metadata": {
        "id": "HGQp0F5lg7KH",
        "colab_type": "code",
        "colab": {
          "base_uri": "https://localhost:8080/",
          "height": 545
        },
        "outputId": "0f9a0622-8017-4334-a4e2-28f0d4c6134c"
      },
      "cell_type": "code",
      "source": [
        "%matplotlib inline\n",
        "\n",
        "import matplotlib.pyplot as plt\n",
        "\n",
        "acc = history.history['acc']\n",
        "val_acc = history.history['val_acc']\n",
        "\n",
        "loss = history.history['loss']\n",
        "val_loss = history.history['val_loss']\n",
        "\n",
        "epochs = range(1, len(acc) + 1)\n",
        "\n",
        "# training and validation accuracy\n",
        "\n",
        "plt.plot(epochs, acc, 'bo', label='training acc')\n",
        "plt.plot(epochs, val_acc, 'b', label='validation acc')\n",
        "plt.title('training and validation accuracy')\n",
        "plt.legend()\n",
        "\n",
        "plt.figure()\n",
        "\n",
        "# training and validation loss\n",
        "\n",
        "plt.plot(epochs, loss, 'bo', label='training loss')\n",
        "plt.plot(epochs, val_loss, 'b', label='validation loss')\n",
        "plt.title('training and validation loss')\n",
        "plt.legend()\n",
        "\n",
        "plt.show()"
      ],
      "execution_count": 8,
      "outputs": [
        {
          "output_type": "display_data",
          "data": {
            "image/png": "[encoded data removed]",
            "text/plain": [
              "<Figure size 432x288 with 1 Axes>"
            ]
          },
          "metadata": {
            "tags": []
          }
        },
        {
          "output_type": "display_data",
          "data": {
            "image/png": "[encoded data removed]",
            "text/plain": [
              "<Figure size 432x288 with 1 Axes>"
            ]
          },
          "metadata": {
            "tags": []
          }
        }
      ]
    },
    {
      "metadata": {
        "id": "1KKija8-hiGZ",
        "colab_type": "code",
        "colab": {}
      },
      "cell_type": "code",
      "source": [
        ""
      ],
      "execution_count": 0,
      "outputs": []
    }
  ]
}