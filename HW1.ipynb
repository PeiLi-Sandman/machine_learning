{
  "nbformat": 4,
  "nbformat_minor": 0,
  "metadata": {
    "colab": {
      "name": "HW1.ipynb",
      "version": "0.3.2",
      "provenance": [],
      "include_colab_link": true
    },
    "kernelspec": {
      "name": "python3",
      "display_name": "Python 3"
    }
  },
  "cells": [
    {
      "cell_type": "markdown",
      "metadata": {
        "id": "view-in-github",
        "colab_type": "text"
      },
      "source": [
        "<a href=\"https://colab.research.google.com/github/PeiLi-Sandman/machine_learning/blob/master/HW1.ipynb\" target=\"_parent\"><img src=\"https://colab.research.google.com/assets/colab-badge.svg\" alt=\"Open In Colab\"/></a>"
      ]
    },
    {
      "metadata": {
        "id": "sYfHqX9aO6-E",
        "colab_type": "code",
        "colab": {}
      },
      "cell_type": "code",
      "source": [
        "#Problem 1"
      ],
      "execution_count": 0,
      "outputs": []
    },
    {
      "metadata": {
        "id": "mJUfmM1CN3vg",
        "colab_type": "code",
        "colab": {
          "base_uri": "https://localhost:8080/",
          "height": 34
        },
        "outputId": "32cdb17f-22f1-4804-9f73-ab59a934e746"
      },
      "cell_type": "code",
      "source": [
        "import keras\n",
        "from keras.datasets import mnist\n",
        "from keras import backend as K\n",
        "import numpy as np"
      ],
      "execution_count": 1,
      "outputs": [
        {
          "output_type": "stream",
          "text": [
            "Using TensorFlow backend.\n"
          ],
          "name": "stderr"
        }
      ]
    },
    {
      "metadata": {
        "id": "7uIflp25OR1i",
        "colab_type": "code",
        "colab": {
          "base_uri": "https://localhost:8080/",
          "height": 51
        },
        "outputId": "2b502fed-7f6a-40b1-fd9e-3d61b5b1ac36"
      },
      "cell_type": "code",
      "source": [
        "(x_train_origin, y_train_origin),(x_test_origin, y_test_origin) = mnist.load_data()"
      ],
      "execution_count": 2,
      "outputs": [
        {
          "output_type": "stream",
          "text": [
            "Downloading data from https://s3.amazonaws.com/img-datasets/mnist.npz\n",
            "11493376/11490434 [==============================] - 0s 0us/step\n"
          ],
          "name": "stdout"
        }
      ]
    },
    {
      "metadata": {
        "id": "8p7mtnvCOS3S",
        "colab_type": "code",
        "colab": {}
      },
      "cell_type": "code",
      "source": [
        "# if digit == 1, then label = 1, else label = 0\n",
        "func = lambda x: 1 if x == 1 else 0"
      ],
      "execution_count": 0,
      "outputs": []
    },
    {
      "metadata": {
        "id": "ZRrAgYK2OT1x",
        "colab_type": "code",
        "colab": {}
      },
      "cell_type": "code",
      "source": [
        "x_train = x_train_origin.reshape((60000, 28 * 28))\n",
        "x_test = x_test_origin.reshape((10000, 28 * 28))"
      ],
      "execution_count": 0,
      "outputs": []
    },
    {
      "metadata": {
        "id": "rWz2q_5FOUxx",
        "colab_type": "code",
        "colab": {}
      },
      "cell_type": "code",
      "source": [
        "y_train = np.array([func(y) for y in y_train_origin])\n",
        "y_test = np.array([func(y) for y in y_test_origin])"
      ],
      "execution_count": 0,
      "outputs": []
    },
    {
      "metadata": {
        "id": "6LsvyDoROVox",
        "colab_type": "code",
        "colab": {}
      },
      "cell_type": "code",
      "source": [
        "x_train = x_train.reshape(x_train.shape[0], -1).T\n",
        "x_test = x_test.reshape(x_test.shape[0], -1).T\n",
        "\n",
        "y_train = y_train.reshape(1,y_train.shape[0])\n",
        "y_test = y_test.reshape(1,y_test.shape[0])"
      ],
      "execution_count": 0,
      "outputs": []
    },
    {
      "metadata": {
        "id": "2sZ9wuM-OWaR",
        "colab_type": "code",
        "colab": {}
      },
      "cell_type": "code",
      "source": [
        "x_train = x_train.astype('float32') / 255.\n",
        "x_test = x_test.astype('float32') / 255."
      ],
      "execution_count": 0,
      "outputs": []
    },
    {
      "metadata": {
        "id": "MLCQKpKKOXaB",
        "colab_type": "code",
        "colab": {}
      },
      "cell_type": "code",
      "source": [
        "def sigmoid(z):\n",
        "    \n",
        "    s = 1.0/(1.0 + np.exp(-z))\n",
        "    \n",
        "    return s"
      ],
      "execution_count": 0,
      "outputs": []
    },
    {
      "metadata": {
        "id": "WYX3ikqVOYJx",
        "colab_type": "code",
        "colab": {}
      },
      "cell_type": "code",
      "source": [
        "def initialize_params_with_zeros(dim):\n",
        "    \n",
        "    w = np.zeros((dim,1))\n",
        "    b = 0\n",
        "    \n",
        "    assert(w.shape == (dim, 1))\n",
        "    assert(isinstance(b, float) or isinstance(b, int))\n",
        "    \n",
        "    return w, b"
      ],
      "execution_count": 0,
      "outputs": []
    },
    {
      "metadata": {
        "id": "EKGpq8TKOZHy",
        "colab_type": "code",
        "colab": {}
      },
      "cell_type": "code",
      "source": [
        "def propagate(w, b, X, Y):\n",
        "    \n",
        "    m = X.shape[1]\n",
        "\n",
        "    A = sigmoid(np.dot(w.T, X) + b)\n",
        "    # MSE Loss Function\n",
        "    loss = (1/m) * np.sum(np.square(Y - A))\n",
        "    \n",
        "    dL = 2*(A - Y)\n",
        "    dA = A * (1 - A) * dL\n",
        "    \n",
        "    # Derivative of w and d\n",
        "    dw = (1/m) * np.dot(X, dA.T)\n",
        "    db = (1/m) * np.sum(dA)\n",
        "\n",
        "    grads = {\"dw\": dw,\n",
        "             \"db\": db}\n",
        "    return grads, loss"
      ],
      "execution_count": 0,
      "outputs": []
    },
    {
      "metadata": {
        "id": "Tnmms7BqOZ7S",
        "colab_type": "code",
        "colab": {}
      },
      "cell_type": "code",
      "source": [
        "def optimize(w, b, X, Y, num_iters, batch_size, learning_rate, print_cost):\n",
        "   \n",
        "    costs = []\n",
        "    m = X.shape[1]\n",
        "    for i in range(num_iters):\n",
        "        #cost_batch is used to collect the cost during one iteration over different batches\n",
        "        cost_batch = []\n",
        "        #stochastic gradient descent\n",
        "        shuffled_indices = np.random.permutation(m)\n",
        "        X_shuffled = X[:,shuffled_indices]\n",
        "        y_shuffled = Y[:,shuffled_indices]\n",
        "        #apply mini-batch\n",
        "        for j in range(0, m, batch_size):\n",
        "            x_batch = X_shuffled[:, j:j+batch_size]\n",
        "            y_batch = y_shuffled[:, j:j+batch_size]\n",
        "            grads, cost = propagate(w, b, x_batch, y_batch)\n",
        "            dw = grads[\"dw\"]\n",
        "            db = grads[\"db\"]\n",
        "            w = w - learning_rate *  dw    \n",
        "            b = b - learning_rate *  db\n",
        "            cost_batch.append(cost)\n",
        "            # the cost of one iteration is the average number over batches\n",
        "            cost = np.mean(cost_batch)\n",
        "        costs.append(cost)            \n",
        "        if print_cost:\n",
        "            print (\"Cost after iteration %i: %f\" % (i+1, cost))\n",
        "    \n",
        "    params = {\"w\": w,\n",
        "              \"b\": b}\n",
        "    \n",
        "    grads = {\"dw\": dw,\n",
        "             \"db\": db}\n",
        "    \n",
        "    return params, grads, costs"
      ],
      "execution_count": 0,
      "outputs": []
    },
    {
      "metadata": {
        "id": "7k9CdZ-wOa8R",
        "colab_type": "code",
        "colab": {}
      },
      "cell_type": "code",
      "source": [
        "def predict(w, b, X):\n",
        "   \n",
        "    m = X.shape[1]\n",
        "    Y_pred = np.zeros((1, m))\n",
        "    w = w.reshape(X.shape[0], 1)\n",
        "    \n",
        "\n",
        "    A = sigmoid(np.dot(w.T, X) + b)\n",
        "\n",
        "    for i in range(A.shape[1]):\n",
        "        if A[0][i] <= 0.5:\n",
        "            Y_pred[0, i] = 0\n",
        "        else:\n",
        "            Y_pred[0, i] = 1\n",
        "                \n",
        "    assert(Y_pred.shape == (1, m))\n",
        "    \n",
        "    return Y_pred"
      ],
      "execution_count": 0,
      "outputs": []
    },
    {
      "metadata": {
        "id": "ouDxjdDPOcAR",
        "colab_type": "code",
        "colab": {}
      },
      "cell_type": "code",
      "source": [
        "def model(x_train, y_train, x_test, y_test, num_iters=20, batch_size = 5, learning_rate=0.5, print_cost=False):\n",
        "    \n",
        "    w, b = initialize_params_with_zeros(x_train.shape[0])                          \n",
        "\n",
        "    parameters, grads, costs = optimize(w, b, x_train, y_train, num_iters, batch_size, learning_rate, print_cost)     \n",
        "\n",
        "    w = parameters[\"w\"]\n",
        "    b = parameters[\"b\"]\n",
        "    \n",
        "\n",
        "    Y_pred_test = predict(w, b, x_test)\n",
        "    Y_pred_train = predict(w, b, x_train)\n",
        "\n",
        "    print(\"\")\n",
        "    \n",
        "    train_accuracy =  100 - np.mean(np.abs(Y_pred_train - y_train)) * 100\n",
        "    test_accuracy = 100 - np.mean(np.abs(Y_pred_test - y_test)) * 100\n",
        "    \n",
        "    print(\"train accuracy: {} %\".format(train_accuracy))\n",
        "    print(\"test accuracy: {} %\".format(test_accuracy))\n",
        "    repr('train accuracy')\n",
        "    \n",
        "    d = {\"costs\": costs,\n",
        "         \"Y_pred_test\": Y_pred_test, \n",
        "         \"Y_pred_train\" : Y_pred_train, \n",
        "         \"w\" : w, \n",
        "         \"b\" : b,\n",
        "         \"learning_rate\" : learning_rate,\n",
        "         \"num_iters\": num_iters}\n",
        "    \n",
        "    return d, train_accuracy, test_accuracy"
      ],
      "execution_count": 0,
      "outputs": []
    },
    {
      "metadata": {
        "id": "TMxQGxDZOc4x",
        "colab_type": "code",
        "colab": {
          "base_uri": "https://localhost:8080/",
          "height": 238
        },
        "outputId": "43262b20-7576-4939-faf6-d60535dcf829"
      },
      "cell_type": "code",
      "source": [
        "# the accuracy for number 1\n",
        "d, train, test = model(x_train, y_train, x_test, y_test, num_iters=10, batch_size=10000, learning_rate=0.5, print_cost=True)"
      ],
      "execution_count": 14,
      "outputs": [
        {
          "output_type": "stream",
          "text": [
            "Cost after iteration 1: 0.109176\n",
            "Cost after iteration 2: 0.045068\n",
            "Cost after iteration 3: 0.032195\n",
            "Cost after iteration 4: 0.027212\n",
            "Cost after iteration 5: 0.024243\n",
            "Cost after iteration 6: 0.022238\n",
            "Cost after iteration 7: 0.020764\n",
            "Cost after iteration 8: 0.019631\n",
            "Cost after iteration 9: 0.018720\n",
            "Cost after iteration 10: 0.017969\n",
            "\n",
            "train accuracy: 98.48666666666666 %\n",
            "test accuracy: 98.71 %\n"
          ],
          "name": "stdout"
        }
      ]
    },
    {
      "metadata": {
        "id": "3Sd3cqCYOeBB",
        "colab_type": "code",
        "colab": {
          "base_uri": "https://localhost:8080/",
          "height": 867
        },
        "outputId": "5eac4986-de83-4ab8-a64b-dba38f28b481"
      },
      "cell_type": "code",
      "source": [
        "# the accuracy for number 0 to number 9\n",
        "\n",
        "for i in range(10):\n",
        "# if digit == i, then label = 1, else label = 0\n",
        "    func = lambda x: 1 if x == i else 0\n",
        "    y_train = np.array([func(y) for y in y_train_origin])\n",
        "    y_test = np.array([func(y) for y in y_test_origin])\n",
        "    \n",
        "    y_train = y_train.reshape(1,y_train.shape[0])\n",
        "    y_test = y_test.reshape(1,y_test.shape[0])\n",
        "    \n",
        "    print(\"\\n\", \"the accuracy of number {}\".format(i))\n",
        "    \n",
        "    d, train, test = model(x_train, y_train, x_test, y_test, num_iters=10, batch_size=10000, learning_rate=0.5, print_cost=False)\n",
        "    \n"
      ],
      "execution_count": 15,
      "outputs": [
        {
          "output_type": "stream",
          "text": [
            "\n",
            " the accuracy of number 0\n",
            "\n",
            "train accuracy: 98.20166666666667 %\n",
            "test accuracy: 98.3 %\n",
            "\n",
            " the accuracy of number 1\n",
            "\n",
            "train accuracy: 98.48333333333333 %\n",
            "test accuracy: 98.72 %\n",
            "\n",
            " the accuracy of number 2\n",
            "\n",
            "train accuracy: 96.28 %\n",
            "test accuracy: 96.26 %\n",
            "\n",
            " the accuracy of number 3\n",
            "\n",
            "train accuracy: 95.73666666666666 %\n",
            "test accuracy: 96.09 %\n",
            "\n",
            " the accuracy of number 4\n",
            "\n",
            "train accuracy: 96.76666666666667 %\n",
            "test accuracy: 96.7 %\n",
            "\n",
            " the accuracy of number 5\n",
            "\n",
            "train accuracy: 93.815 %\n",
            "test accuracy: 94.11 %\n",
            "\n",
            " the accuracy of number 6\n",
            "\n",
            "train accuracy: 97.74833333333333 %\n",
            "test accuracy: 97.74 %\n",
            "\n",
            " the accuracy of number 7\n",
            "\n",
            "train accuracy: 97.52166666666666 %\n",
            "test accuracy: 97.54 %\n",
            "\n",
            " the accuracy of number 8\n",
            "\n",
            "train accuracy: 92.21 %\n",
            "test accuracy: 91.99 %\n",
            "\n",
            " the accuracy of number 9\n",
            "\n",
            "train accuracy: 93.67833333333333 %\n",
            "test accuracy: 94.13 %\n"
          ],
          "name": "stdout"
        }
      ]
    },
    {
      "metadata": {
        "id": "6L1CpTFpOgHy",
        "colab_type": "code",
        "colab": {}
      },
      "cell_type": "code",
      "source": [
        "#Problem 2"
      ],
      "execution_count": 0,
      "outputs": []
    },
    {
      "metadata": {
        "id": "Fa8sfdymPBSb",
        "colab_type": "code",
        "colab": {}
      },
      "cell_type": "code",
      "source": [
        "import keras\n",
        "from keras.datasets import mnist\n",
        "import numpy as np"
      ],
      "execution_count": 0,
      "outputs": []
    },
    {
      "metadata": {
        "id": "3USWAfmhPFWb",
        "colab_type": "code",
        "colab": {}
      },
      "cell_type": "code",
      "source": [
        "(x_train_origin, y_train_origin),(x_test_origin, y_test_origin) = mnist.load_data()"
      ],
      "execution_count": 0,
      "outputs": []
    },
    {
      "metadata": {
        "id": "MnzgOwFoPGWi",
        "colab_type": "code",
        "colab": {}
      },
      "cell_type": "code",
      "source": [
        "# if digit == 1, then label = 1, else label = 0\n",
        "func = lambda x: 1 if x == 1 else 0"
      ],
      "execution_count": 0,
      "outputs": []
    },
    {
      "metadata": {
        "id": "jqrrSVgGPHVS",
        "colab_type": "code",
        "colab": {}
      },
      "cell_type": "code",
      "source": [
        "x_train = x_train_origin.reshape((60000, 28 * 28))\n",
        "x_test = x_test_origin.reshape((10000, 28 * 28))"
      ],
      "execution_count": 0,
      "outputs": []
    },
    {
      "metadata": {
        "id": "uyyAekcOPIMi",
        "colab_type": "code",
        "colab": {}
      },
      "cell_type": "code",
      "source": [
        "y_train = np.array([func(y) for y in y_train_origin])\n",
        "y_test = np.array([func(y) for y in y_test_origin])"
      ],
      "execution_count": 0,
      "outputs": []
    },
    {
      "metadata": {
        "id": "FWFI8VsnPJET",
        "colab_type": "code",
        "colab": {}
      },
      "cell_type": "code",
      "source": [
        "x_train = x_train.reshape(x_train.shape[0], -1).T\n",
        "x_test = x_test.reshape(x_test.shape[0], -1).T\n",
        "\n",
        "y_train = y_train.reshape(1,y_train.shape[0])\n",
        "y_test = y_test.reshape(1,y_test.shape[0])\n",
        "\n",
        "x_train = x_train.astype('float32') / 255\n",
        "x_test = x_test.astype('float32') / 255"
      ],
      "execution_count": 0,
      "outputs": []
    },
    {
      "metadata": {
        "id": "TSxVEZPuPLXy",
        "colab_type": "code",
        "colab": {}
      },
      "cell_type": "code",
      "source": [
        "def propagate(w, b, X, Y):\n",
        "    \n",
        "    m = X.shape[1]\n",
        "\n",
        "    A = sigmoid(np.dot(w.T, X) + b)                                       \n",
        "    cost = -1./m * np.sum(Y * np.log(A) + (1 - Y) * np.log(1-A)) \n",
        "\n",
        "    dw = (1/m)*np.dot(X,(A-Y).T)\n",
        "    db = 1/m*np.sum(A-Y)\n",
        "\n",
        "    assert(dw.shape == w.shape)\n",
        "    assert(db.dtype == float)\n",
        "\n",
        "    cost = np.squeeze(cost)\n",
        "    assert(cost.shape == ())\n",
        "    grads = {\"dw\": dw,\n",
        "             \"db\": db}\n",
        "    \n",
        "    return grads, cost"
      ],
      "execution_count": 0,
      "outputs": []
    },
    {
      "metadata": {
        "id": "doLivxw5PMKy",
        "colab_type": "code",
        "colab": {}
      },
      "cell_type": "code",
      "source": [
        "def optimize(w, b, X, Y, num_iters, batch_size, learning_rate, print_cost):\n",
        "   \n",
        "    costs = []\n",
        "    m = X.shape[1]\n",
        "    for i in range(num_iters):\n",
        "        #cost_batch is used to collect the cost during one iteration over different batches\n",
        "        cost_batch = []\n",
        "        #stochastic gradient descent\n",
        "        shuffled_indices = np.random.permutation(m)\n",
        "        X_shuffled = X[:,shuffled_indices]\n",
        "        y_shuffled = Y[:,shuffled_indices]\n",
        "        #mini-batch\n",
        "        for j in range(0, m, batch_size):\n",
        "            x_batch = X_shuffled[:,j:j+batch_size]\n",
        "            y_batch = y_shuffled[:,j:j+batch_size]\n",
        "            grads, cost = propagate(w, b, x_batch, y_batch)\n",
        "            dw = grads[\"dw\"]\n",
        "            db = grads[\"db\"]\n",
        "            w = w - learning_rate *  dw    \n",
        "            b = b - learning_rate *  db\n",
        "            cost_batch.append(cost)\n",
        "            # the cost of one iteration is the average number over batches\n",
        "            cost = np.mean(cost_batch)\n",
        "        costs.append(cost)\n",
        "        \n",
        "        if print_cost:\n",
        "            print (\"Cost after iteration %i: %f\" % (i+1, cost))\n",
        "    \n",
        "    params = {\"w\": w,\n",
        "              \"b\": b}\n",
        "    \n",
        "    grads = {\"dw\": dw,\n",
        "             \"db\": db}\n",
        "    \n",
        "    return params, grads, costs\n"
      ],
      "execution_count": 0,
      "outputs": []
    },
    {
      "metadata": {
        "id": "KrH4WA8GPRJS",
        "colab_type": "code",
        "colab": {}
      },
      "cell_type": "code",
      "source": [
        "def predict(w, b, X):\n",
        "   \n",
        "    m = X.shape[1]\n",
        "    Y_pred = np.zeros((1, m))\n",
        "    w = w.reshape(X.shape[0], 1)\n",
        "    A = sigmoid(np.dot(w.T, X) + b)\n",
        "    \n",
        "\n",
        "    for i in range(A.shape[1]):\n",
        "        if A[0][i] <= 0.5:\n",
        "            Y_pred[0, i] = 0\n",
        "        else:\n",
        "            Y_pred[0, i] = 1\n",
        "                \n",
        "    assert(Y_pred.shape == (1, m))\n",
        "    \n",
        "    return Y_pred"
      ],
      "execution_count": 0,
      "outputs": []
    },
    {
      "metadata": {
        "id": "yg8y-B1hPSRi",
        "colab_type": "code",
        "colab": {}
      },
      "cell_type": "code",
      "source": [
        "def model(x_train, y_train, x_test, y_test, num_iters=20, batch_size = 5, learning_rate=0.5, print_cost=False):\n",
        "    \n",
        "    w, b = initialize_params_with_zeros(x_train.shape[0])                          \n",
        "\n",
        "    parameters, grads, costs = optimize(w, b, x_train, y_train, num_iters, batch_size, learning_rate, print_cost)     \n",
        "\n",
        "    w = parameters[\"w\"]\n",
        "    b = parameters[\"b\"]\n",
        "    \n",
        "\n",
        "    Y_pred_test = predict(w, b, x_test)\n",
        "    Y_pred_train = predict(w, b, x_train)\n",
        "\n",
        "    print(\"\")\n",
        "    \n",
        "    train_accuracy =  100 - np.mean(np.abs(Y_pred_train - y_train)) * 100\n",
        "    test_accuracy = 100 - np.mean(np.abs(Y_pred_test - y_test)) * 100\n",
        "    \n",
        "\n",
        "    repr('train accuracy')\n",
        "    \n",
        "    d = {\"costs\": costs,\n",
        "         \"Y_pred_test\": Y_pred_test, \n",
        "         \"Y_pred_train\" : Y_pred_train, \n",
        "         \"w\" : w, \n",
        "         \"b\" : b,\n",
        "         \"learning_rate\" : learning_rate,\n",
        "         \"num_iters\": num_iters}\n",
        "    \n",
        "    return d, train_accuracy, test_accuracy"
      ],
      "execution_count": 0,
      "outputs": []
    },
    {
      "metadata": {
        "id": "dyPMy-ZmPTLC",
        "colab_type": "code",
        "colab": {
          "base_uri": "https://localhost:8080/",
          "height": 204
        },
        "outputId": "0420e7a3-9a34-4d77-c567-9a1311df1916"
      },
      "cell_type": "code",
      "source": [
        "d, train, test = model(x_train, y_train, x_test, y_test, num_iters=10, batch_size=1000, learning_rate=0.01, print_cost=True)"
      ],
      "execution_count": 28,
      "outputs": [
        {
          "output_type": "stream",
          "text": [
            "Cost after iteration 1: 0.314612\n",
            "Cost after iteration 2: 0.205289\n",
            "Cost after iteration 3: 0.169768\n",
            "Cost after iteration 4: 0.146628\n",
            "Cost after iteration 5: 0.130581\n",
            "Cost after iteration 6: 0.118880\n",
            "Cost after iteration 7: 0.109982\n",
            "Cost after iteration 8: 0.102990\n",
            "Cost after iteration 9: 0.097337\n",
            "Cost after iteration 10: 0.092666\n",
            "\n"
          ],
          "name": "stdout"
        }
      ]
    },
    {
      "metadata": {
        "id": "p1BIyrG6PUOi",
        "colab_type": "code",
        "colab": {
          "base_uri": "https://localhost:8080/",
          "height": 347
        },
        "outputId": "dbfa1154-11d1-4909-ce22-a164fdd109f3"
      },
      "cell_type": "code",
      "source": [
        "import matplotlib.pyplot as plt\n",
        "\n",
        "# I want to show the cost of training over different iterations\n",
        "plt.plot(d['costs'])\n",
        "plt.show()"
      ],
      "execution_count": 29,
      "outputs": [
        {
          "output_type": "display_data",
          "data": {
            "image/png": "[encoded data removed]",
            "text/plain": [
              "<Figure size 576x396 with 1 Axes>"
            ]
          },
          "metadata": {
            "tags": []
          }
        }
      ]
    },
    {
      "metadata": {
        "id": "ITluBwn_PVdC",
        "colab_type": "code",
        "colab": {
          "base_uri": "https://localhost:8080/",
          "height": 527
        },
        "outputId": "ae01e328-7ca7-4f9f-8cae-9d881285ed90"
      },
      "cell_type": "code",
      "source": [
        "# the accuracy for number 0 to number 9\n",
        "\n",
        "for i in range(10):\n",
        "# if digit == i, then label = 1, else label = 0\n",
        "    func = lambda x: 1 if x == i else 0\n",
        "    y_train = np.array([func(y) for y in y_train_origin])\n",
        "    y_test = np.array([func(y) for y in y_test_origin])\n",
        "    \n",
        "    y_train = y_train.reshape(1,y_train.shape[0])\n",
        "    y_test = y_test.reshape(1,y_test.shape[0])\n",
        "    \n",
        "    print(\"\\n\", \"the accuracy of number {}\".format(i))\n",
        "    \n",
        "    d, train, test = model(x_train, y_train, x_test, y_test, num_iters=10, batch_size=10000, learning_rate=0.5, print_cost=False)\n",
        "    "
      ],
      "execution_count": 30,
      "outputs": [
        {
          "output_type": "stream",
          "text": [
            "\n",
            " the accuracy of number 0\n",
            "\n",
            "\n",
            " the accuracy of number 1\n",
            "\n",
            "\n",
            " the accuracy of number 2\n",
            "\n",
            "\n",
            " the accuracy of number 3\n",
            "\n",
            "\n",
            " the accuracy of number 4\n",
            "\n",
            "\n",
            " the accuracy of number 5\n",
            "\n",
            "\n",
            " the accuracy of number 6\n",
            "\n",
            "\n",
            " the accuracy of number 7\n",
            "\n",
            "\n",
            " the accuracy of number 8\n",
            "\n",
            "\n",
            " the accuracy of number 9\n",
            "\n"
          ],
          "name": "stdout"
        }
      ]
    },
    {
      "metadata": {
        "id": "qtMsc6KfPWcC",
        "colab_type": "code",
        "colab": {}
      },
      "cell_type": "code",
      "source": [
        "#Problem 3"
      ],
      "execution_count": 0,
      "outputs": []
    },
    {
      "metadata": {
        "id": "MdiG9ML0Pa0y",
        "colab_type": "code",
        "colab": {}
      },
      "cell_type": "code",
      "source": [
        "import keras\n",
        "from keras.datasets import mnist\n",
        "from keras.utils import to_categorical\n",
        "import numpy as np\n",
        "from sklearn.metrics import classification_report"
      ],
      "execution_count": 0,
      "outputs": []
    },
    {
      "metadata": {
        "id": "TMnqkRfrPcCC",
        "colab_type": "code",
        "colab": {}
      },
      "cell_type": "code",
      "source": [
        "(x_train_origin, y_train_origin),(x_test_origin, y_test_origin) = mnist.load_data()\n",
        "num_class = 10"
      ],
      "execution_count": 0,
      "outputs": []
    },
    {
      "metadata": {
        "id": "-EUwH_NFPdMi",
        "colab_type": "code",
        "colab": {}
      },
      "cell_type": "code",
      "source": [
        "x_train = x_train_origin.reshape((60000, 28 * 28))\n",
        "x_train = x_train.astype('float32') / 255\n",
        "\n",
        "x_test = x_test_origin.reshape((10000, 28 * 28))\n",
        "x_test = x_test.astype('float32') / 255\n",
        "\n",
        "y_train = to_categorical(y_train_origin, num_class) \n",
        "y_test = to_categorical(y_test_origin, num_class) "
      ],
      "execution_count": 0,
      "outputs": []
    },
    {
      "metadata": {
        "id": "T5t9uVL_PgVy",
        "colab_type": "code",
        "colab": {}
      },
      "cell_type": "code",
      "source": [
        "def init_params(dim):\n",
        "    # w = feature * class\n",
        "    # b = 1 * class\n",
        "    w = np.zeros((dim, 10))\n",
        "    b = np.zeros((1, 10))\n",
        "    \n",
        "    return w,b"
      ],
      "execution_count": 0,
      "outputs": []
    },
    {
      "metadata": {
        "id": "qdfOiB6dPigz",
        "colab_type": "code",
        "colab": {}
      },
      "cell_type": "code",
      "source": [
        "def softmax(x):\n",
        "    orig_shape = x.shape\n",
        "\n",
        "    if len(x.shape) > 1:\n",
        "        # Matrix\n",
        "        exp_minmax = lambda x: np.exp(x - np.max(x))\n",
        "        denom = lambda x: 1.0 / np.sum(x)\n",
        "        x = np.apply_along_axis(exp_minmax,1,x)\n",
        "        denominator = np.apply_along_axis(denom,1,x) \n",
        "        \n",
        "        if len(denominator.shape) == 1:\n",
        "            denominator = denominator.reshape((denominator.shape[0],1))\n",
        "        \n",
        "        x = x * denominator\n",
        "    else:\n",
        "        # Vector\n",
        "        x_max = np.max(x)\n",
        "        x = x - x_max\n",
        "        numerator = np.exp(x)\n",
        "        denominator =  1.0 / np.sum(numerator)\n",
        "        x = numerator.dot(denominator)\n",
        "        \n",
        "    assert x.shape == orig_shape\n",
        "    return x"
      ],
      "execution_count": 0,
      "outputs": []
    },
    {
      "metadata": {
        "id": "3_n1iFXCPjcS",
        "colab_type": "code",
        "colab": {}
      },
      "cell_type": "code",
      "source": [
        "def propagate(w, b, X, Y):\n",
        "    \n",
        "    m = X.shape[0]\n",
        "    A = softmax((np.dot(X,w)) + b)\n",
        "    cost  = -1/m * np.sum(Y*np.log(A))\n",
        "    dw = -1/m * np.dot(X.T, (Y-A))\n",
        "    db = -1/m * np.sum(Y-A)\n",
        "    \n",
        "    \n",
        "    grads = {\"dw\":dw, \"db\": db}\n",
        "    return grads, cost"
      ],
      "execution_count": 0,
      "outputs": []
    },
    {
      "metadata": {
        "id": "PV_REp9aPkby",
        "colab_type": "code",
        "colab": {}
      },
      "cell_type": "code",
      "source": [
        "def optimize(w, b, X, Y, num_iters, batch_size, learning_rate, print_cost):\n",
        "    \n",
        "    costs = []\n",
        "    m = X.shape[0]\n",
        "    for i in range(num_iters):\n",
        "        #cost_batch is used to collect the cost during one iteration over different batches\n",
        "        cost_batch = []\n",
        "        #stochastic gradient descent\n",
        "        shuffled_indices = np.random.permutation(m)\n",
        "        X_shuffled = X[shuffled_indices,:]\n",
        "        y_shuffled = Y[shuffled_indices,:]\n",
        "        #mini-batch\n",
        "        for j in range(0, m, batch_size):\n",
        "            x_batch = X_shuffled[j:j+batch_size,:]\n",
        "            y_batch = y_shuffled[j:j+batch_size,:]\n",
        "            grads, cost = propagate(w, b, x_batch, y_batch)\n",
        "            dw = grads['dw']\n",
        "            db = grads['db']\n",
        "            \n",
        "            w = w - learning_rate * dw\n",
        "            b = b - learning_rate * db\n",
        "\n",
        "            cost_batch.append(cost)\n",
        "            # the cost of one iteration is the average number over batches\n",
        "            cost = np.mean(cost_batch)\n",
        "        costs.append(cost)\n",
        "        \n",
        "        if print_cost:\n",
        "            print(\"Cost after iteration %i: %f\" % (i+1, cost))\n",
        "\n",
        "    \n",
        "    params = {\"w\": w,\n",
        "              \"b\": b}\n",
        "    \n",
        "    grads = {\"dw\": dw,\n",
        "             \"db\": db}\n",
        "    \n",
        "    \n",
        "    return params, grads, costs"
      ],
      "execution_count": 0,
      "outputs": []
    },
    {
      "metadata": {
        "id": "vNjLVYsyPogS",
        "colab_type": "code",
        "colab": {}
      },
      "cell_type": "code",
      "source": [
        "def predict(w, b, X):\n",
        "    return softmax((np.dot(X, w) + b))"
      ],
      "execution_count": 0,
      "outputs": []
    },
    {
      "metadata": {
        "id": "PNmPYKKUPpfi",
        "colab_type": "code",
        "colab": {}
      },
      "cell_type": "code",
      "source": [
        "def accuracy(y_hat, Y):\n",
        "    \n",
        "    max_index = np.argmax(y_hat, axis=1)\n",
        "    y_hat[np.arange(y_hat.shape[0]), max_index] = 1\n",
        "    accuracy = np.sum(np.argmax(y_hat, axis=1)==np.argmax(Y, axis=1))   \n",
        "    accuracy = accuracy *1.0/Y.shape[0]\n",
        "    return accuracy"
      ],
      "execution_count": 0,
      "outputs": []
    },
    {
      "metadata": {
        "id": "-TOFvFkWPqQC",
        "colab_type": "code",
        "colab": {}
      },
      "cell_type": "code",
      "source": [
        "def model(x_train, y_train, x_test, y_test, num_iters=20, batch_size = 5, learning_rate=0.5, print_cost=False):\n",
        "    \n",
        "    w, b = init_params(x_train.shape[1])\n",
        "    \n",
        "    parameters, grads, costs = optimize(w, b, x_train, y_train, num_iters, batch_size, learning_rate, print_cost)\n",
        "    \n",
        "    w = parameters['w']\n",
        "    b = parameters['b']\n",
        "    \n",
        "    \n",
        "    y_pred_test = predict(w, b, x_test)\n",
        "    y_pred_train = predict(w, b, x_train)\n",
        "    \n",
        "    train_accuracy = accuracy(y_pred_train, y_train)\n",
        "    test_accuracy = accuracy(y_pred_test, y_test)\n",
        "    \n",
        "    print(\"train accuracy: {} %\".format(100*train_accuracy))\n",
        "    print(\"test accuracy: {} %\".format(100*test_accuracy))\n",
        "    \n",
        "    \n",
        "    d = {\n",
        "        'w':w,\n",
        "        'b':b,\n",
        "        'costs':costs,\n",
        "        'Y_pred_test': y_pred_test, \n",
        "        'Y_pred_train' : y_pred_train, \n",
        "        'iterations':num_iters,\n",
        "        'learning_rate':learning_rate,\n",
        "        'num_iters': num_iters}\n",
        "    return d, train_accuracy, test_accuracy"
      ],
      "execution_count": 0,
      "outputs": []
    },
    {
      "metadata": {
        "id": "unxrgCYOPrFi",
        "colab_type": "code",
        "colab": {
          "base_uri": "https://localhost:8080/",
          "height": 221
        },
        "outputId": "2ffe284c-ebdf-4370-9252-0b44456b8c72"
      },
      "cell_type": "code",
      "source": [
        "d, train, test = model(x_train, y_train, x_test, y_test, num_iters=10, batch_size=1000, learning_rate=0.01, print_cost=True)"
      ],
      "execution_count": 44,
      "outputs": [
        {
          "output_type": "stream",
          "text": [
            "Cost after iteration 1: 2.030160\n",
            "Cost after iteration 2: 1.616034\n",
            "Cost after iteration 3: 1.350082\n",
            "Cost after iteration 4: 1.173625\n",
            "Cost after iteration 5: 1.050658\n",
            "Cost after iteration 6: 0.960807\n",
            "Cost after iteration 7: 0.892452\n",
            "Cost after iteration 8: 0.838632\n",
            "Cost after iteration 9: 0.795165\n",
            "Cost after iteration 10: 0.759239\n",
            "train accuracy: 84.62333333333333 %\n",
            "test accuracy: 85.63 %\n"
          ],
          "name": "stdout"
        }
      ]
    },
    {
      "metadata": {
        "id": "QLfXAxJSPsAy",
        "colab_type": "code",
        "colab": {}
      },
      "cell_type": "code",
      "source": [
        "#Problem 4"
      ],
      "execution_count": 0,
      "outputs": []
    },
    {
      "metadata": {
        "id": "vUEJ5i1dPvdj",
        "colab_type": "code",
        "colab": {}
      },
      "cell_type": "code",
      "source": [
        "import keras\n",
        "from keras.datasets import mnist\n",
        "from keras.utils import to_categorical\n",
        "import numpy as np\n",
        "from keras.models import Sequential\n",
        "from keras.layers import Dense\n",
        "from sklearn.metrics import accuracy_score\n",
        "import pandas as pd\n",
        "import matplotlib.pyplot as plt\n",
        "# fix random seed for reproducibility\n",
        "np.random.seed(7)"
      ],
      "execution_count": 0,
      "outputs": []
    },
    {
      "metadata": {
        "id": "9OsbErIVPyBS",
        "colab_type": "code",
        "colab": {}
      },
      "cell_type": "code",
      "source": [
        "(x_train_origin, y_train_origin),(x_test_origin, y_test_origin) = mnist.load_data()"
      ],
      "execution_count": 0,
      "outputs": []
    },
    {
      "metadata": {
        "id": "uIBBv2YwPy1i",
        "colab_type": "code",
        "colab": {}
      },
      "cell_type": "code",
      "source": [
        "x_train = x_train_origin.reshape((60000, 28 * 28))\n",
        "x_train = x_train.astype('float32') / 255\n",
        "\n",
        "x_test = x_test_origin.reshape((10000, 28 * 28))\n",
        "x_test = x_test.astype('float32') / 255\n",
        "\n",
        "y_train = to_categorical(y_train_origin, num_classes=10) \n",
        "y_test = to_categorical(y_test_origin, num_classes=10) "
      ],
      "execution_count": 0,
      "outputs": []
    },
    {
      "metadata": {
        "id": "5snt_AxHP1ai",
        "colab_type": "code",
        "colab": {
          "base_uri": "https://localhost:8080/",
          "height": 68
        },
        "outputId": "2d5f1053-97ea-41ba-fb5b-4e38ffaa5d01"
      },
      "cell_type": "code",
      "source": [
        "# create model\n",
        "model = Sequential()\n",
        "model.add(Dense(10, input_dim=784, activation='softmax'))"
      ],
      "execution_count": 49,
      "outputs": [
        {
          "output_type": "stream",
          "text": [
            "WARNING:tensorflow:From /usr/local/lib/python3.6/dist-packages/tensorflow/python/framework/op_def_library.py:263: colocate_with (from tensorflow.python.framework.ops) is deprecated and will be removed in a future version.\n",
            "Instructions for updating:\n",
            "Colocations handled automatically by placer.\n"
          ],
          "name": "stdout"
        }
      ]
    },
    {
      "metadata": {
        "id": "hotfAV2zP2Uz",
        "colab_type": "code",
        "colab": {}
      },
      "cell_type": "code",
      "source": [
        "model.compile(loss='categorical_crossentropy', optimizer='SGD', metrics=['accuracy'])"
      ],
      "execution_count": 0,
      "outputs": []
    },
    {
      "metadata": {
        "id": "2YBV6QocP4NC",
        "colab_type": "code",
        "colab": {
          "base_uri": "https://localhost:8080/",
          "height": 765
        },
        "outputId": "8905e899-9322-4ca4-8bbd-f622fd1389c6"
      },
      "cell_type": "code",
      "source": [
        "history = model.fit(x_train, y_train, epochs=20, batch_size=1000, validation_data=(x_test,y_test))"
      ],
      "execution_count": 51,
      "outputs": [
        {
          "output_type": "stream",
          "text": [
            "WARNING:tensorflow:From /usr/local/lib/python3.6/dist-packages/tensorflow/python/ops/math_ops.py:3066: to_int32 (from tensorflow.python.ops.math_ops) is deprecated and will be removed in a future version.\n",
            "Instructions for updating:\n",
            "Use tf.cast instead.\n",
            "Train on 60000 samples, validate on 10000 samples\n",
            "Epoch 1/20\n",
            "60000/60000 [==============================] - 1s 18us/step - loss: 2.1373 - acc: 0.2524 - val_loss: 1.8627 - val_acc: 0.5039\n",
            "Epoch 2/20\n",
            "60000/60000 [==============================] - 0s 8us/step - loss: 1.6863 - acc: 0.5969 - val_loss: 1.5067 - val_acc: 0.6784\n",
            "Epoch 3/20\n",
            "60000/60000 [==============================] - 0s 8us/step - loss: 1.4026 - acc: 0.7039 - val_loss: 1.2765 - val_acc: 0.7398\n",
            "Epoch 4/20\n",
            "60000/60000 [==============================] - 0s 8us/step - loss: 1.2150 - acc: 0.7512 - val_loss: 1.1204 - val_acc: 0.7746\n",
            "Epoch 5/20\n",
            "60000/60000 [==============================] - 0s 8us/step - loss: 1.0844 - acc: 0.7776 - val_loss: 1.0091 - val_acc: 0.7962\n",
            "Epoch 6/20\n",
            "60000/60000 [==============================] - 0s 7us/step - loss: 0.9891 - acc: 0.7948 - val_loss: 0.9261 - val_acc: 0.8112\n",
            "Epoch 7/20\n",
            "60000/60000 [==============================] - 0s 8us/step - loss: 0.9167 - acc: 0.8074 - val_loss: 0.8620 - val_acc: 0.8234\n",
            "Epoch 8/20\n",
            "60000/60000 [==============================] - 0s 8us/step - loss: 0.8598 - acc: 0.8159 - val_loss: 0.8109 - val_acc: 0.8319\n",
            "Epoch 9/20\n",
            "60000/60000 [==============================] - 0s 8us/step - loss: 0.8139 - acc: 0.8232 - val_loss: 0.7692 - val_acc: 0.8370\n",
            "Epoch 10/20\n",
            "60000/60000 [==============================] - 0s 8us/step - loss: 0.7759 - acc: 0.8288 - val_loss: 0.7344 - val_acc: 0.8438\n",
            "Epoch 11/20\n",
            "60000/60000 [==============================] - 0s 8us/step - loss: 0.7440 - acc: 0.8341 - val_loss: 0.7050 - val_acc: 0.8477\n",
            "Epoch 12/20\n",
            "60000/60000 [==============================] - 0s 8us/step - loss: 0.7168 - acc: 0.8382 - val_loss: 0.6798 - val_acc: 0.8509\n",
            "Epoch 13/20\n",
            "60000/60000 [==============================] - 0s 8us/step - loss: 0.6932 - acc: 0.8422 - val_loss: 0.6578 - val_acc: 0.8537\n",
            "Epoch 14/20\n",
            "60000/60000 [==============================] - 0s 8us/step - loss: 0.6726 - acc: 0.8452 - val_loss: 0.6385 - val_acc: 0.8569\n",
            "Epoch 15/20\n",
            "60000/60000 [==============================] - 0s 8us/step - loss: 0.6544 - acc: 0.8479 - val_loss: 0.6214 - val_acc: 0.8593\n",
            "Epoch 16/20\n",
            "60000/60000 [==============================] - 0s 8us/step - loss: 0.6382 - acc: 0.8505 - val_loss: 0.6062 - val_acc: 0.8609\n",
            "Epoch 17/20\n",
            "60000/60000 [==============================] - 0s 8us/step - loss: 0.6237 - acc: 0.8527 - val_loss: 0.5924 - val_acc: 0.8625\n",
            "Epoch 18/20\n",
            "60000/60000 [==============================] - 0s 8us/step - loss: 0.6106 - acc: 0.8549 - val_loss: 0.5800 - val_acc: 0.8643\n",
            "Epoch 19/20\n",
            "60000/60000 [==============================] - 0s 8us/step - loss: 0.5986 - acc: 0.8569 - val_loss: 0.5687 - val_acc: 0.8656\n",
            "Epoch 20/20\n",
            "60000/60000 [==============================] - 0s 8us/step - loss: 0.5877 - acc: 0.8584 - val_loss: 0.5583 - val_acc: 0.8675\n"
          ],
          "name": "stdout"
        }
      ]
    },
    {
      "metadata": {
        "id": "JPVQC_nmP5SS",
        "colab_type": "code",
        "colab": {
          "base_uri": "https://localhost:8080/",
          "height": 735
        },
        "outputId": "9f82cee3-6996-4688-eecc-bb85657b6951"
      },
      "cell_type": "code",
      "source": [
        "# summarize history for accuracy\n",
        "plt.plot(history.history['acc'])\n",
        "plt.plot(history.history['val_acc'])\n",
        "plt.title('model accuracy')\n",
        "plt.ylabel('accuracy')\n",
        "plt.xlabel('epoch')\n",
        "plt.legend(['train', 'test'], loc='upper left')\n",
        "plt.show()\n",
        "# summarize history for loss\n",
        "plt.plot(history.history['loss'])\n",
        "plt.plot(history.history['val_loss'])\n",
        "plt.title('model loss')\n",
        "plt.ylabel('loss')\n",
        "plt.xlabel('epoch')\n",
        "plt.legend(['train', 'test'], loc='upper left')\n",
        "plt.show()"
      ],
      "execution_count": 52,
      "outputs": [
        {
          "output_type": "display_data",
          "data": {
            "image/png": "[encoded data removed]",
            "text/plain": [
              "<Figure size 576x396 with 1 Axes>"
            ]
          },
          "metadata": {
            "tags": []
          }
        },
        {
          "output_type": "display_data",
          "data": {
            "image/png": "[encoded data removed]",
            "text/plain": [
              "<Figure size 576x396 with 1 Axes>"
            ]
          },
          "metadata": {
            "tags": []
          }
        }
      ]
    },
    {
      "metadata": {
        "id": "SiZ5Ii5bP6fE",
        "colab_type": "code",
        "colab": {}
      },
      "cell_type": "code",
      "source": [
        "#Problem 5"
      ],
      "execution_count": 0,
      "outputs": []
    },
    {
      "metadata": {
        "id": "X1uphftNP-li",
        "colab_type": "code",
        "colab": {}
      },
      "cell_type": "code",
      "source": [
        "import keras\n",
        "from keras.datasets import mnist\n",
        "from keras.utils import to_categorical\n",
        "import numpy as np\n",
        "from sklearn.metrics import classification_report\n",
        "import keras\n",
        "from keras.datasets import mnist\n",
        "from keras.utils import to_categorical\n",
        "import numpy as np\n",
        "from keras.models import Sequential\n",
        "from keras.layers import Dense\n",
        "from sklearn.metrics import accuracy_score\n",
        "import pandas as pd\n",
        "import matplotlib.pyplot as plt\n",
        "# fix random seed for reproducibility\n",
        "np.random.seed(7)"
      ],
      "execution_count": 0,
      "outputs": []
    },
    {
      "metadata": {
        "id": "O8B5DE6FP-5S",
        "colab_type": "code",
        "colab": {}
      },
      "cell_type": "code",
      "source": [
        "(x_train_origin, y_train_origin),(x_test_origin, y_test_origin) = mnist.load_data()\n",
        "num_class = 10"
      ],
      "execution_count": 0,
      "outputs": []
    },
    {
      "metadata": {
        "id": "xvd4I-VCP_4y",
        "colab_type": "code",
        "colab": {}
      },
      "cell_type": "code",
      "source": [
        "x_train = ((x_train_origin/255)>0.5)*1\n",
        "x_test = ((x_test_origin/255)>0.5)*1"
      ],
      "execution_count": 0,
      "outputs": []
    },
    {
      "metadata": {
        "id": "3qfmapIcQA1k",
        "colab_type": "code",
        "colab": {}
      },
      "cell_type": "code",
      "source": [
        "y_train = to_categorical(y_train_origin, num_classes=10) \n",
        "y_test = to_categorical(y_test_origin, num_classes=10) "
      ],
      "execution_count": 0,
      "outputs": []
    },
    {
      "metadata": {
        "id": "r0NJx1mDQBlk",
        "colab_type": "code",
        "colab": {}
      },
      "cell_type": "code",
      "source": [
        "def isSafe(X, i, j, visited): \n",
        "        # row number is in range, column number \n",
        "        # is in range and value is 0  \n",
        "        # and not yet visited\n",
        "        row = X.shape[0]\n",
        "        col = X.shape[1]\n",
        "        return (i >= 0 and i < row and \n",
        "                j >= 0 and j < col and \n",
        "                not visited[i][j] and X[i][j] == 0) "
      ],
      "execution_count": 0,
      "outputs": []
    },
    {
      "metadata": {
        "id": "py3WHv5lQCeV",
        "colab_type": "code",
        "colab": {}
      },
      "cell_type": "code",
      "source": [
        "def DFS(X, i, j, visited): \n",
        "  \n",
        "        # These arrays are used to get row and  \n",
        "        # column numbers of 8 neighbours  \n",
        "        # of a given cell \n",
        "        rowNbr = [-1, -1, -1,  0, 0,  1, 1, 1]; \n",
        "        colNbr = [-1,  0,  1, -1, 1, -1, 0, 1]; \n",
        "          \n",
        "        # Mark this cell as visited \n",
        "        visited[i][j] = True\n",
        "  \n",
        "        # Recur for all connected neighbours \n",
        "        for k in range(8): \n",
        "            if isSafe(X, i + rowNbr[k], j + colNbr[k], visited): \n",
        "                DFS(X, i + rowNbr[k], j + colNbr[k], visited)"
      ],
      "execution_count": 0,
      "outputs": []
    },
    {
      "metadata": {
        "id": "LZ8cB5gUQDjU",
        "colab_type": "code",
        "colab": {}
      },
      "cell_type": "code",
      "source": [
        "def countwhite(X): \n",
        "    # Make a bool array to mark visited cells. \n",
        "    # Initially all cells are unvisited\n",
        "    row = X.shape[0]\n",
        "    col = X.shape[1]    \n",
        "    visited = [[False for j in range(col)]for i in range(row)] \n",
        "\n",
        "    # Initialize count as 0 and travese  \n",
        "    # through the all cells of \n",
        "    # given matrix \n",
        "    count = 0\n",
        "    for i in range(row): \n",
        "        for j in range(col): \n",
        "            # If a cell with value 1 is not visited yet,  \n",
        "            # then new island found \n",
        "            if visited[i][j] == False and X[i][j] == 0: \n",
        "                # Visit all cells in this island  \n",
        "                # and increment island count \n",
        "                DFS(X, i, j, visited) \n",
        "                count += 1\n",
        "\n",
        "    return count"
      ],
      "execution_count": 0,
      "outputs": []
    },
    {
      "metadata": {
        "id": "oFGykRnTQHKl",
        "colab_type": "code",
        "colab": {}
      },
      "cell_type": "code",
      "source": [
        "# training dataset with extra feature \n",
        "white_area = np.zeros((x_train.shape[0],1))\n",
        "\n",
        "for i in range (x_train.shape[0]):\n",
        "    x = x_train[i]\n",
        "    white_area[i, 0] = countwhite(x)"
      ],
      "execution_count": 0,
      "outputs": []
    },
    {
      "metadata": {
        "id": "h8mOTYGVQIZl",
        "colab_type": "code",
        "colab": {}
      },
      "cell_type": "code",
      "source": [
        "x_train = x_train_origin.reshape((60000, 28 * 28))\n",
        "x_train = x_train.astype('float32') / 255\n",
        "\n",
        "x_train = np.append(x_train, white_area/3, axis = 1)"
      ],
      "execution_count": 0,
      "outputs": []
    },
    {
      "metadata": {
        "id": "zeQtoIKrQLHE",
        "colab_type": "code",
        "colab": {}
      },
      "cell_type": "code",
      "source": [
        "# test dataset with extra feature \n",
        "white_area = np.zeros((x_test.shape[0],1))\n",
        "\n",
        "for i in range (x_test.shape[0]):\n",
        "    x = x_test[i]\n",
        "    white_area[i, 0] = countwhite(x)"
      ],
      "execution_count": 0,
      "outputs": []
    },
    {
      "metadata": {
        "id": "NUfDAMA0QMr1",
        "colab_type": "code",
        "colab": {}
      },
      "cell_type": "code",
      "source": [
        "x_test = x_test_origin.reshape((10000, 28 * 28))\n",
        "x_test = x_test.astype('float32') / 255\n",
        "\n",
        "x_test = np.append(x_test, white_area/3, axis = 1)"
      ],
      "execution_count": 0,
      "outputs": []
    },
    {
      "metadata": {
        "id": "w9xKubqGQNvl",
        "colab_type": "code",
        "colab": {
          "base_uri": "https://localhost:8080/",
          "height": 714
        },
        "outputId": "5f62b9fc-400c-4ae8-daac-9f34207dbead"
      },
      "cell_type": "code",
      "source": [
        "# create model\n",
        "model = Sequential()\n",
        "model.add(Dense(10, input_dim=785, activation='softmax'))\n",
        "\n",
        "model.compile(loss='categorical_crossentropy', optimizer='SGD', metrics=['accuracy'])\n",
        "\n",
        "history = model.fit(x_train, y_train, validation_data=(x_test,y_test), epochs=20, batch_size=1000)"
      ],
      "execution_count": 66,
      "outputs": [
        {
          "output_type": "stream",
          "text": [
            "Train on 60000 samples, validate on 10000 samples\n",
            "Epoch 1/20\n",
            "60000/60000 [==============================] - 1s 12us/step - loss: 2.1341 - acc: 0.2576 - val_loss: 1.8598 - val_acc: 0.5092\n",
            "Epoch 2/20\n",
            "60000/60000 [==============================] - 1s 10us/step - loss: 1.6832 - acc: 0.6009 - val_loss: 1.5034 - val_acc: 0.6808\n",
            "Epoch 3/20\n",
            "60000/60000 [==============================] - 1s 10us/step - loss: 1.3991 - acc: 0.7069 - val_loss: 1.2729 - val_acc: 0.7443\n",
            "Epoch 4/20\n",
            "60000/60000 [==============================] - 1s 10us/step - loss: 1.2112 - acc: 0.7534 - val_loss: 1.1166 - val_acc: 0.7775\n",
            "Epoch 5/20\n",
            "60000/60000 [==============================] - 1s 10us/step - loss: 1.0804 - acc: 0.7794 - val_loss: 1.0051 - val_acc: 0.7985\n",
            "Epoch 6/20\n",
            "60000/60000 [==============================] - 1s 10us/step - loss: 0.9850 - acc: 0.7968 - val_loss: 0.9220 - val_acc: 0.8141\n",
            "Epoch 7/20\n",
            "60000/60000 [==============================] - 1s 10us/step - loss: 0.9125 - acc: 0.8093 - val_loss: 0.8577 - val_acc: 0.8256\n",
            "Epoch 8/20\n",
            "60000/60000 [==============================] - 1s 10us/step - loss: 0.8554 - acc: 0.8186 - val_loss: 0.8066 - val_acc: 0.8335\n",
            "Epoch 9/20\n",
            "60000/60000 [==============================] - 1s 10us/step - loss: 0.8094 - acc: 0.8257 - val_loss: 0.7648 - val_acc: 0.8394\n",
            "Epoch 10/20\n",
            "60000/60000 [==============================] - 1s 10us/step - loss: 0.7713 - acc: 0.8315 - val_loss: 0.7299 - val_acc: 0.8471\n",
            "Epoch 11/20\n",
            "60000/60000 [==============================] - 1s 10us/step - loss: 0.7393 - acc: 0.8369 - val_loss: 0.7004 - val_acc: 0.8501\n",
            "Epoch 12/20\n",
            "60000/60000 [==============================] - 1s 10us/step - loss: 0.7120 - acc: 0.8407 - val_loss: 0.6751 - val_acc: 0.8530\n",
            "Epoch 13/20\n",
            "60000/60000 [==============================] - 1s 10us/step - loss: 0.6884 - acc: 0.8448 - val_loss: 0.6530 - val_acc: 0.8559\n",
            "Epoch 14/20\n",
            "60000/60000 [==============================] - 1s 10us/step - loss: 0.6677 - acc: 0.8480 - val_loss: 0.6337 - val_acc: 0.8588\n",
            "Epoch 15/20\n",
            "60000/60000 [==============================] - 1s 10us/step - loss: 0.6494 - acc: 0.8504 - val_loss: 0.6165 - val_acc: 0.8605\n",
            "Epoch 16/20\n",
            "60000/60000 [==============================] - 1s 10us/step - loss: 0.6331 - acc: 0.8530 - val_loss: 0.6011 - val_acc: 0.8629\n",
            "Epoch 17/20\n",
            "60000/60000 [==============================] - 1s 11us/step - loss: 0.6185 - acc: 0.8553 - val_loss: 0.5873 - val_acc: 0.8650\n",
            "Epoch 18/20\n",
            "60000/60000 [==============================] - 1s 10us/step - loss: 0.6052 - acc: 0.8574 - val_loss: 0.5748 - val_acc: 0.8666\n",
            "Epoch 19/20\n",
            "60000/60000 [==============================] - 1s 10us/step - loss: 0.5932 - acc: 0.8594 - val_loss: 0.5634 - val_acc: 0.8677\n",
            "Epoch 20/20\n",
            "60000/60000 [==============================] - 1s 10us/step - loss: 0.5823 - acc: 0.8612 - val_loss: 0.5530 - val_acc: 0.8692\n"
          ],
          "name": "stdout"
        }
      ]
    },
    {
      "metadata": {
        "id": "_VVTHh6JQO6F",
        "colab_type": "code",
        "colab": {
          "base_uri": "https://localhost:8080/",
          "height": 735
        },
        "outputId": "3ab3e048-6972-49d7-965d-c914c8044f0c"
      },
      "cell_type": "code",
      "source": [
        "# summarize history for accuracy\n",
        "plt.plot(history.history['acc'])\n",
        "plt.plot(history.history['val_acc'])\n",
        "plt.title('model accuracy')\n",
        "plt.ylabel('accuracy')\n",
        "plt.xlabel('epoch')\n",
        "plt.legend(['train', 'test'], loc='upper left')\n",
        "plt.show()\n",
        "# summarize history for loss\n",
        "plt.plot(history.history['loss'])\n",
        "plt.plot(history.history['val_loss'])\n",
        "plt.title('model loss')\n",
        "plt.ylabel('loss')\n",
        "plt.xlabel('epoch')\n",
        "plt.legend(['train', 'test'], loc='upper left')\n",
        "plt.show()"
      ],
      "execution_count": 67,
      "outputs": [
        {
          "output_type": "display_data",
          "data": {
            "image/png": "[encoded data removed]",
            "text/plain": [
              "<Figure size 576x396 with 1 Axes>"
            ]
          },
          "metadata": {
            "tags": []
          }
        },
        {
          "output_type": "display_data",
          "data": {
            "image/png": "[encoded data removed]",
            "text/plain": [
              "<Figure size 576x396 with 1 Axes>"
            ]
          },
          "metadata": {
            "tags": []
          }
        }
      ]
    },
    {
      "metadata": {
        "id": "CgrF_jL3QPyD",
        "colab_type": "code",
        "colab": {}
      },
      "cell_type": "code",
      "source": [
        ""
      ],
      "execution_count": 0,
      "outputs": []
    }
  ]
}