{
 "cells": [
  {
   "cell_type": "code",
   "execution_count": 22,
   "metadata": {},
   "outputs": [],
   "source": [
    "import keras\n",
    "from keras.datasets import mnist\n",
    "from keras.utils import to_categorical\n",
    "import numpy as np\n",
    "from sklearn.metrics import classification_report\n",
    "import keras\n",
    "from keras.datasets import mnist\n",
    "from keras.utils import to_categorical\n",
    "import numpy as np\n",
    "from keras.models import Sequential\n",
    "from keras.layers import Dense\n",
    "from sklearn.metrics import accuracy_score\n",
    "import pandas as pd\n",
    "import matplotlib.pyplot as plt\n",
    "# fix random seed for reproducibility\n",
    "np.random.seed(7)"
   ]
  },
  {
   "cell_type": "code",
   "execution_count": 37,
   "metadata": {},
   "outputs": [],
   "source": [
    "(x_train_origin, y_train_origin),(x_test_origin, y_test_origin) = mnist.load_data()\n",
    "num_class = 10"
   ]
  },
  {
   "cell_type": "code",
   "execution_count": 24,
   "metadata": {},
   "outputs": [],
   "source": [
    "x_train = ((x_train_origin/255)>0.5)*1\n",
    "x_test = ((x_test_origin/255)>0.5)*1"
   ]
  },
  {
   "cell_type": "code",
   "execution_count": 25,
   "metadata": {},
   "outputs": [],
   "source": [
    "y_train = to_categorical(y_train_origin, num_classes=10) \n",
    "y_test = to_categorical(y_test_origin, num_classes=10) "
   ]
  },
  {
   "cell_type": "code",
   "execution_count": 5,
   "metadata": {},
   "outputs": [],
   "source": [
    "def isSafe(X, i, j, visited): \n",
    "        # row number is in range, column number \n",
    "        # is in range and value is 0  \n",
    "        # and not yet visited\n",
    "        row = X.shape[0]\n",
    "        col = X.shape[1]\n",
    "        return (i >= 0 and i < row and \n",
    "                j >= 0 and j < col and \n",
    "                not visited[i][j] and X[i][j] == 0) "
   ]
  },
  {
   "cell_type": "code",
   "execution_count": 6,
   "metadata": {},
   "outputs": [],
   "source": [
    "def DFS(X, i, j, visited): \n",
    "  \n",
    "        # These arrays are used to get row and  \n",
    "        # column numbers of 8 neighbours  \n",
    "        # of a given cell \n",
    "        rowNbr = [-1, -1, -1,  0, 0,  1, 1, 1]; \n",
    "        colNbr = [-1,  0,  1, -1, 1, -1, 0, 1]; \n",
    "          \n",
    "        # Mark this cell as visited \n",
    "        visited[i][j] = True\n",
    "  \n",
    "        # Recur for all connected neighbours \n",
    "        for k in range(8): \n",
    "            if isSafe(X, i + rowNbr[k], j + colNbr[k], visited): \n",
    "                DFS(X, i + rowNbr[k], j + colNbr[k], visited)"
   ]
  },
  {
   "cell_type": "code",
   "execution_count": 7,
   "metadata": {},
   "outputs": [],
   "source": [
    "def countIslands(X): \n",
    "    # Make a bool array to mark visited cells. \n",
    "    # Initially all cells are unvisited\n",
    "    row = X.shape[0]\n",
    "    col = X.shape[1]    \n",
    "    visited = [[False for j in range(col)]for i in range(row)] \n",
    "\n",
    "    # Initialize count as 0 and travese  \n",
    "    # through the all cells of \n",
    "    # given matrix \n",
    "    count = 0\n",
    "    for i in range(row): \n",
    "        for j in range(col): \n",
    "            # If a cell with value 1 is not visited yet,  \n",
    "            # then new island found \n",
    "            if visited[i][j] == False and X[i][j] == 0: \n",
    "                # Visit all cells in this island  \n",
    "                # and increment island count \n",
    "                DFS(X, i, j, visited) \n",
    "                count += 1\n",
    "\n",
    "    return count"
   ]
  },
  {
   "cell_type": "code",
   "execution_count": 27,
   "metadata": {},
   "outputs": [],
   "source": [
    "# training dataset with extra feature \n",
    "white_area = np.zeros((x_train.shape[0],1))\n",
    "\n",
    "for i in range (x_train.shape[0]):\n",
    "    x = x_train[i]\n",
    "    white_area[i, 0] = countIslands(x)"
   ]
  },
  {
   "cell_type": "code",
   "execution_count": 33,
   "metadata": {},
   "outputs": [],
   "source": [
    "x_train = x_train_origin.reshape((60000, 28 * 28))\n",
    "x_train = x_train.astype('float32') / 255\n",
    "\n",
    "x_train = np.append(x_train, white_area/3, axis = 1)"
   ]
  },
  {
   "cell_type": "code",
   "execution_count": 35,
   "metadata": {},
   "outputs": [],
   "source": [
    "# test dataset with extra feature \n",
    "white_area = np.zeros((x_test.shape[0],1))\n",
    "\n",
    "for i in range (x_test.shape[0]):\n",
    "    x = x_test[i]\n",
    "    white_area[i, 0] = countIslands(x)"
   ]
  },
  {
   "cell_type": "code",
   "execution_count": 38,
   "metadata": {},
   "outputs": [],
   "source": [
    "x_test = x_test_origin.reshape((10000, 28 * 28))\n",
    "x_test = x_test.astype('float32') / 255\n",
    "\n",
    "x_test = np.append(x_test, white_area/3, axis = 1)"
   ]
  },
  {
   "cell_type": "code",
   "execution_count": 39,
   "metadata": {},
   "outputs": [
    {
     "name": "stdout",
     "output_type": "stream",
     "text": [
      "Train on 60000 samples, validate on 10000 samples\n",
      "Epoch 1/20\n",
      "60000/60000 [==============================] - 1s 12us/step - loss: 2.0699 - acc: 0.2967 - val_loss: 1.7965 - val_acc: 0.5462\n",
      "Epoch 2/20\n",
      "60000/60000 [==============================] - 0s 8us/step - loss: 1.6375 - acc: 0.6297 - val_loss: 1.4580 - val_acc: 0.6941\n",
      "Epoch 3/20\n",
      "60000/60000 [==============================] - 0s 8us/step - loss: 1.3659 - acc: 0.7186 - val_loss: 1.2387 - val_acc: 0.7544\n",
      "Epoch 4/20\n",
      "60000/60000 [==============================] - 0s 8us/step - loss: 1.1861 - acc: 0.7601 - val_loss: 1.0898 - val_acc: 0.7862\n",
      "Epoch 5/20\n",
      "60000/60000 [==============================] - 0s 8us/step - loss: 1.0607 - acc: 0.7857 - val_loss: 0.9833 - val_acc: 0.8050\n",
      "Epoch 6/20\n",
      "60000/60000 [==============================] - 0s 8us/step - loss: 0.9688 - acc: 0.8029 - val_loss: 0.9036 - val_acc: 0.8195\n",
      "Epoch 7/20\n",
      "60000/60000 [==============================] - 1s 8us/step - loss: 0.8987 - acc: 0.8151 - val_loss: 0.8417 - val_acc: 0.8306\n",
      "Epoch 8/20\n",
      "60000/60000 [==============================] - 0s 8us/step - loss: 0.8435 - acc: 0.8238 - val_loss: 0.7924 - val_acc: 0.8382\n",
      "Epoch 9/20\n",
      "60000/60000 [==============================] - 1s 8us/step - loss: 0.7987 - acc: 0.8312 - val_loss: 0.7519 - val_acc: 0.8437\n",
      "Epoch 10/20\n",
      "60000/60000 [==============================] - 0s 8us/step - loss: 0.7616 - acc: 0.8366 - val_loss: 0.7181 - val_acc: 0.8478\n",
      "Epoch 11/20\n",
      "60000/60000 [==============================] - 1s 8us/step - loss: 0.7304 - acc: 0.8416 - val_loss: 0.6895 - val_acc: 0.8520\n",
      "Epoch 12/20\n",
      "60000/60000 [==============================] - 1s 8us/step - loss: 0.7037 - acc: 0.8452 - val_loss: 0.6649 - val_acc: 0.8553\n",
      "Epoch 13/20\n",
      "60000/60000 [==============================] - 0s 8us/step - loss: 0.6806 - acc: 0.8478 - val_loss: 0.6435 - val_acc: 0.8587\n",
      "Epoch 14/20\n",
      "60000/60000 [==============================] - 1s 8us/step - loss: 0.6604 - acc: 0.8509 - val_loss: 0.6247 - val_acc: 0.8616\n",
      "Epoch 15/20\n",
      "60000/60000 [==============================] - 1s 10us/step - loss: 0.6425 - acc: 0.8536 - val_loss: 0.6080 - val_acc: 0.8647\n",
      "Epoch 16/20\n",
      "60000/60000 [==============================] - 1s 11us/step - loss: 0.6265 - acc: 0.8561 - val_loss: 0.5930 - val_acc: 0.8665\n",
      "Epoch 17/20\n",
      "60000/60000 [==============================] - 0s 8us/step - loss: 0.6122 - acc: 0.8585 - val_loss: 0.5796 - val_acc: 0.8687\n",
      "Epoch 18/20\n",
      "60000/60000 [==============================] - 1s 8us/step - loss: 0.5992 - acc: 0.8606 - val_loss: 0.5675 - val_acc: 0.8707\n",
      "Epoch 19/20\n",
      "60000/60000 [==============================] - 0s 8us/step - loss: 0.5874 - acc: 0.8621 - val_loss: 0.5564 - val_acc: 0.8726\n",
      "Epoch 20/20\n",
      "60000/60000 [==============================] - 0s 8us/step - loss: 0.5767 - acc: 0.8634 - val_loss: 0.5462 - val_acc: 0.8734\n"
     ]
    }
   ],
   "source": [
    "# create model\n",
    "model = Sequential()\n",
    "model.add(Dense(10, input_dim=785, activation='softmax'))\n",
    "\n",
    "model.compile(loss='categorical_crossentropy', optimizer='SGD', metrics=['accuracy'])\n",
    "\n",
    "history = model.fit(x_train, y_train, validation_data=(x_test,y_test), epochs=20, batch_size=1000)"
   ]
  },
  {
   "cell_type": "code",
   "execution_count": 40,
   "metadata": {},
   "outputs": [
    {
     "data": {
      "image/png": "[encoded data removed]",
      "text/plain": [
       "<Figure size 432x288 with 1 Axes>"
      ]
     },
     "metadata": {
      "needs_background": "light"
     },
     "output_type": "display_data"
    },
    {
     "data": {
      "image/png": "[encoded data removed]",
      "text/plain": [
       "<Figure size 432x288 with 1 Axes>"
      ]
     },
     "metadata": {
      "needs_background": "light"
     },
     "output_type": "display_data"
    }
   ],
   "source": [
    "# summarize history for accuracy\n",
    "plt.plot(history.history['acc'])\n",
    "plt.plot(history.history['val_acc'])\n",
    "plt.title('model accuracy')\n",
    "plt.ylabel('accuracy')\n",
    "plt.xlabel('epoch')\n",
    "plt.legend(['train', 'test'], loc='upper left')\n",
    "plt.show()\n",
    "# summarize history for loss\n",
    "plt.plot(history.history['loss'])\n",
    "plt.plot(history.history['val_loss'])\n",
    "plt.title('model loss')\n",
    "plt.ylabel('loss')\n",
    "plt.xlabel('epoch')\n",
    "plt.legend(['train', 'test'], loc='upper left')\n",
    "plt.show()"
   ]
  },
  {
   "cell_type": "code",
   "execution_count": null,
   "metadata": {},
   "outputs": [],
   "source": []
  }
 ],
 "metadata": {
  "kernelspec": {
   "display_name": "tensorflow",
   "language": "python",
   "name": "tensorflow"
  },
  "language_info": {
   "codemirror_mode": {
    "name": "ipython",
    "version": 3
   },
   "file_extension": ".py",
   "mimetype": "text/x-python",
   "name": "python",
   "nbconvert_exporter": "python",
   "pygments_lexer": "ipython3",
   "version": "3.6.8"
  }
 },
 "nbformat": 4,
 "nbformat_minor": 2
}
