{
 "cells": [
  {
   "cell_type": "code",
   "execution_count": 175,
   "metadata": {},
   "outputs": [],
   "source": [
    "import keras\n",
    "from keras.datasets import mnist\n",
    "from keras.utils import to_categorical\n",
    "import numpy as np\n",
    "from sklearn.metrics import classification_report\n",
    "import keras\n",
    "from keras.datasets import mnist\n",
    "from keras.utils import to_categorical\n",
    "import numpy as np\n",
    "from keras.models import Sequential\n",
    "from keras.layers import Dense\n",
    "from sklearn.metrics import accuracy_score\n",
    "import pandas as pd\n",
    "import matplotlib.pyplot as plt\n",
    "# fix random seed for reproducibility\n",
    "np.random.seed(7)"
   ]
  },
  {
   "cell_type": "code",
   "execution_count": 2,
   "metadata": {},
   "outputs": [],
   "source": [
    "(x_train_origin, y_train_origin),(x_test_origin, y_test_origin) = mnist.load_data()\n",
    "num_class = 10"
   ]
  },
  {
   "cell_type": "code",
   "execution_count": 82,
   "metadata": {},
   "outputs": [],
   "source": [
    "x_train = ((x_train_origin/255)>0.5)*1\n",
    "x_test = ((x_test_origin/255)>0.5)*1"
   ]
  },
  {
   "cell_type": "code",
   "execution_count": 153,
   "metadata": {},
   "outputs": [],
   "source": [
    "def isSafe(X, i, j, visited): \n",
    "        # row number is in range, column number \n",
    "        # is in range and value is 0  \n",
    "        # and not yet visited\n",
    "        row = X.shape[0]\n",
    "        col = X.shape[1]\n",
    "        return (i >= 0 and i < row and \n",
    "                j >= 0 and j < col and \n",
    "                not visited[i][j] and X[i][j] == 0) "
   ]
  },
  {
   "cell_type": "code",
   "execution_count": 167,
   "metadata": {},
   "outputs": [],
   "source": [
    "def DFS(X, i, j, visited): \n",
    "  \n",
    "        # These arrays are used to get row and  \n",
    "        # column numbers of 8 neighbours  \n",
    "        # of a given cell \n",
    "        rowNbr = [-1, -1, -1,  0, 0,  1, 1, 1]; \n",
    "        colNbr = [-1,  0,  1, -1, 1, -1, 0, 1]; \n",
    "          \n",
    "        # Mark this cell as visited \n",
    "        visited[i][j] = True\n",
    "  \n",
    "        # Recur for all connected neighbours \n",
    "        for k in range(8): \n",
    "            if isSafe(X, i + rowNbr[k], j + colNbr[k], visited): \n",
    "                DFS(X, i + rowNbr[k], j + colNbr[k], visited)"
   ]
  },
  {
   "cell_type": "code",
   "execution_count": 165,
   "metadata": {},
   "outputs": [],
   "source": [
    "def countIslands(X): \n",
    "    # Make a bool array to mark visited cells. \n",
    "    # Initially all cells are unvisited\n",
    "    row = X.shape[0]\n",
    "    col = X.shape[1]    \n",
    "    visited = [[False for j in range(col)]for i in range(row)] \n",
    "\n",
    "    # Initialize count as 0 and travese  \n",
    "    # through the all cells of \n",
    "    # given matrix \n",
    "    count = 0\n",
    "    for i in range(row): \n",
    "        for j in range(col): \n",
    "            # If a cell with value 1 is not visited yet,  \n",
    "            # then new island found \n",
    "            if visited[i][j] == False and X[i][j] == 0: \n",
    "                # Visit all cells in this island  \n",
    "                # and increment island count \n",
    "                DFS(X, i, j, visited) \n",
    "                count += 1\n",
    "\n",
    "    return count"
   ]
  },
  {
   "cell_type": "code",
   "execution_count": 170,
   "metadata": {},
   "outputs": [],
   "source": [
    "# training dataset with extra feature \n",
    "white_area = np.zeros((x_train.shape[0],1))\n",
    "\n",
    "for i in range (x_train.shape[0]):\n",
    "    x = x_train[i]\n",
    "    white_area[i, 0] = countIslands(x)\n",
    "\n",
    "    \n",
    "x_train_dfs = x_train.reshape(x_train.shape[0], -1)/255\n",
    "x_train_dfs = np.append(x_train_dfs, white_area/3, axis = 1)"
   ]
  },
  {
   "cell_type": "code",
   "execution_count": 173,
   "metadata": {},
   "outputs": [
    {
     "data": {
      "text/plain": [
       "(60000, 785)"
      ]
     },
     "execution_count": 173,
     "metadata": {},
     "output_type": "execute_result"
    }
   ],
   "source": [
    "x_train_dfs.shape"
   ]
  },
  {
   "cell_type": "code",
   "execution_count": 174,
   "metadata": {},
   "outputs": [],
   "source": [
    "y_train = to_categorical(y_train_origin, num_classes=10) "
   ]
  },
  {
   "cell_type": "code",
   "execution_count": 178,
   "metadata": {},
   "outputs": [
    {
     "name": "stdout",
     "output_type": "stream",
     "text": [
      "Epoch 1/20\n",
      "60000/60000 [==============================] - 10s 159us/step - loss: 1.9792 - acc: 0.6635\n",
      "Epoch 2/20\n",
      "60000/60000 [==============================] - 9s 154us/step - loss: 1.4874 - acc: 0.7922\n",
      "Epoch 3/20\n",
      "60000/60000 [==============================] - 10s 163us/step - loss: 1.1670 - acc: 0.8205\n",
      "Epoch 4/20\n",
      "60000/60000 [==============================] - 9s 152us/step - loss: 0.9598 - acc: 0.8370\n",
      "Epoch 5/20\n",
      "60000/60000 [==============================] - 9s 149us/step - loss: 0.8218 - acc: 0.8495\n",
      "Epoch 6/20\n",
      "60000/60000 [==============================] - 10s 161us/step - loss: 0.7264 - acc: 0.8587\n",
      "Epoch 7/20\n",
      "60000/60000 [==============================] - 10s 161us/step - loss: 0.6575 - acc: 0.8656\n",
      "Epoch 8/20\n",
      "60000/60000 [==============================] - 10s 164us/step - loss: 0.6061 - acc: 0.8708\n",
      "Epoch 9/20\n",
      "60000/60000 [==============================] - 10s 164us/step - loss: 0.5662 - acc: 0.8757\n",
      "Epoch 10/20\n",
      "60000/60000 [==============================] - 10s 160us/step - loss: 0.5345 - acc: 0.8791\n",
      "Epoch 11/20\n",
      "60000/60000 [==============================] - 10s 163us/step - loss: 0.5086 - acc: 0.8824\n",
      "Epoch 12/20\n",
      "60000/60000 [==============================] - 8s 140us/step - loss: 0.4871 - acc: 0.8854\n",
      "Epoch 13/20\n",
      "60000/60000 [==============================] - 8s 135us/step - loss: 0.4690 - acc: 0.8883\n",
      "Epoch 14/20\n",
      "60000/60000 [==============================] - 8s 137us/step - loss: 0.4533 - acc: 0.8907\n",
      "Epoch 15/20\n",
      "60000/60000 [==============================] - 9s 142us/step - loss: 0.4398 - acc: 0.8921\n",
      "Epoch 16/20\n",
      "60000/60000 [==============================] - 10s 161us/step - loss: 0.4279 - acc: 0.8944\n",
      "Epoch 17/20\n",
      "60000/60000 [==============================] - 10s 160us/step - loss: 0.4173 - acc: 0.8959\n",
      "Epoch 18/20\n",
      "60000/60000 [==============================] - 9s 142us/step - loss: 0.4079 - acc: 0.8972\n",
      "Epoch 19/20\n",
      "60000/60000 [==============================] - 8s 140us/step - loss: 0.3995 - acc: 0.8989\n",
      "Epoch 20/20\n",
      "60000/60000 [==============================] - 8s 138us/step - loss: 0.3918 - acc: 0.8999\n"
     ]
    }
   ],
   "source": [
    "# create model\n",
    "model = Sequential()\n",
    "model.add(Dense(10, input_dim=785, activation='softmax'))\n",
    "\n",
    "model.compile(loss='categorical_crossentropy', optimizer='adam', metrics=['accuracy'])\n",
    "\n",
    "history = model.fit(x_train_dfs, y_train, epochs=20, batch_size=10)"
   ]
  },
  {
   "cell_type": "code",
   "execution_count": null,
   "metadata": {},
   "outputs": [],
   "source": []
  }
 ],
 "metadata": {
  "kernelspec": {
   "display_name": "tensorflow",
   "language": "python",
   "name": "tensorflow"
  },
  "language_info": {
   "codemirror_mode": {
    "name": "ipython",
    "version": 3
   },
   "file_extension": ".py",
   "mimetype": "text/x-python",
   "name": "python",
   "nbconvert_exporter": "python",
   "pygments_lexer": "ipython3",
   "version": "3.6.8"
  }
 },
 "nbformat": 4,
 "nbformat_minor": 2
}
