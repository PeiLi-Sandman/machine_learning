{
 "cells": [
  {
   "cell_type": "code",
   "execution_count": 109,
   "metadata": {},
   "outputs": [],
   "source": [
    "import keras\n",
    "from keras.datasets import mnist\n",
    "from keras.utils import to_categorical\n",
    "import numpy as np\n",
    "from sklearn.metrics import classification_report"
   ]
  },
  {
   "cell_type": "code",
   "execution_count": 110,
   "metadata": {},
   "outputs": [],
   "source": [
    "(x_train_origin, y_train_origin),(x_test_origin, y_test_origin) = mnist.load_data()\n",
    "num_class = 10"
   ]
  },
  {
   "cell_type": "code",
   "execution_count": 111,
   "metadata": {},
   "outputs": [],
   "source": [
    "x_train = x_train_origin.reshape((60000, 28 * 28))\n",
    "x_train = x_train.astype('float32') / 255\n",
    "\n",
    "x_test = x_test_origin.reshape((10000, 28 * 28))\n",
    "x_test = x_test.astype('float32') / 255"
   ]
  },
  {
   "cell_type": "code",
   "execution_count": 112,
   "metadata": {},
   "outputs": [],
   "source": [
    "y_train = to_categorical(y_train_origin, num_classes=10) \n",
    "y_test = to_categorical(y_test_origin, num_classes=10) "
   ]
  },
  {
   "cell_type": "code",
   "execution_count": 113,
   "metadata": {},
   "outputs": [],
   "source": [
    "y_train = y_train.reshape(num_class,y_train.shape[0])\n",
    "y_test = y_test.reshape(num_class,y_test.shape[0])"
   ]
  },
  {
   "cell_type": "code",
   "execution_count": 114,
   "metadata": {},
   "outputs": [],
   "source": [
    "x_train = x_train.reshape(x_train.shape[0], -1).T\n",
    "x_test = x_test.reshape(x_test.shape[0], -1).T"
   ]
  },
  {
   "cell_type": "code",
   "execution_count": 115,
   "metadata": {},
   "outputs": [
    {
     "data": {
      "text/plain": [
       "(784, 60000)"
      ]
     },
     "execution_count": 115,
     "metadata": {},
     "output_type": "execute_result"
    }
   ],
   "source": [
    "x_train.shape"
   ]
  },
  {
   "cell_type": "code",
   "execution_count": 116,
   "metadata": {},
   "outputs": [
    {
     "data": {
      "text/plain": [
       "(10, 60000)"
      ]
     },
     "execution_count": 116,
     "metadata": {},
     "output_type": "execute_result"
    }
   ],
   "source": [
    "y_train.shape"
   ]
  },
  {
   "cell_type": "code",
   "execution_count": 117,
   "metadata": {},
   "outputs": [],
   "source": [
    "def softmax(z):\n",
    "    \n",
    "    expz = np.exp(z)\n",
    "    s = expz / np.sum(expz, axis=0)\n",
    "    \n",
    "    return s"
   ]
  },
  {
   "cell_type": "code",
   "execution_count": 118,
   "metadata": {},
   "outputs": [],
   "source": [
    "def initialize_params_with_zeros(dim):\n",
    "    \n",
    "    w = np.zeros((dim,10))\n",
    "    b = np.zeros((10, 1))\n",
    "    \n",
    "    return w, b"
   ]
  },
  {
   "cell_type": "code",
   "execution_count": 119,
   "metadata": {},
   "outputs": [],
   "source": [
    "def propagate(w, b, X, Y):\n",
    "    \n",
    "    m = X.shape[1]\n",
    "\n",
    "    A = softmax(np.dot(w.T, X) + b)                                       \n",
    "    cost = -(1/m) * np.sum(Y * np.log(A)) \n",
    "    \n",
    "    dz = A - Y\n",
    "\n",
    "    dw = (1./m)*np.dot(X,dz.T)\n",
    "    db = (1./m)*np.sum(dz)\n",
    "\n",
    "    grads = {\"dw\": dw,\n",
    "             \"db\": db}\n",
    "    \n",
    "    return grads, cost"
   ]
  },
  {
   "cell_type": "code",
   "execution_count": 120,
   "metadata": {},
   "outputs": [],
   "source": [
    "def optimize(w, b, X, Y, num_iters, learning_rate, print_cost=False):\n",
    "   \n",
    "    costs = []\n",
    "    m = X.shape[1]\n",
    "    for i in range(num_iters):      \n",
    "        grads, cost = propagate(w, b, X, Y)\n",
    "        dw = grads[\"dw\"]\n",
    "        db = grads[\"db\"]\n",
    "        w = w - learning_rate *  dw    \n",
    "        b = b - learning_rate *  db\n",
    "        costs.append(cost)\n",
    "        print (\"Cost after iteration %i: %f\" % (i, cost))\n",
    "    \n",
    "    params = {\"w\": w,\n",
    "              \"b\": b}\n",
    "    \n",
    "    grads = {\"dw\": dw,\n",
    "             \"db\": db}\n",
    "    \n",
    "    return params, grads, costs"
   ]
  },
  {
   "cell_type": "code",
   "execution_count": 122,
   "metadata": {},
   "outputs": [],
   "source": [
    "def predict(w, b, X):\n",
    "   \n",
    "    m = X.shape[1]\n",
    "\n",
    "    w = w.reshape(X.shape[0], 10)\n",
    "    \n",
    "\n",
    "    A = softmax(np.dot(w.T, X) + b)\n",
    "    y_pred = np.argmax(A,axis=0)\n",
    "        \n",
    "    return y_pred"
   ]
  },
  {
   "cell_type": "code",
   "execution_count": 123,
   "metadata": {},
   "outputs": [],
   "source": [
    "# GRADED FUNCTION: model\n",
    "def model(x_train, y_train, x_test, y_test, num_iters=20, learning_rate=0.5, print_cost=False):\n",
    "    \n",
    "    w, b = initialize_params_with_zeros(x_train.shape[0])                          \n",
    "\n",
    "    parameters, grads, costs = optimize(w, b, x_train, y_train, num_iters, learning_rate, print_cost=True)     \n",
    "\n",
    "    w = parameters[\"w\"]\n",
    "    b = parameters[\"b\"]\n",
    "    \n",
    "\n",
    "    Y_pred_test = predict(w, b, x_test)\n",
    "    Y_pred_train = predict(w, b, x_train)\n",
    "    label_train = np.argmax(y_train, axis=0)\n",
    "    label_test = np.argmax(y_test, axis=0)\n",
    "\n",
    "    print(\"\")\n",
    "\n",
    "    #print(\"train accuracy: {} %\".format(100 - np.mean(np.abs(Y_pred_train - y_train)) * 100))\n",
    "    #print(\"test accuracy: {} %\".format(100 - np.mean(np.abs(Y_pred_test - y_test)) * 100))\n",
    "    #repr('train accuracy')\n",
    "    \n",
    "    print(\"train accuracy\", classification_report(Y_pred_train, label_train))\n",
    "    print(\"test accuracy\", classification_report(Y_pred_test, label_test))\n",
    "\n",
    "    \n",
    "    d = {\"costs\": costs,\n",
    "         \"Y_pred_test\": Y_pred_test, \n",
    "         \"Y_pred_train\" : Y_pred_train, \n",
    "         \"w\" : w, \n",
    "         \"b\" : b,\n",
    "         \"learning_rate\" : learning_rate,\n",
    "         \"num_iters\": num_iters}\n",
    "    \n",
    "    return d"
   ]
  },
  {
   "cell_type": "code",
   "execution_count": 124,
   "metadata": {},
   "outputs": [
    {
     "name": "stdout",
     "output_type": "stream",
     "text": [
      "Cost after iteration 0: 2.302585\n",
      "Cost after iteration 1: 2.302250\n",
      "Cost after iteration 2: 2.301956\n",
      "Cost after iteration 3: 2.301695\n",
      "Cost after iteration 4: 2.301459\n",
      "Cost after iteration 5: 2.301243\n",
      "Cost after iteration 6: 2.301042\n",
      "Cost after iteration 7: 2.300856\n",
      "Cost after iteration 8: 2.300680\n",
      "Cost after iteration 9: 2.300514\n",
      "Cost after iteration 10: 2.300356\n",
      "Cost after iteration 11: 2.300206\n",
      "Cost after iteration 12: 2.300062\n",
      "Cost after iteration 13: 2.299924\n",
      "Cost after iteration 14: 2.299792\n",
      "Cost after iteration 15: 2.299664\n",
      "Cost after iteration 16: 2.299540\n",
      "Cost after iteration 17: 2.299421\n",
      "Cost after iteration 18: 2.299305\n",
      "Cost after iteration 19: 2.299193\n",
      "\n",
      "train accuracy               precision    recall  f1-score   support\n",
      "\n",
      "           0       0.10      0.47      0.16      5688\n",
      "           1       0.13      0.11      0.12      6451\n",
      "           2       0.13      0.10      0.11      6190\n",
      "           3       0.10      0.08      0.09      5340\n",
      "           4       0.09      0.08      0.08      4793\n",
      "           5       0.18      0.07      0.10      9471\n",
      "           6       0.21      0.06      0.09     10741\n",
      "           7       0.09      0.06      0.07      4074\n",
      "           8       0.09      0.05      0.06      4312\n",
      "           9       0.06      0.05      0.05      2940\n",
      "\n",
      "   micro avg       0.11      0.11      0.11     60000\n",
      "   macro avg       0.12      0.11      0.09     60000\n",
      "weighted avg       0.13      0.11      0.10     60000\n",
      "\n",
      "test accuracy               precision    recall  f1-score   support\n",
      "\n",
      "           0       0.11      0.48      0.17      1010\n",
      "           1       0.10      0.09      0.10      1013\n",
      "           2       0.11      0.09      0.10       974\n",
      "           3       0.09      0.07      0.08       913\n",
      "           4       0.06      0.05      0.06       783\n",
      "           5       0.16      0.06      0.09      1612\n",
      "           6       0.20      0.06      0.09      1822\n",
      "           7       0.05      0.04      0.04       719\n",
      "           8       0.07      0.04      0.05       702\n",
      "           9       0.04      0.04      0.04       452\n",
      "\n",
      "   micro avg       0.10      0.10      0.10     10000\n",
      "   macro avg       0.10      0.10      0.08     10000\n",
      "weighted avg       0.12      0.10      0.09     10000\n",
      "\n"
     ]
    }
   ],
   "source": [
    "d = model(x_train, y_train, x_test, y_test, num_iters=20, learning_rate=0.5, print_cost=False)"
   ]
  },
  {
   "cell_type": "code",
   "execution_count": null,
   "metadata": {},
   "outputs": [],
   "source": []
  }
 ],
 "metadata": {
  "kernelspec": {
   "display_name": "tensorflow",
   "language": "python",
   "name": "tensorflow"
  },
  "language_info": {
   "codemirror_mode": {
    "name": "ipython",
    "version": 3
   },
   "file_extension": ".py",
   "mimetype": "text/x-python",
   "name": "python",
   "nbconvert_exporter": "python",
   "pygments_lexer": "ipython3",
   "version": "3.6.8"
  }
 },
 "nbformat": 4,
 "nbformat_minor": 2
}
