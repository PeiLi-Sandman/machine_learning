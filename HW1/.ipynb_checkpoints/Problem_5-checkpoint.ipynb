{
 "cells": [
  {
   "cell_type": "code",
   "execution_count": 2,
   "metadata": {},
   "outputs": [],
   "source": [
    "import keras\n",
    "from keras.datasets import mnist\n",
    "from keras.utils import to_categorical\n",
    "import numpy as np\n",
    "from sklearn.metrics import classification_report\n",
    "import keras\n",
    "from keras.datasets import mnist\n",
    "from keras.utils import to_categorical\n",
    "import numpy as np\n",
    "from keras.models import Sequential\n",
    "from keras.layers import Dense\n",
    "from sklearn.metrics import accuracy_score\n",
    "import pandas as pd\n",
    "import matplotlib.pyplot as plt\n",
    "# fix random seed for reproducibility\n",
    "np.random.seed(1)"
   ]
  },
  {
   "cell_type": "code",
   "execution_count": 22,
   "metadata": {},
   "outputs": [],
   "source": [
    "(x_train_origin, y_train_origin),(x_test_origin, y_test_origin) = mnist.load_data()"
   ]
  },
  {
   "cell_type": "code",
   "execution_count": 23,
   "metadata": {},
   "outputs": [],
   "source": [
    "# Generate a x_train which 1 == black, 0 == white\n",
    "x_train = ((x_train_origin/255)>0.5)*1\n",
    "x_test = ((x_test_origin/255)>0.5)*1"
   ]
  },
  {
   "cell_type": "code",
   "execution_count": 24,
   "metadata": {},
   "outputs": [],
   "source": [
    "y_train = to_categorical(y_train_origin, num_classes=10) \n",
    "y_test = to_categorical(y_test_origin, num_classes=10) "
   ]
  },
  {
   "cell_type": "code",
   "execution_count": 18,
   "metadata": {},
   "outputs": [],
   "source": [
    "def whether_visited(X, i, j, visited): \n",
    "        # row number is in range, column number \n",
    "        # is in range and value is 0  \n",
    "        # and not yet visited\n",
    "        row = X.shape[0]\n",
    "        col = X.shape[1]\n",
    "        return (i >= 0 and i < row and \n",
    "                j >= 0 and j < col and \n",
    "                not visited[i][j] and X[i][j] == 0) "
   ]
  },
  {
   "cell_type": "code",
   "execution_count": 19,
   "metadata": {},
   "outputs": [],
   "source": [
    "def DFS(X, i, j, visited): \n",
    "  \n",
    "        # These arrays are used to get row and  \n",
    "        # column numbers of 8 neighbours  \n",
    "        # of a given cell \n",
    "        rowNbr = [-1, -1, -1,  0, 0,  1, 1, 1]; \n",
    "        colNbr = [-1,  0,  1, -1, 1, -1, 0, 1]; \n",
    "          \n",
    "        # Mark this cell as visited \n",
    "        visited[i][j] = True\n",
    "  \n",
    "        # Recur for all connected neighbours \n",
    "        for k in range(8): \n",
    "            if whether_visited(X, i + rowNbr[k], j + colNbr[k], visited): \n",
    "                DFS(X, i + rowNbr[k], j + colNbr[k], visited)"
   ]
  },
  {
   "cell_type": "code",
   "execution_count": 20,
   "metadata": {},
   "outputs": [],
   "source": [
    "def countwhite(X): \n",
    "    # Make a bool array to mark visited cells. \n",
    "\n",
    "    row = X.shape[0]\n",
    "    col = X.shape[1]    \n",
    "    visited = [[False for j in range(col)]for i in range(row)] \n",
    "\n",
    "    # Initialize count as 0 and travese  \n",
    "    # through the all cells of \n",
    "    # given matrix \n",
    "    count = 0\n",
    "    for i in range(row): \n",
    "        for j in range(col): \n",
    "            # If a cell with value 1 is not visited yet,  \n",
    "            # then new island found \n",
    "            if visited[i][j] == False and X[i][j] == 0: \n",
    "                # Visit all cells in this island  \n",
    "                # and increment island count \n",
    "                DFS(X, i, j, visited) \n",
    "                count += 1\n",
    "\n",
    "    return count"
   ]
  },
  {
   "cell_type": "code",
   "execution_count": 27,
   "metadata": {},
   "outputs": [],
   "source": [
    "# Get the white count for x_train\n",
    "white_area = np.zeros((x_train.shape[0],1))\n",
    "\n",
    "for i in range (x_train.shape[0]):\n",
    "    x = x_train[i]\n",
    "    white_area[i, 0] = countwhite(x)"
   ]
  },
  {
   "cell_type": "code",
   "execution_count": 28,
   "metadata": {},
   "outputs": [],
   "source": [
    "# Add a new feature to original x_train\n",
    "x_train = x_train_origin.reshape((60000, 28 * 28))\n",
    "x_train = x_train.astype('float32') / 255\n",
    "\n",
    "x_train = np.append(x_train, white_area/3, axis = 1)"
   ]
  },
  {
   "cell_type": "code",
   "execution_count": 25,
   "metadata": {},
   "outputs": [],
   "source": [
    "# Get the white count for x_test\n",
    "white_area = np.zeros((x_test.shape[0],1))\n",
    "\n",
    "for i in range (x_test.shape[0]):\n",
    "    x = x_test[i]\n",
    "    white_area[i, 0] = countwhite(x)"
   ]
  },
  {
   "cell_type": "code",
   "execution_count": 26,
   "metadata": {},
   "outputs": [],
   "source": [
    "# Add a new feature to original x_test\n",
    "x_test = x_test_origin.reshape((10000, 28 * 28))\n",
    "x_test = x_test.astype('float32') / 255\n",
    "\n",
    "x_test = np.append(x_test, white_area/3, axis = 1)"
   ]
  },
  {
   "cell_type": "code",
   "execution_count": 30,
   "metadata": {},
   "outputs": [
    {
     "name": "stdout",
     "output_type": "stream",
     "text": [
      "Train on 60000 samples, validate on 10000 samples\n",
      "Epoch 1/20\n",
      "60000/60000 [==============================] - 1s 10us/step - loss: 2.0856 - acc: 0.2686 - val_loss: 1.8182 - val_acc: 0.4705\n",
      "Epoch 2/20\n",
      "60000/60000 [==============================] - 0s 8us/step - loss: 1.6499 - acc: 0.5820 - val_loss: 1.4835 - val_acc: 0.6718\n",
      "Epoch 3/20\n",
      "60000/60000 [==============================] - 0s 8us/step - loss: 1.3813 - acc: 0.7057 - val_loss: 1.2625 - val_acc: 0.7391\n",
      "Epoch 4/20\n",
      "60000/60000 [==============================] - 0s 8us/step - loss: 1.2005 - acc: 0.7537 - val_loss: 1.1105 - val_acc: 0.7752\n",
      "Epoch 5/20\n",
      "60000/60000 [==============================] - 0s 8us/step - loss: 1.0733 - acc: 0.7805 - val_loss: 1.0013 - val_acc: 0.7969\n",
      "Epoch 6/20\n",
      "60000/60000 [==============================] - 0s 8us/step - loss: 0.9799 - acc: 0.7989 - val_loss: 0.9195 - val_acc: 0.8105\n",
      "Epoch 7/20\n",
      "60000/60000 [==============================] - 1s 8us/step - loss: 0.9084 - acc: 0.8112 - val_loss: 0.8559 - val_acc: 0.8229\n",
      "Epoch 8/20\n",
      "60000/60000 [==============================] - 1s 8us/step - loss: 0.8521 - acc: 0.8206 - val_loss: 0.8051 - val_acc: 0.8313\n",
      "Epoch 9/20\n",
      "60000/60000 [==============================] - 1s 9us/step - loss: 0.8065 - acc: 0.8268 - val_loss: 0.7636 - val_acc: 0.8395\n",
      "Epoch 10/20\n",
      "60000/60000 [==============================] - 1s 8us/step - loss: 0.7688 - acc: 0.8331 - val_loss: 0.7290 - val_acc: 0.8445\n",
      "Epoch 11/20\n",
      "60000/60000 [==============================] - 0s 8us/step - loss: 0.7370 - acc: 0.8378 - val_loss: 0.6996 - val_acc: 0.8495\n",
      "Epoch 12/20\n",
      "60000/60000 [==============================] - 0s 8us/step - loss: 0.7098 - acc: 0.8420 - val_loss: 0.6743 - val_acc: 0.8528\n",
      "Epoch 13/20\n",
      "60000/60000 [==============================] - 1s 10us/step - loss: 0.6863 - acc: 0.8457 - val_loss: 0.6524 - val_acc: 0.8560\n",
      "Epoch 14/20\n",
      "60000/60000 [==============================] - 1s 9us/step - loss: 0.6656 - acc: 0.8486 - val_loss: 0.6330 - val_acc: 0.8592\n",
      "Epoch 15/20\n",
      "60000/60000 [==============================] - 0s 8us/step - loss: 0.6474 - acc: 0.8515 - val_loss: 0.6159 - val_acc: 0.8624\n",
      "Epoch 16/20\n",
      "60000/60000 [==============================] - 1s 10us/step - loss: 0.6312 - acc: 0.8539 - val_loss: 0.6006 - val_acc: 0.8641\n",
      "Epoch 17/20\n",
      "60000/60000 [==============================] - 0s 8us/step - loss: 0.6166 - acc: 0.8561 - val_loss: 0.5869 - val_acc: 0.8666\n",
      "Epoch 18/20\n",
      "60000/60000 [==============================] - 0s 8us/step - loss: 0.6034 - acc: 0.8583 - val_loss: 0.5744 - val_acc: 0.8692\n",
      "Epoch 19/20\n",
      "60000/60000 [==============================] - 0s 8us/step - loss: 0.5915 - acc: 0.8603 - val_loss: 0.5630 - val_acc: 0.8719\n",
      "Epoch 20/20\n",
      "60000/60000 [==============================] - 0s 8us/step - loss: 0.5805 - acc: 0.8622 - val_loss: 0.5526 - val_acc: 0.8734\n"
     ]
    }
   ],
   "source": [
    "# create model\n",
    "model = Sequential()\n",
    "model.add(Dense(10, input_dim=785, activation='softmax'))\n",
    "\n",
    "model.compile(loss='categorical_crossentropy', optimizer='SGD', metrics=['accuracy'])\n",
    "\n",
    "history = model.fit(x_train, y_train, validation_data=(x_test,y_test), epochs=20, batch_size=1000)"
   ]
  },
  {
   "cell_type": "code",
   "execution_count": 31,
   "metadata": {},
   "outputs": [
    {
     "data": {
      "image/png": "[encoded data removed]",
      "text/plain": [
       "<Figure size 432x288 with 1 Axes>"
      ]
     },
     "metadata": {
      "needs_background": "light"
     },
     "output_type": "display_data"
    },
    {
     "data": {
      "image/png": "[encoded data removed]",
      "text/plain": [
       "<Figure size 432x288 with 1 Axes>"
      ]
     },
     "metadata": {
      "needs_background": "light"
     },
     "output_type": "display_data"
    }
   ],
   "source": [
    "# summarize history for accuracy\n",
    "plt.plot(history.history['acc'])\n",
    "plt.plot(history.history['val_acc'])\n",
    "plt.title('model accuracy')\n",
    "plt.ylabel('accuracy')\n",
    "plt.xlabel('epoch')\n",
    "plt.legend(['train', 'test'], loc='upper left')\n",
    "plt.show()\n",
    "# summarize history for loss\n",
    "plt.plot(history.history['loss'])\n",
    "plt.plot(history.history['val_loss'])\n",
    "plt.title('model loss')\n",
    "plt.ylabel('loss')\n",
    "plt.xlabel('epoch')\n",
    "plt.legend(['train', 'test'], loc='upper left')\n",
    "plt.show()"
   ]
  },
  {
   "cell_type": "code",
   "execution_count": null,
   "metadata": {},
   "outputs": [],
   "source": []
  }
 ],
 "metadata": {
  "kernelspec": {
   "display_name": "tensorflow",
   "language": "python",
   "name": "tensorflow"
  },
  "language_info": {
   "codemirror_mode": {
    "name": "ipython",
    "version": 3
   },
   "file_extension": ".py",
   "mimetype": "text/x-python",
   "name": "python",
   "nbconvert_exporter": "python",
   "pygments_lexer": "ipython3",
   "version": "3.6.8"
  }
 },
 "nbformat": 4,
 "nbformat_minor": 2
}
