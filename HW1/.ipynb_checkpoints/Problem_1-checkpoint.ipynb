{
 "cells": [
  {
   "cell_type": "code",
   "execution_count": 1,
   "metadata": {},
   "outputs": [
    {
     "name": "stderr",
     "output_type": "stream",
     "text": [
      "Using TensorFlow backend.\n"
     ]
    }
   ],
   "source": [
    "import keras\n",
    "from keras.datasets import mnist\n",
    "from keras import backend as K\n",
    "import numpy as np"
   ]
  },
  {
   "cell_type": "code",
   "execution_count": 2,
   "metadata": {},
   "outputs": [],
   "source": [
    "(x_train_origin, y_train_origin),(x_test_origin, y_test_origin) = mnist.load_data()"
   ]
  },
  {
   "cell_type": "code",
   "execution_count": 3,
   "metadata": {},
   "outputs": [],
   "source": [
    "# if digit == 1, then label = 1, else label = 0\n",
    "func = lambda x: 1 if x == 1 else 0"
   ]
  },
  {
   "cell_type": "code",
   "execution_count": 4,
   "metadata": {},
   "outputs": [],
   "source": [
    "x_train = x_train_origin.reshape((60000, 28 * 28))\n",
    "x_test = x_test_origin.reshape((10000, 28 * 28))"
   ]
  },
  {
   "cell_type": "code",
   "execution_count": 5,
   "metadata": {},
   "outputs": [],
   "source": [
    "y_train = np.array([func(y) for y in y_train_origin])\n",
    "y_test = np.array([func(y) for y in y_test_origin])"
   ]
  },
  {
   "cell_type": "code",
   "execution_count": 6,
   "metadata": {},
   "outputs": [],
   "source": [
    "x_train = x_train.reshape(x_train.shape[0], -1).T\n",
    "x_test = x_test.reshape(x_test.shape[0], -1).T\n",
    "\n",
    "y_train = y_train.reshape(1,y_train.shape[0])\n",
    "y_test = y_test.reshape(1,y_test.shape[0])"
   ]
  },
  {
   "cell_type": "code",
   "execution_count": 7,
   "metadata": {},
   "outputs": [],
   "source": [
    "x_train = x_train.astype('float32') / 255.\n",
    "x_test = x_test.astype('float32') / 255."
   ]
  },
  {
   "cell_type": "code",
   "execution_count": 8,
   "metadata": {},
   "outputs": [],
   "source": [
    "def sigmoid(z):\n",
    "    \n",
    "    s = 1.0/(1.0 + np.exp(-z))\n",
    "    \n",
    "    return s"
   ]
  },
  {
   "cell_type": "code",
   "execution_count": 9,
   "metadata": {},
   "outputs": [],
   "source": [
    "def initialize_params_with_zeros(dim):\n",
    "    \n",
    "    w = np.zeros((dim,1))\n",
    "    b = 0\n",
    "    \n",
    "    assert(w.shape == (dim, 1))\n",
    "    assert(isinstance(b, float) or isinstance(b, int))\n",
    "    \n",
    "    return w, b"
   ]
  },
  {
   "cell_type": "code",
   "execution_count": 10,
   "metadata": {},
   "outputs": [],
   "source": [
    "def propagate(w, b, X, Y):\n",
    "    \n",
    "    m = X.shape[1]\n",
    "\n",
    "    A = sigmoid(np.dot(w.T, X) + b)\n",
    "    # MSE Loss Function\n",
    "    loss = (1/m) * np.sum(np.square(Y - A))\n",
    "    \n",
    "    dL = 2*(A - Y)\n",
    "    dA = A * (1 - A) * dL\n",
    "    \n",
    "    # Derivative of w and d\n",
    "    dw = (1/m) * np.dot(X, dA.T)\n",
    "    db = (1/m) * np.sum(dA)\n",
    "\n",
    "    grads = {\"dw\": dw,\n",
    "             \"db\": db}\n",
    "    return grads, loss"
   ]
  },
  {
   "cell_type": "code",
   "execution_count": 11,
   "metadata": {},
   "outputs": [],
   "source": [
    "def optimize(w, b, X, Y, num_iters, batch_size, learning_rate, print_cost):\n",
    "   \n",
    "    costs = []\n",
    "    m = X.shape[1]\n",
    "    for i in range(num_iters):\n",
    "        #cost_batch is used to collect the cost during one iteration over different batches\n",
    "        cost_batch = []\n",
    "        #stochastic gradient descent\n",
    "        shuffled_indices = np.random.permutation(m)\n",
    "        X_shuffled = X[:,shuffled_indices]\n",
    "        y_shuffled = Y[:,shuffled_indices]\n",
    "        #apply mini-batch\n",
    "        for j in range(0, m, batch_size):\n",
    "            x_batch = X_shuffled[:, j:j+batch_size]\n",
    "            y_batch = y_shuffled[:, j:j+batch_size]\n",
    "            grads, cost = propagate(w, b, x_batch, y_batch)\n",
    "            dw = grads[\"dw\"]\n",
    "            db = grads[\"db\"]\n",
    "            w = w - learning_rate *  dw    \n",
    "            b = b - learning_rate *  db\n",
    "            cost_batch.append(cost)\n",
    "            # the cost of one iteration is the average number over batches\n",
    "            cost = np.mean(cost_batch)\n",
    "        costs.append(cost)            \n",
    "        if print_cost:\n",
    "            print (\"Cost after iteration %i: %f\" % (i+1, cost))\n",
    "    \n",
    "    params = {\"w\": w,\n",
    "              \"b\": b}\n",
    "    \n",
    "    grads = {\"dw\": dw,\n",
    "             \"db\": db}\n",
    "    \n",
    "    return params, grads, costs"
   ]
  },
  {
   "cell_type": "code",
   "execution_count": 12,
   "metadata": {},
   "outputs": [],
   "source": [
    "def predict(w, b, X):\n",
    "   \n",
    "    m = X.shape[1]\n",
    "    Y_pred = np.zeros((1, m))\n",
    "    w = w.reshape(X.shape[0], 1)\n",
    "    \n",
    "\n",
    "    A = sigmoid(np.dot(w.T, X) + b)\n",
    "\n",
    "    for i in range(A.shape[1]):\n",
    "        if A[0][i] <= 0.5:\n",
    "            Y_pred[0, i] = 0\n",
    "        else:\n",
    "            Y_pred[0, i] = 1\n",
    "                \n",
    "    assert(Y_pred.shape == (1, m))\n",
    "    \n",
    "    return Y_pred"
   ]
  },
  {
   "cell_type": "code",
   "execution_count": 13,
   "metadata": {},
   "outputs": [],
   "source": [
    "def model(x_train, y_train, x_test, y_test, num_iters=20, batch_size = 5, learning_rate=0.5, print_cost=False):\n",
    "    \n",
    "    w, b = initialize_params_with_zeros(x_train.shape[0])                          \n",
    "\n",
    "    parameters, grads, costs = optimize(w, b, x_train, y_train, num_iters, batch_size, learning_rate, print_cost)     \n",
    "\n",
    "    w = parameters[\"w\"]\n",
    "    b = parameters[\"b\"]\n",
    "    \n",
    "\n",
    "    Y_pred_test = predict(w, b, x_test)\n",
    "    Y_pred_train = predict(w, b, x_train)\n",
    "\n",
    "    print(\"\")\n",
    "    \n",
    "    train_accuracy =  100 - np.mean(np.abs(Y_pred_train - y_train)) * 100\n",
    "    test_accuracy = 100 - np.mean(np.abs(Y_pred_test - y_test)) * 100\n",
    "    \n",
    "    print(\"train accuracy: {} %\".format(train_accuracy))\n",
    "    print(\"test accuracy: {} %\".format(test_accuracy))\n",
    "    repr('train accuracy')\n",
    "    \n",
    "    d = {\"costs\": costs,\n",
    "         \"Y_pred_test\": Y_pred_test, \n",
    "         \"Y_pred_train\" : Y_pred_train, \n",
    "         \"w\" : w, \n",
    "         \"b\" : b,\n",
    "         \"learning_rate\" : learning_rate,\n",
    "         \"num_iters\": num_iters}\n",
    "    \n",
    "    return d, train_accuracy, test_accuracy"
   ]
  },
  {
   "cell_type": "code",
   "execution_count": 14,
   "metadata": {},
   "outputs": [
    {
     "name": "stdout",
     "output_type": "stream",
     "text": [
      "Cost after iteration 1: 0.108243\n",
      "Cost after iteration 2: 0.044270\n",
      "Cost after iteration 3: 0.032043\n",
      "Cost after iteration 4: 0.027128\n",
      "Cost after iteration 5: 0.024195\n",
      "Cost after iteration 6: 0.022204\n",
      "Cost after iteration 7: 0.020742\n",
      "Cost after iteration 8: 0.019615\n",
      "Cost after iteration 9: 0.018708\n",
      "Cost after iteration 10: 0.017958\n",
      "\n",
      "train accuracy: 98.475 %\n",
      "test accuracy: 98.75 %\n"
     ]
    }
   ],
   "source": [
    "# the accuracy for number 1\n",
    "d, train, test = model(x_train, y_train, x_test, y_test, num_iters=10, batch_size=10000, learning_rate=0.5, print_cost=True)"
   ]
  },
  {
   "cell_type": "code",
   "execution_count": 16,
   "metadata": {},
   "outputs": [
    {
     "name": "stdout",
     "output_type": "stream",
     "text": [
      "\n",
      " the accuracy of number 0\n",
      "\n",
      "train accuracy: 98.19166666666666 %\n",
      "test accuracy: 98.3 %\n",
      "\n",
      " the accuracy of number 1\n",
      "\n",
      "train accuracy: 98.48 %\n",
      "test accuracy: 98.75 %\n",
      "\n",
      " the accuracy of number 2\n",
      "\n",
      "train accuracy: 96.275 %\n",
      "test accuracy: 96.24 %\n",
      "\n",
      " the accuracy of number 3\n",
      "\n",
      "train accuracy: 95.76833333333333 %\n",
      "test accuracy: 96.06 %\n",
      "\n",
      " the accuracy of number 4\n",
      "\n",
      "train accuracy: 96.81 %\n",
      "test accuracy: 96.77 %\n",
      "\n",
      " the accuracy of number 5\n",
      "\n",
      "train accuracy: 93.785 %\n",
      "test accuracy: 94.08 %\n",
      "\n",
      " the accuracy of number 6\n",
      "\n",
      "train accuracy: 97.78 %\n",
      "test accuracy: 97.77 %\n",
      "\n",
      " the accuracy of number 7\n",
      "\n",
      "train accuracy: 97.54333333333334 %\n",
      "test accuracy: 97.56 %\n",
      "\n",
      " the accuracy of number 8\n",
      "\n",
      "train accuracy: 92.16666666666667 %\n",
      "test accuracy: 91.91 %\n",
      "\n",
      " the accuracy of number 9\n",
      "\n",
      "train accuracy: 93.79 %\n",
      "test accuracy: 94.2 %\n"
     ]
    }
   ],
   "source": [
    "# the accuracy for number 0 to number 9\n",
    "\n",
    "for i in range(10):\n",
    "# if digit == i, then label = 1, else label = 0\n",
    "    func = lambda x: 1 if x == i else 0\n",
    "    y_train = np.array([func(y) for y in y_train_origin])\n",
    "    y_test = np.array([func(y) for y in y_test_origin])\n",
    "    \n",
    "    y_train = y_train.reshape(1,y_train.shape[0])\n",
    "    y_test = y_test.reshape(1,y_test.shape[0])\n",
    "    \n",
    "    print(\"\\n\", \"the accuracy of number {}\".format(i))\n",
    "    \n",
    "    d, train, test = model(x_train, y_train, x_test, y_test, num_iters=10, batch_size=10000, learning_rate=0.5, print_cost=False)\n",
    "    \n"
   ]
  },
  {
   "cell_type": "code",
   "execution_count": null,
   "metadata": {},
   "outputs": [],
   "source": []
  }
 ],
 "metadata": {
  "kernelspec": {
   "display_name": "tensorflow",
   "language": "python",
   "name": "tensorflow"
  },
  "language_info": {
   "codemirror_mode": {
    "name": "ipython",
    "version": 3
   },
   "file_extension": ".py",
   "mimetype": "text/x-python",
   "name": "python",
   "nbconvert_exporter": "python",
   "pygments_lexer": "ipython3",
   "version": "3.6.8"
  }
 },
 "nbformat": 4,
 "nbformat_minor": 2
}
